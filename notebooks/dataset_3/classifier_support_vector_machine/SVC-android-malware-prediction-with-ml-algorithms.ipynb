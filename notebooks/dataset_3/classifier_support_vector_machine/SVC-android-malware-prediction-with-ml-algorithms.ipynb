{
 "cells": [
  {
   "cell_type": "markdown",
   "metadata": {},
   "source": [
    "# Data Cleansing and Preparation:\n",
    "## The initial data cleansing and preparation steps were followed by the work in the source below:\n",
    "### https://www.kaggle.com/code/okanulu/android-malware-prediction-with-ml-algorithms\n",
    "## The choice to use only Android_SMS_Malware and Benign labels along with the Support Vector classifier Machine model implementation, analysis, and evaluation are uniue to this notebook.t"
   ]
  },
  {
   "cell_type": "code",
   "execution_count": 4,
   "metadata": {
    "_cell_guid": "b1076dfc-b9ad-4769-8c92-a6c4dae69d19",
    "_uuid": "8f2839f25d086af736a60e9eeb907d3b93b6e0e5"
   },
   "outputs": [],
   "source": [
    "# This Python 3 environment comes with many helpful analytics libraries installed\n",
    "# It is defined by the kaggle/python Docker image: https://github.com/kaggle/docker-python\n",
    "# For example, here's several helpful packages to load\n",
    "\n",
    "import numpy as np # linear algebra\n",
    "import pandas as pd # data processing, CSV file I/O (e.g. pd.read_csv)\n",
    "\n",
    "# Input data files are available in the read-only \"../input/\" directory\n",
    "# For example, running this (by clicking run or pressing Shift+Enter) will list all files under the input directory\n",
    "\n",
    "import os\n",
    "for dirname, _, filenames in os.walk('/kaggle/input'):\n",
    "    for filename in filenames:\n",
    "        print(os.path.join(dirname, filename))\n",
    "\n",
    "# You can write up to 20GB to the current directory (/kaggle/working/) that gets preserved as output when you create a version using \"Save & Run All\" \n",
    "# You can also write temporary files to /kaggle/temp/, but they won't be saved outside of the current session"
   ]
  },
  {
   "cell_type": "code",
   "execution_count": 6,
   "metadata": {},
   "outputs": [],
   "source": [
    "import pandas as pd\n",
    "import numpy as np\n",
    "np.random.seed(0)\n",
    "import matplotlib.pyplot as plt\n",
    "from sklearn.preprocessing import LabelEncoder\n",
    "from sklearn.utils import resample\n",
    "import seaborn as sns\n",
    "import matplotlib.pyplot as plt\n",
    "from sklearn.model_selection import train_test_split"
   ]
  },
  {
   "cell_type": "code",
   "execution_count": 7,
   "metadata": {},
   "outputs": [],
   "source": [
    "from sklearn.ensemble import RandomForestClassifier\n",
    "from sklearn.tree import DecisionTreeClassifier\n",
    "from sklearn.metrics import classification_report, roc_curve, auc\n",
    "from sklearn.exceptions import ConvergenceWarning, UndefinedMetricWarning\n",
    "from sklearn.ensemble import GradientBoostingClassifier, AdaBoostClassifier\n",
    "from sklearn.naive_bayes import GaussianNB, MultinomialNB\n",
    "from sklearn.neural_network import MLPClassifier\n",
    "from sklearn.ensemble import BaggingClassifier\n",
    "from sklearn.metrics import confusion_matrix\n",
    "import warnings"
   ]
  },
  {
   "cell_type": "code",
   "execution_count": 10,
   "metadata": {},
   "outputs": [
    {
     "name": "stderr",
     "output_type": "stream",
     "text": [
      "C:\\Users\\grace\\AppData\\Local\\Temp\\ipykernel_14056\\4204408830.py:1: DtypeWarning: Columns (56,58,63) have mixed types. Specify dtype option on import or set low_memory=False.\n",
      "  data = pd.read_csv(\"../../../data/Android_Malware.csv\")\n"
     ]
    },
    {
     "name": "stdout",
     "output_type": "stream",
     "text": [
      "        Unnamed: 0                                  Flow ID     Source IP  \\\n",
      "0                0    172.217.6.202-10.42.0.211-443-50004-6   10.42.0.211   \n",
      "1                1    172.217.6.202-10.42.0.211-443-35455-6   10.42.0.211   \n",
      "2                2    131.253.61.68-10.42.0.211-443-51775-6   10.42.0.211   \n",
      "3                3    131.253.61.68-10.42.0.211-443-51775-6   10.42.0.211   \n",
      "4                4    131.253.61.68-10.42.0.211-443-51776-6   10.42.0.211   \n",
      "...            ...                                      ...           ...   \n",
      "355625         405      172.217.7.14-10.42.0.211-80-38405-6  172.217.7.14   \n",
      "355626         406         10.42.0.211-10.42.0.1-7632-53-17   10.42.0.211   \n",
      "355627         407  10.42.0.211-104.192.110.245-45970-443-6   10.42.0.211   \n",
      "355628         408        10.42.0.211-10.42.0.1-51982-53-17   10.42.0.211   \n",
      "355629         409         10.42.0.211-10.42.0.1-9320-53-17   10.42.0.211   \n",
      "\n",
      "         Source Port   Destination IP   Destination Port   Protocol  \\\n",
      "0              50004    172.217.6.202              443.0        6.0   \n",
      "1              35455    172.217.6.202              443.0        6.0   \n",
      "2              51775    131.253.61.68              443.0        6.0   \n",
      "3              51775    131.253.61.68              443.0        6.0   \n",
      "4              51776    131.253.61.68              443.0        6.0   \n",
      "...              ...              ...                ...        ...   \n",
      "355625            80      10.42.0.211            38405.0        6.0   \n",
      "355626          7632        10.42.0.1               53.0       17.0   \n",
      "355627         45970  104.192.110.245              443.0        6.0   \n",
      "355628         51982        10.42.0.1               53.0       17.0   \n",
      "355629          9320        10.42.0.1               53.0       17.0   \n",
      "\n",
      "                  Timestamp   Flow Duration   Total Fwd Packets  ...  \\\n",
      "0       13/06/2017 11:52:39           37027                   1  ...   \n",
      "1       13/06/2017 11:52:39           36653                   1  ...   \n",
      "2       13/06/2017 11:52:42          534099                   8  ...   \n",
      "3       13/06/2017 11:52:43            9309                   3  ...   \n",
      "4       13/06/2017 11:52:42        19890496                   8  ...   \n",
      "...                     ...             ...                 ...  ...   \n",
      "355625  17/06/2017 01:29:11          126711                   1  ...   \n",
      "355626  17/06/2017 01:30:33           48012                   1  ...   \n",
      "355627  17/06/2017 01:29:45        20028018                  11  ...   \n",
      "355628  17/06/2017 01:29:45          347926                   1  ...   \n",
      "355629  17/06/2017 01:30:33          125473                   1  ...   \n",
      "\n",
      "         min_seg_size_forward  Active Mean   Active Std   Active Max  \\\n",
      "0                        32.0          0.0          0.0          0.0   \n",
      "1                        32.0          0.0          0.0          0.0   \n",
      "2                        20.0          0.0          0.0          0.0   \n",
      "3                        20.0          0.0          0.0          0.0   \n",
      "4                        20.0          0.0          0.0          0.0   \n",
      "...                       ...          ...          ...          ...   \n",
      "355625                   32.0          0.0          0.0          0.0   \n",
      "355626                   32.0          0.0          0.0          0.0   \n",
      "355627                   20.0     367528.0          0.0     367528.0   \n",
      "355628                   20.0          0.0          0.0          0.0   \n",
      "355629                   32.0          0.0          0.0          0.0   \n",
      "\n",
      "         Active Min   Idle Mean   Idle Std    Idle Max    Idle Min  \\\n",
      "0               0.0         0.0        0.0         0.0         0.0   \n",
      "1               0.0         0.0        0.0         0.0         0.0   \n",
      "2               0.0         0.0        0.0         0.0         0.0   \n",
      "3               0.0         0.0        0.0         0.0         0.0   \n",
      "4               0.0         0.0        0.0         0.0         0.0   \n",
      "...             ...         ...        ...         ...         ...   \n",
      "355625          0.0         0.0        0.0         0.0         0.0   \n",
      "355626          0.0         0.0        0.0         0.0         0.0   \n",
      "355627     367528.0  19660490.0        0.0  19660490.0  19660490.0   \n",
      "355628          0.0         0.0        0.0         0.0         0.0   \n",
      "355629          0.0         0.0        0.0         0.0         0.0   \n",
      "\n",
      "                 Label  \n",
      "0       Android_Adware  \n",
      "1       Android_Adware  \n",
      "2       Android_Adware  \n",
      "3       Android_Adware  \n",
      "4       Android_Adware  \n",
      "...                ...  \n",
      "355625          Benign  \n",
      "355626          Benign  \n",
      "355627          Benign  \n",
      "355628          Benign  \n",
      "355629          Benign  \n",
      "\n",
      "[355630 rows x 86 columns]\n"
     ]
    }
   ],
   "source": [
    "data = pd.read_csv(\"../../../data/Android_Malware.csv\")\n",
    "print(data)\n",
    "data = data.drop(' Timestamp', axis=1)"
   ]
  },
  {
   "cell_type": "code",
   "execution_count": 12,
   "metadata": {},
   "outputs": [
    {
     "name": "stdout",
     "output_type": "stream",
     "text": [
      "['Unnamed: 0', 'Flow ID', ' Source IP', ' Source Port', ' Destination IP', ' Destination Port', ' Protocol', ' Flow Duration', ' Total Fwd Packets', ' Total Backward Packets', 'Total Length of Fwd Packets', ' Total Length of Bwd Packets', ' Fwd Packet Length Max', ' Fwd Packet Length Min', ' Fwd Packet Length Mean', ' Fwd Packet Length Std', 'Bwd Packet Length Max', ' Bwd Packet Length Min', ' Bwd Packet Length Mean', ' Bwd Packet Length Std', 'Flow Bytes/s', ' Flow Packets/s', ' Flow IAT Mean', ' Flow IAT Std', ' Flow IAT Max', ' Flow IAT Min', 'Fwd IAT Total', ' Fwd IAT Mean', ' Fwd IAT Std', ' Fwd IAT Max', ' Fwd IAT Min', 'Bwd IAT Total', ' Bwd IAT Mean', ' Bwd IAT Std', ' Bwd IAT Max', ' Bwd IAT Min', 'Fwd PSH Flags', ' Bwd PSH Flags', ' Fwd URG Flags', ' Bwd URG Flags', ' Fwd Header Length', ' Bwd Header Length', 'Fwd Packets/s', ' Bwd Packets/s', ' Min Packet Length', ' Max Packet Length', ' Packet Length Mean', ' Packet Length Std', ' Packet Length Variance', 'FIN Flag Count', ' SYN Flag Count', ' RST Flag Count', ' PSH Flag Count', ' ACK Flag Count', ' URG Flag Count', ' CWE Flag Count', ' ECE Flag Count', ' Down/Up Ratio', ' Average Packet Size', ' Avg Fwd Segment Size', ' Avg Bwd Segment Size', ' Fwd Header Length.1', 'Fwd Avg Bytes/Bulk', ' Fwd Avg Packets/Bulk', ' Fwd Avg Bulk Rate', ' Bwd Avg Bytes/Bulk', ' Bwd Avg Packets/Bulk', 'Bwd Avg Bulk Rate', 'Subflow Fwd Packets', ' Subflow Fwd Bytes', ' Subflow Bwd Packets', ' Subflow Bwd Bytes', 'Init_Win_bytes_forward', ' Init_Win_bytes_backward', ' act_data_pkt_fwd', ' min_seg_size_forward', 'Active Mean', ' Active Std', ' Active Max', ' Active Min', 'Idle Mean', ' Idle Std', ' Idle Max', ' Idle Min', 'Label']\n"
     ]
    }
   ],
   "source": [
    "print(data.columns.tolist())"
   ]
  },
  {
   "cell_type": "code",
   "execution_count": 14,
   "metadata": {},
   "outputs": [
    {
     "name": "stdout",
     "output_type": "stream",
     "text": [
      "Label\n",
      "Android_Adware         147443\n",
      "Android_Scareware      117082\n",
      "Android_SMS_Malware     67397\n",
      "Benign                  23708\n",
      "Name: count, dtype: int64\n",
      "['Android_Adware', 'Android_SMS_Malware', 'Android_Scareware', 'Benign']\n"
     ]
    }
   ],
   "source": [
    "print(data['Label'].value_counts())\n",
    "names=sorted(data['Label'].unique().tolist())\n",
    "print(names)"
   ]
  },
  {
   "cell_type": "code",
   "execution_count": 16,
   "metadata": {},
   "outputs": [
    {
     "name": "stdout",
     "output_type": "stream",
     "text": [
      "Unnamed: 0           int64\n",
      "Flow ID             object\n",
      " Source IP          object\n",
      " Source Port         int64\n",
      " Destination IP     object\n",
      "                    ...   \n",
      "Idle Mean          float64\n",
      " Idle Std          float64\n",
      " Idle Max          float64\n",
      " Idle Min          float64\n",
      "Label               object\n",
      "Length: 85, dtype: object\n"
     ]
    }
   ],
   "source": [
    "print(data.dtypes)"
   ]
  },
  {
   "cell_type": "code",
   "execution_count": 18,
   "metadata": {},
   "outputs": [
    {
     "data": {
      "text/html": [
       "<div>\n",
       "<style scoped>\n",
       "    .dataframe tbody tr th:only-of-type {\n",
       "        vertical-align: middle;\n",
       "    }\n",
       "\n",
       "    .dataframe tbody tr th {\n",
       "        vertical-align: top;\n",
       "    }\n",
       "\n",
       "    .dataframe thead th {\n",
       "        text-align: right;\n",
       "    }\n",
       "</style>\n",
       "<table border=\"1\" class=\"dataframe\">\n",
       "  <thead>\n",
       "    <tr style=\"text-align: right;\">\n",
       "      <th></th>\n",
       "      <th>Unnamed: 0</th>\n",
       "      <th>Flow ID</th>\n",
       "      <th>Source IP</th>\n",
       "      <th>Source Port</th>\n",
       "      <th>Destination IP</th>\n",
       "      <th>Destination Port</th>\n",
       "      <th>Protocol</th>\n",
       "      <th>Flow Duration</th>\n",
       "      <th>Total Fwd Packets</th>\n",
       "      <th>Total Backward Packets</th>\n",
       "      <th>...</th>\n",
       "      <th>min_seg_size_forward</th>\n",
       "      <th>Active Mean</th>\n",
       "      <th>Active Std</th>\n",
       "      <th>Active Max</th>\n",
       "      <th>Active Min</th>\n",
       "      <th>Idle Mean</th>\n",
       "      <th>Idle Std</th>\n",
       "      <th>Idle Max</th>\n",
       "      <th>Idle Min</th>\n",
       "      <th>Label</th>\n",
       "    </tr>\n",
       "  </thead>\n",
       "  <tbody>\n",
       "    <tr>\n",
       "      <th>0</th>\n",
       "      <td>0</td>\n",
       "      <td>172.217.6.202-10.42.0.211-443-50004-6</td>\n",
       "      <td>10.42.0.211</td>\n",
       "      <td>50004</td>\n",
       "      <td>172.217.6.202</td>\n",
       "      <td>443.0</td>\n",
       "      <td>6.0</td>\n",
       "      <td>37027</td>\n",
       "      <td>1</td>\n",
       "      <td>1</td>\n",
       "      <td>...</td>\n",
       "      <td>32.0</td>\n",
       "      <td>0.0</td>\n",
       "      <td>0.0</td>\n",
       "      <td>0.0</td>\n",
       "      <td>0.0</td>\n",
       "      <td>0.0</td>\n",
       "      <td>0.0</td>\n",
       "      <td>0.0</td>\n",
       "      <td>0.0</td>\n",
       "      <td>Android_Adware</td>\n",
       "    </tr>\n",
       "    <tr>\n",
       "      <th>1</th>\n",
       "      <td>1</td>\n",
       "      <td>172.217.6.202-10.42.0.211-443-35455-6</td>\n",
       "      <td>10.42.0.211</td>\n",
       "      <td>35455</td>\n",
       "      <td>172.217.6.202</td>\n",
       "      <td>443.0</td>\n",
       "      <td>6.0</td>\n",
       "      <td>36653</td>\n",
       "      <td>1</td>\n",
       "      <td>1</td>\n",
       "      <td>...</td>\n",
       "      <td>32.0</td>\n",
       "      <td>0.0</td>\n",
       "      <td>0.0</td>\n",
       "      <td>0.0</td>\n",
       "      <td>0.0</td>\n",
       "      <td>0.0</td>\n",
       "      <td>0.0</td>\n",
       "      <td>0.0</td>\n",
       "      <td>0.0</td>\n",
       "      <td>Android_Adware</td>\n",
       "    </tr>\n",
       "    <tr>\n",
       "      <th>2</th>\n",
       "      <td>2</td>\n",
       "      <td>131.253.61.68-10.42.0.211-443-51775-6</td>\n",
       "      <td>10.42.0.211</td>\n",
       "      <td>51775</td>\n",
       "      <td>131.253.61.68</td>\n",
       "      <td>443.0</td>\n",
       "      <td>6.0</td>\n",
       "      <td>534099</td>\n",
       "      <td>8</td>\n",
       "      <td>12</td>\n",
       "      <td>...</td>\n",
       "      <td>20.0</td>\n",
       "      <td>0.0</td>\n",
       "      <td>0.0</td>\n",
       "      <td>0.0</td>\n",
       "      <td>0.0</td>\n",
       "      <td>0.0</td>\n",
       "      <td>0.0</td>\n",
       "      <td>0.0</td>\n",
       "      <td>0.0</td>\n",
       "      <td>Android_Adware</td>\n",
       "    </tr>\n",
       "    <tr>\n",
       "      <th>3</th>\n",
       "      <td>3</td>\n",
       "      <td>131.253.61.68-10.42.0.211-443-51775-6</td>\n",
       "      <td>10.42.0.211</td>\n",
       "      <td>51775</td>\n",
       "      <td>131.253.61.68</td>\n",
       "      <td>443.0</td>\n",
       "      <td>6.0</td>\n",
       "      <td>9309</td>\n",
       "      <td>3</td>\n",
       "      <td>0</td>\n",
       "      <td>...</td>\n",
       "      <td>20.0</td>\n",
       "      <td>0.0</td>\n",
       "      <td>0.0</td>\n",
       "      <td>0.0</td>\n",
       "      <td>0.0</td>\n",
       "      <td>0.0</td>\n",
       "      <td>0.0</td>\n",
       "      <td>0.0</td>\n",
       "      <td>0.0</td>\n",
       "      <td>Android_Adware</td>\n",
       "    </tr>\n",
       "    <tr>\n",
       "      <th>4</th>\n",
       "      <td>4</td>\n",
       "      <td>131.253.61.68-10.42.0.211-443-51776-6</td>\n",
       "      <td>10.42.0.211</td>\n",
       "      <td>51776</td>\n",
       "      <td>131.253.61.68</td>\n",
       "      <td>443.0</td>\n",
       "      <td>6.0</td>\n",
       "      <td>19890496</td>\n",
       "      <td>8</td>\n",
       "      <td>6</td>\n",
       "      <td>...</td>\n",
       "      <td>20.0</td>\n",
       "      <td>0.0</td>\n",
       "      <td>0.0</td>\n",
       "      <td>0.0</td>\n",
       "      <td>0.0</td>\n",
       "      <td>0.0</td>\n",
       "      <td>0.0</td>\n",
       "      <td>0.0</td>\n",
       "      <td>0.0</td>\n",
       "      <td>Android_Adware</td>\n",
       "    </tr>\n",
       "    <tr>\n",
       "      <th>...</th>\n",
       "      <td>...</td>\n",
       "      <td>...</td>\n",
       "      <td>...</td>\n",
       "      <td>...</td>\n",
       "      <td>...</td>\n",
       "      <td>...</td>\n",
       "      <td>...</td>\n",
       "      <td>...</td>\n",
       "      <td>...</td>\n",
       "      <td>...</td>\n",
       "      <td>...</td>\n",
       "      <td>...</td>\n",
       "      <td>...</td>\n",
       "      <td>...</td>\n",
       "      <td>...</td>\n",
       "      <td>...</td>\n",
       "      <td>...</td>\n",
       "      <td>...</td>\n",
       "      <td>...</td>\n",
       "      <td>...</td>\n",
       "      <td>...</td>\n",
       "    </tr>\n",
       "    <tr>\n",
       "      <th>355625</th>\n",
       "      <td>405</td>\n",
       "      <td>172.217.7.14-10.42.0.211-80-38405-6</td>\n",
       "      <td>172.217.7.14</td>\n",
       "      <td>80</td>\n",
       "      <td>10.42.0.211</td>\n",
       "      <td>38405.0</td>\n",
       "      <td>6.0</td>\n",
       "      <td>126711</td>\n",
       "      <td>1</td>\n",
       "      <td>1</td>\n",
       "      <td>...</td>\n",
       "      <td>32.0</td>\n",
       "      <td>0.0</td>\n",
       "      <td>0.0</td>\n",
       "      <td>0.0</td>\n",
       "      <td>0.0</td>\n",
       "      <td>0.0</td>\n",
       "      <td>0.0</td>\n",
       "      <td>0.0</td>\n",
       "      <td>0.0</td>\n",
       "      <td>Benign</td>\n",
       "    </tr>\n",
       "    <tr>\n",
       "      <th>355626</th>\n",
       "      <td>406</td>\n",
       "      <td>10.42.0.211-10.42.0.1-7632-53-17</td>\n",
       "      <td>10.42.0.211</td>\n",
       "      <td>7632</td>\n",
       "      <td>10.42.0.1</td>\n",
       "      <td>53.0</td>\n",
       "      <td>17.0</td>\n",
       "      <td>48012</td>\n",
       "      <td>1</td>\n",
       "      <td>1</td>\n",
       "      <td>...</td>\n",
       "      <td>32.0</td>\n",
       "      <td>0.0</td>\n",
       "      <td>0.0</td>\n",
       "      <td>0.0</td>\n",
       "      <td>0.0</td>\n",
       "      <td>0.0</td>\n",
       "      <td>0.0</td>\n",
       "      <td>0.0</td>\n",
       "      <td>0.0</td>\n",
       "      <td>Benign</td>\n",
       "    </tr>\n",
       "    <tr>\n",
       "      <th>355627</th>\n",
       "      <td>407</td>\n",
       "      <td>10.42.0.211-104.192.110.245-45970-443-6</td>\n",
       "      <td>10.42.0.211</td>\n",
       "      <td>45970</td>\n",
       "      <td>104.192.110.245</td>\n",
       "      <td>443.0</td>\n",
       "      <td>6.0</td>\n",
       "      <td>20028018</td>\n",
       "      <td>11</td>\n",
       "      <td>8</td>\n",
       "      <td>...</td>\n",
       "      <td>20.0</td>\n",
       "      <td>367528.0</td>\n",
       "      <td>0.0</td>\n",
       "      <td>367528.0</td>\n",
       "      <td>367528.0</td>\n",
       "      <td>19660490.0</td>\n",
       "      <td>0.0</td>\n",
       "      <td>19660490.0</td>\n",
       "      <td>19660490.0</td>\n",
       "      <td>Benign</td>\n",
       "    </tr>\n",
       "    <tr>\n",
       "      <th>355628</th>\n",
       "      <td>408</td>\n",
       "      <td>10.42.0.211-10.42.0.1-51982-53-17</td>\n",
       "      <td>10.42.0.211</td>\n",
       "      <td>51982</td>\n",
       "      <td>10.42.0.1</td>\n",
       "      <td>53.0</td>\n",
       "      <td>17.0</td>\n",
       "      <td>347926</td>\n",
       "      <td>1</td>\n",
       "      <td>1</td>\n",
       "      <td>...</td>\n",
       "      <td>20.0</td>\n",
       "      <td>0.0</td>\n",
       "      <td>0.0</td>\n",
       "      <td>0.0</td>\n",
       "      <td>0.0</td>\n",
       "      <td>0.0</td>\n",
       "      <td>0.0</td>\n",
       "      <td>0.0</td>\n",
       "      <td>0.0</td>\n",
       "      <td>Benign</td>\n",
       "    </tr>\n",
       "    <tr>\n",
       "      <th>355629</th>\n",
       "      <td>409</td>\n",
       "      <td>10.42.0.211-10.42.0.1-9320-53-17</td>\n",
       "      <td>10.42.0.211</td>\n",
       "      <td>9320</td>\n",
       "      <td>10.42.0.1</td>\n",
       "      <td>53.0</td>\n",
       "      <td>17.0</td>\n",
       "      <td>125473</td>\n",
       "      <td>1</td>\n",
       "      <td>1</td>\n",
       "      <td>...</td>\n",
       "      <td>32.0</td>\n",
       "      <td>0.0</td>\n",
       "      <td>0.0</td>\n",
       "      <td>0.0</td>\n",
       "      <td>0.0</td>\n",
       "      <td>0.0</td>\n",
       "      <td>0.0</td>\n",
       "      <td>0.0</td>\n",
       "      <td>0.0</td>\n",
       "      <td>Benign</td>\n",
       "    </tr>\n",
       "  </tbody>\n",
       "</table>\n",
       "<p>355630 rows × 85 columns</p>\n",
       "</div>"
      ],
      "text/plain": [
       "        Unnamed: 0                                  Flow ID     Source IP  \\\n",
       "0                0    172.217.6.202-10.42.0.211-443-50004-6   10.42.0.211   \n",
       "1                1    172.217.6.202-10.42.0.211-443-35455-6   10.42.0.211   \n",
       "2                2    131.253.61.68-10.42.0.211-443-51775-6   10.42.0.211   \n",
       "3                3    131.253.61.68-10.42.0.211-443-51775-6   10.42.0.211   \n",
       "4                4    131.253.61.68-10.42.0.211-443-51776-6   10.42.0.211   \n",
       "...            ...                                      ...           ...   \n",
       "355625         405      172.217.7.14-10.42.0.211-80-38405-6  172.217.7.14   \n",
       "355626         406         10.42.0.211-10.42.0.1-7632-53-17   10.42.0.211   \n",
       "355627         407  10.42.0.211-104.192.110.245-45970-443-6   10.42.0.211   \n",
       "355628         408        10.42.0.211-10.42.0.1-51982-53-17   10.42.0.211   \n",
       "355629         409         10.42.0.211-10.42.0.1-9320-53-17   10.42.0.211   \n",
       "\n",
       "         Source Port   Destination IP   Destination Port   Protocol  \\\n",
       "0              50004    172.217.6.202              443.0        6.0   \n",
       "1              35455    172.217.6.202              443.0        6.0   \n",
       "2              51775    131.253.61.68              443.0        6.0   \n",
       "3              51775    131.253.61.68              443.0        6.0   \n",
       "4              51776    131.253.61.68              443.0        6.0   \n",
       "...              ...              ...                ...        ...   \n",
       "355625            80      10.42.0.211            38405.0        6.0   \n",
       "355626          7632        10.42.0.1               53.0       17.0   \n",
       "355627         45970  104.192.110.245              443.0        6.0   \n",
       "355628         51982        10.42.0.1               53.0       17.0   \n",
       "355629          9320        10.42.0.1               53.0       17.0   \n",
       "\n",
       "         Flow Duration   Total Fwd Packets   Total Backward Packets  ...  \\\n",
       "0                37027                   1                        1  ...   \n",
       "1                36653                   1                        1  ...   \n",
       "2               534099                   8                       12  ...   \n",
       "3                 9309                   3                        0  ...   \n",
       "4             19890496                   8                        6  ...   \n",
       "...                ...                 ...                      ...  ...   \n",
       "355625          126711                   1                        1  ...   \n",
       "355626           48012                   1                        1  ...   \n",
       "355627        20028018                  11                        8  ...   \n",
       "355628          347926                   1                        1  ...   \n",
       "355629          125473                   1                        1  ...   \n",
       "\n",
       "         min_seg_size_forward  Active Mean   Active Std   Active Max  \\\n",
       "0                        32.0          0.0          0.0          0.0   \n",
       "1                        32.0          0.0          0.0          0.0   \n",
       "2                        20.0          0.0          0.0          0.0   \n",
       "3                        20.0          0.0          0.0          0.0   \n",
       "4                        20.0          0.0          0.0          0.0   \n",
       "...                       ...          ...          ...          ...   \n",
       "355625                   32.0          0.0          0.0          0.0   \n",
       "355626                   32.0          0.0          0.0          0.0   \n",
       "355627                   20.0     367528.0          0.0     367528.0   \n",
       "355628                   20.0          0.0          0.0          0.0   \n",
       "355629                   32.0          0.0          0.0          0.0   \n",
       "\n",
       "         Active Min   Idle Mean   Idle Std    Idle Max    Idle Min  \\\n",
       "0               0.0         0.0        0.0         0.0         0.0   \n",
       "1               0.0         0.0        0.0         0.0         0.0   \n",
       "2               0.0         0.0        0.0         0.0         0.0   \n",
       "3               0.0         0.0        0.0         0.0         0.0   \n",
       "4               0.0         0.0        0.0         0.0         0.0   \n",
       "...             ...         ...        ...         ...         ...   \n",
       "355625          0.0         0.0        0.0         0.0         0.0   \n",
       "355626          0.0         0.0        0.0         0.0         0.0   \n",
       "355627     367528.0  19660490.0        0.0  19660490.0  19660490.0   \n",
       "355628          0.0         0.0        0.0         0.0         0.0   \n",
       "355629          0.0         0.0        0.0         0.0         0.0   \n",
       "\n",
       "                 Label  \n",
       "0       Android_Adware  \n",
       "1       Android_Adware  \n",
       "2       Android_Adware  \n",
       "3       Android_Adware  \n",
       "4       Android_Adware  \n",
       "...                ...  \n",
       "355625          Benign  \n",
       "355626          Benign  \n",
       "355627          Benign  \n",
       "355628          Benign  \n",
       "355629          Benign  \n",
       "\n",
       "[355630 rows x 85 columns]"
      ]
     },
     "execution_count": 18,
     "metadata": {},
     "output_type": "execute_result"
    }
   ],
   "source": [
    "data"
   ]
  },
  {
   "cell_type": "code",
   "execution_count": 22,
   "metadata": {},
   "outputs": [
    {
     "name": "stdout",
     "output_type": "stream",
     "text": [
      "Total Features :  84\n"
     ]
    }
   ],
   "source": [
    "print(\"Total Features : \",len(data.columns)-1)"
   ]
  },
  {
   "cell_type": "markdown",
   "metadata": {},
   "source": [
    "# Data Preprocessing done unique to this notebook:\n",
    "\n",
    "- Filtering the Dataset: The dataset is filtered to include only two labels—'Benign' and 'Android_SMS_Malware'—by dropping irrelevant categories ('Android_Adware' and 'Android_Scareware'). This ensures the model focuses on the most relevant classification task.\n",
    "\n",
    "- Dropping Non-Numeric Columns: Non-numeric columns, such as 'Flow ID', 'Source IP', 'Destination IP', and others, are removed from the feature set. This is critical because machine learning models, including Random Forests, require numerical input data for training.\n",
    "\n",
    "- Ensuring Numeric Data: After dropping non-numeric columns, the feature matrix (X) is checked to ensure only numeric columns remain. This step ensures that there are no data type issues when passing the data to the model.\n",
    "\n",
    "- Label Encoding: The target variable (y) is mapped to integers—0 for 'Benign' and 1 for 'Android_SMS_Malware'. This allows the model to interpret the categorical labels as numeric values for classification."
   ]
  },
  {
   "cell_type": "markdown",
   "metadata": {},
   "source": [
    "## Step 1: Filter the dataset to include only 'Android_SMS_Malware' and 'Benign'"
   ]
  },
  {
   "cell_type": "code",
   "execution_count": 26,
   "metadata": {},
   "outputs": [],
   "source": [
    "import numpy as np\n",
    "import pandas as pd\n",
    "from sklearn.ensemble import RandomForestClassifier\n",
    "from sklearn.model_selection import cross_val_predict\n",
    "from sklearn.metrics import accuracy_score, confusion_matrix, classification_report\n",
    "from sklearn.utils import resample\n",
    "\n",
    "filtered_data = data[data[\"Label\"].isin(['Android_SMS_Malware', 'Benign'])]"
   ]
  },
  {
   "cell_type": "markdown",
   "metadata": {},
   "source": [
    "## Step 2: Drop non-numeric columns"
   ]
  },
  {
   "cell_type": "code",
   "execution_count": 29,
   "metadata": {},
   "outputs": [],
   "source": [
    "X_filtered = filtered_data.drop(['Flow ID', ' Source IP', ' Destination IP', ' CWE Flag Count', ' Down/Up Ratio', 'Fwd Avg Bytes/Bulk', 'Label'], axis=1)"
   ]
  },
  {
   "cell_type": "markdown",
   "metadata": {},
   "source": [
    "## Step 3: Ensure only numeric data remains"
   ]
  },
  {
   "cell_type": "code",
   "execution_count": 32,
   "metadata": {},
   "outputs": [],
   "source": [
    "X_filtered_numeric = X_filtered.select_dtypes(include=[np.number])"
   ]
  },
  {
   "cell_type": "markdown",
   "metadata": {},
   "source": [
    "## Verify that only numeric columns remain"
   ]
  },
  {
   "cell_type": "code",
   "execution_count": 35,
   "metadata": {},
   "outputs": [
    {
     "name": "stdout",
     "output_type": "stream",
     "text": [
      "Unnamed: 0             int64\n",
      " Source Port           int64\n",
      " Destination Port    float64\n",
      " Protocol            float64\n",
      " Flow Duration         int64\n",
      "                      ...   \n",
      " Active Min          float64\n",
      "Idle Mean            float64\n",
      " Idle Std            float64\n",
      " Idle Max            float64\n",
      " Idle Min            float64\n",
      "Length: 78, dtype: object\n"
     ]
    }
   ],
   "source": [
    "print(X_filtered_numeric.dtypes)"
   ]
  },
  {
   "cell_type": "markdown",
   "metadata": {},
   "source": [
    "## Step 4: Separate features (X) and target (y) after filtering"
   ]
  },
  {
   "cell_type": "code",
   "execution_count": 38,
   "metadata": {},
   "outputs": [],
   "source": [
    "X = X_filtered_numeric\n",
    "y = filtered_data[\"Label\"]"
   ]
  },
  {
   "cell_type": "markdown",
   "metadata": {},
   "source": [
    "## Step 5: Convert the target labels into numerical categories (Benign = 0, Android_SMS_Malware = 1)"
   ]
  },
  {
   "cell_type": "code",
   "execution_count": 41,
   "metadata": {},
   "outputs": [],
   "source": [
    "y = y.map({'Benign': 0, 'Android_SMS_Malware': 1})"
   ]
  },
  {
   "cell_type": "markdown",
   "metadata": {},
   "source": [
    "## Step 6: Check the data types of y to ensure it's numeric"
   ]
  },
  {
   "cell_type": "code",
   "execution_count": 44,
   "metadata": {},
   "outputs": [
    {
     "name": "stdout",
     "output_type": "stream",
     "text": [
      "int64\n"
     ]
    }
   ],
   "source": [
    "print(y.dtypes)  # It should print \"int64\" or similar to indicate discrete values"
   ]
  },
  {
   "cell_type": "markdown",
   "metadata": {},
   "source": [
    "# Data Balancing: \n",
    "- Balancing Classes: Since class imbalance can negatively impact model performance, the balance_data function resamples the data to ensure both classes ('Benign' and 'Android_SMS_Malware') are equally represented. This step involves resampling the minority class (whichever has fewer samples) so that both classes have the same number of data points. After balancing, the data is shuffled to randomize the sample order.\n",
    "\n",
    "- Ensuring Numeric Labels: The balanced target variable (y_balanced) is explicitly converted to integers. This step ensures that the model correctly interprets the labels as discrete classes during training and evaluation."
   ]
  },
  {
   "cell_type": "markdown",
   "metadata": {},
   "source": [
    "## Step 7: Balance the dataset using the balance_data function"
   ]
  },
  {
   "cell_type": "code",
   "execution_count": 48,
   "metadata": {},
   "outputs": [],
   "source": [
    "def balance_data(X, y, random_state=0):\n",
    "    # Combine X and y into one DataFrame\n",
    "    data = pd.concat([X, y], axis=1)\n",
    "    class_counts = y.value_counts()\n",
    "    minority_class_count = class_counts.min()\n",
    "    balanced_data = pd.DataFrame(columns=data.columns)\n",
    "\n",
    "    for label in class_counts.index:\n",
    "        class_samples = data[data[\"Label\"] == label]\n",
    "        resampled_samples = resample(class_samples,\n",
    "                                     replace=True,\n",
    "                                     n_samples=minority_class_count,\n",
    "                                     random_state=random_state)\n",
    "        balanced_data = pd.concat([balanced_data, resampled_samples])\n",
    "\n",
    "    balanced_data = balanced_data.sample(frac=1, random_state=random_state).reset_index(drop=True)\n",
    "    return balanced_data.drop(\"Label\", axis=1), balanced_data[\"Label\"]"
   ]
  },
  {
   "cell_type": "markdown",
   "metadata": {},
   "source": [
    "## Step 8: Balance the data"
   ]
  },
  {
   "cell_type": "code",
   "execution_count": 51,
   "metadata": {},
   "outputs": [
    {
     "name": "stderr",
     "output_type": "stream",
     "text": [
      "C:\\Users\\grace\\AppData\\Local\\Temp\\ipykernel_14056\\3078144896.py:14: FutureWarning: The behavior of DataFrame concatenation with empty or all-NA entries is deprecated. In a future version, this will no longer exclude empty or all-NA columns when determining the result dtypes. To retain the old behavior, exclude the relevant entries before the concat operation.\n",
      "  balanced_data = pd.concat([balanced_data, resampled_samples])\n"
     ]
    }
   ],
   "source": [
    "X_balanced, y_balanced = balance_data(X, y)"
   ]
  },
  {
   "cell_type": "markdown",
   "metadata": {},
   "source": [
    "## Step 9: Ensure y_balanced is correctly mapped to integers"
   ]
  },
  {
   "cell_type": "code",
   "execution_count": 54,
   "metadata": {},
   "outputs": [
    {
     "name": "stdout",
     "output_type": "stream",
     "text": [
      "int32\n"
     ]
    }
   ],
   "source": [
    "y_balanced = y_balanced.astype(int)\n",
    "print(y_balanced.dtypes)  "
   ]
  },
  {
   "cell_type": "markdown",
   "metadata": {},
   "source": [
    "## Step 10: Check for and remove missing values\n",
    "- Checks for NaN (missing) values in each column of the original dataset (X_balanced) before handling missing values.\n",
    "- Uses the SimpleImputer to impute (fill in) missing values in the dataset by replacing NaNs with the mean value of the respective column.\n",
    "- Converts the imputed data (initially a NumPy array) back into a DataFrame to maintain compatibility with the rest of the code.\n",
    "- Verifies that all NaN values have been successfully imputed by checking for any remaining NaNs in the cleaned dataset (X_balanced_clean).\n",
    "- Ensures that the target variable (y_balanced) remains aligned with the cleaned feature dataset (X_balanced_clean)."
   ]
  },
  {
   "cell_type": "code",
   "execution_count": 73,
   "metadata": {},
   "outputs": [
    {
     "name": "stdout",
     "output_type": "stream",
     "text": [
      "Number of NaN values in each column before imputation:\n",
      "Unnamed: 0           0\n",
      " Source Port         0\n",
      " Destination Port    0\n",
      " Protocol            0\n",
      " Flow Duration       0\n",
      "                    ..\n",
      " Active Min          2\n",
      "Idle Mean            2\n",
      " Idle Std            2\n",
      " Idle Max            2\n",
      " Idle Min            2\n",
      "Length: 78, dtype: int64\n",
      "Number of NaN values in the cleaned dataset after imputation:\n",
      "0\n"
     ]
    }
   ],
   "source": [
    "# Check for NaN values before imputation\n",
    "print(\"Number of NaN values in each column before imputation:\")\n",
    "print(X_balanced.isna().sum())\n",
    "\n",
    "# Impute missing values using the mean strategy\n",
    "imputer = SimpleImputer(strategy='mean')\n",
    "X_balanced_clean = imputer.fit_transform(X_balanced)\n",
    "\n",
    "# Convert the cleaned data back into a DataFrame, if needed\n",
    "X_balanced_clean = pd.DataFrame(X_balanced_clean, columns=X_balanced.columns)\n",
    "\n",
    "# Check for NaN values after imputation\n",
    "print(\"Number of NaN values in the cleaned dataset after imputation:\")\n",
    "print(np.isnan(X_balanced_clean).sum().sum())  # sum().sum() to check total NaN count\n",
    "\n",
    "# Ensure y_balanced is aligned with the cleaned X\n",
    "y_balanced_clean = y_balanced"
   ]
  },
  {
   "cell_type": "markdown",
   "metadata": {},
   "source": [
    "# Cross-Validation and Classification Metrics Analysis\n",
    "This code performs 10-fold cross-validation on a dataset using various configurations of Support Vector Classifier (SVC) models, evaluating their performance with accuracy, confusion matrix, and classification report.\n",
    "\n",
    "## 1. SVC Configurations:\n",
    "- Linear Kernel SVC: Assumes a linear boundary between classes in the feature space.\n",
    "- RBF Kernel SVC: Uses the Radial Basis Function to capture non-linear boundaries between classes by mapping features into a higher-dimensional space.\n",
    "- Polynomial Kernel SVC: Uses polynomial decision boundaries, allowing the model to capture more complex class relationships.\n",
    "\n",
    "## 10-fold Cross-Validation: The `cross_val_predict` function is used to perform 10-fold cross-validation on the balanced dataset. In this process:\n",
    "- The dataset is split into 10 equal subsets (folds).\n",
    "- For each fold, the model is trained on 9 subsets and evaluated on the remaining subset.\n",
    "- This process is repeated across all 10 folds, ensuring that every data point is used for both training and evaluation.\n",
    "- Cross-validation helps mitigate overfitting by providing a robust evaluation of the model’s ability to generalize to unseen data.\n",
    "\n",
    "## Evaluation Metrics:\n",
    "- `cross_val_score`: This function is used to evaluate the accuracy of each fold, and the results are printed along with the average accuracy across all folds.\n",
    "- Accuracy: The overall accuracy of the model based on the combined predictions from the cross-validation is calculated and reported.\n",
    "- Confusion Matrix: A confusion matrix is generated to display how well the model predicts each class (e.g., 'Benign' vs. 'Android_SMS_Malware').\n",
    "- Classification Report: A classification report provides detailed metrics such as precision, recall, F1-score, and support for each class, offering insights into how well the model distinguishes between 'Benign' and 'Android_SMS_Malware'.\n",
    "\n",
    "## Conclusion:\n",
    "By using balanced data and evaluating various SVC models with 10-fold cross-validation, this approach provides a comprehensive and reliable evaluation of each model's performance. The results help in identifying the most effective SVC configuration for classifying 'Benign' and 'Android_SMS_Malware' traffic, ensuring robust generalization on new data."
   ]
  },
  {
   "cell_type": "code",
   "execution_count": 81,
   "metadata": {},
   "outputs": [
    {
     "ename": "KeyboardInterrupt",
     "evalue": "",
     "output_type": "error",
     "traceback": [
      "\u001b[1;31m---------------------------------------------------------------------------\u001b[0m",
      "\u001b[1;31mKeyboardInterrupt\u001b[0m                         Traceback (most recent call last)",
      "Cell \u001b[1;32mIn[81], line 46\u001b[0m\n\u001b[0;32m     44\u001b[0m \u001b[38;5;66;03m# Iterate through each SVC model and evaluate using cross-validation\u001b[39;00m\n\u001b[0;32m     45\u001b[0m \u001b[38;5;28;01mfor\u001b[39;00m model_name, model \u001b[38;5;129;01min\u001b[39;00m models:\n\u001b[1;32m---> 46\u001b[0m     evaluate_model_cv(model, X_balanced_clean, y_balanced_clean, model_name)\n",
      "Cell \u001b[1;32mIn[81], line 16\u001b[0m, in \u001b[0;36mevaluate_model_cv\u001b[1;34m(model, X, y, model_name)\u001b[0m\n\u001b[0;32m     14\u001b[0m \u001b[38;5;28;01mdef\u001b[39;00m \u001b[38;5;21mevaluate_model_cv\u001b[39m(model, X, y, model_name):\n\u001b[0;32m     15\u001b[0m     \u001b[38;5;66;03m# Get predictions using cross-validation\u001b[39;00m\n\u001b[1;32m---> 16\u001b[0m     y_pred \u001b[38;5;241m=\u001b[39m cross_val_predict(model, X, y, cv\u001b[38;5;241m=\u001b[39m\u001b[38;5;241m10\u001b[39m, n_jobs\u001b[38;5;241m=\u001b[39m\u001b[38;5;241m-\u001b[39m\u001b[38;5;241m1\u001b[39m)\n\u001b[0;32m     18\u001b[0m     \u001b[38;5;66;03m# Calculate accuracy\u001b[39;00m\n\u001b[0;32m     19\u001b[0m     accuracy \u001b[38;5;241m=\u001b[39m accuracy_score(y, y_pred)\n",
      "File \u001b[1;32mC:\\ProgramData\\anaconda3\\Lib\\site-packages\\sklearn\\utils\\_param_validation.py:213\u001b[0m, in \u001b[0;36mvalidate_params.<locals>.decorator.<locals>.wrapper\u001b[1;34m(*args, **kwargs)\u001b[0m\n\u001b[0;32m    207\u001b[0m \u001b[38;5;28;01mtry\u001b[39;00m:\n\u001b[0;32m    208\u001b[0m     \u001b[38;5;28;01mwith\u001b[39;00m config_context(\n\u001b[0;32m    209\u001b[0m         skip_parameter_validation\u001b[38;5;241m=\u001b[39m(\n\u001b[0;32m    210\u001b[0m             prefer_skip_nested_validation \u001b[38;5;129;01mor\u001b[39;00m global_skip_validation\n\u001b[0;32m    211\u001b[0m         )\n\u001b[0;32m    212\u001b[0m     ):\n\u001b[1;32m--> 213\u001b[0m         \u001b[38;5;28;01mreturn\u001b[39;00m func(\u001b[38;5;241m*\u001b[39margs, \u001b[38;5;241m*\u001b[39m\u001b[38;5;241m*\u001b[39mkwargs)\n\u001b[0;32m    214\u001b[0m \u001b[38;5;28;01mexcept\u001b[39;00m InvalidParameterError \u001b[38;5;28;01mas\u001b[39;00m e:\n\u001b[0;32m    215\u001b[0m     \u001b[38;5;66;03m# When the function is just a wrapper around an estimator, we allow\u001b[39;00m\n\u001b[0;32m    216\u001b[0m     \u001b[38;5;66;03m# the function to delegate validation to the estimator, but we replace\u001b[39;00m\n\u001b[0;32m    217\u001b[0m     \u001b[38;5;66;03m# the name of the estimator by the name of the function in the error\u001b[39;00m\n\u001b[0;32m    218\u001b[0m     \u001b[38;5;66;03m# message to avoid confusion.\u001b[39;00m\n\u001b[0;32m    219\u001b[0m     msg \u001b[38;5;241m=\u001b[39m re\u001b[38;5;241m.\u001b[39msub(\n\u001b[0;32m    220\u001b[0m         \u001b[38;5;124mr\u001b[39m\u001b[38;5;124m\"\u001b[39m\u001b[38;5;124mparameter of \u001b[39m\u001b[38;5;124m\\\u001b[39m\u001b[38;5;124mw+ must be\u001b[39m\u001b[38;5;124m\"\u001b[39m,\n\u001b[0;32m    221\u001b[0m         \u001b[38;5;124mf\u001b[39m\u001b[38;5;124m\"\u001b[39m\u001b[38;5;124mparameter of \u001b[39m\u001b[38;5;132;01m{\u001b[39;00mfunc\u001b[38;5;241m.\u001b[39m\u001b[38;5;18m__qualname__\u001b[39m\u001b[38;5;132;01m}\u001b[39;00m\u001b[38;5;124m must be\u001b[39m\u001b[38;5;124m\"\u001b[39m,\n\u001b[0;32m    222\u001b[0m         \u001b[38;5;28mstr\u001b[39m(e),\n\u001b[0;32m    223\u001b[0m     )\n",
      "File \u001b[1;32mC:\\ProgramData\\anaconda3\\Lib\\site-packages\\sklearn\\model_selection\\_validation.py:1293\u001b[0m, in \u001b[0;36mcross_val_predict\u001b[1;34m(estimator, X, y, groups, cv, n_jobs, verbose, fit_params, params, pre_dispatch, method)\u001b[0m\n\u001b[0;32m   1290\u001b[0m \u001b[38;5;66;03m# We clone the estimator to make sure that all the folds are\u001b[39;00m\n\u001b[0;32m   1291\u001b[0m \u001b[38;5;66;03m# independent, and that it is pickle-able.\u001b[39;00m\n\u001b[0;32m   1292\u001b[0m parallel \u001b[38;5;241m=\u001b[39m Parallel(n_jobs\u001b[38;5;241m=\u001b[39mn_jobs, verbose\u001b[38;5;241m=\u001b[39mverbose, pre_dispatch\u001b[38;5;241m=\u001b[39mpre_dispatch)\n\u001b[1;32m-> 1293\u001b[0m predictions \u001b[38;5;241m=\u001b[39m parallel(\n\u001b[0;32m   1294\u001b[0m     delayed(_fit_and_predict)(\n\u001b[0;32m   1295\u001b[0m         clone(estimator),\n\u001b[0;32m   1296\u001b[0m         X,\n\u001b[0;32m   1297\u001b[0m         y,\n\u001b[0;32m   1298\u001b[0m         train,\n\u001b[0;32m   1299\u001b[0m         test,\n\u001b[0;32m   1300\u001b[0m         routed_params\u001b[38;5;241m.\u001b[39mestimator\u001b[38;5;241m.\u001b[39mfit,\n\u001b[0;32m   1301\u001b[0m         method,\n\u001b[0;32m   1302\u001b[0m     )\n\u001b[0;32m   1303\u001b[0m     \u001b[38;5;28;01mfor\u001b[39;00m train, test \u001b[38;5;129;01min\u001b[39;00m splits\n\u001b[0;32m   1304\u001b[0m )\n\u001b[0;32m   1306\u001b[0m inv_test_indices \u001b[38;5;241m=\u001b[39m np\u001b[38;5;241m.\u001b[39mempty(\u001b[38;5;28mlen\u001b[39m(test_indices), dtype\u001b[38;5;241m=\u001b[39m\u001b[38;5;28mint\u001b[39m)\n\u001b[0;32m   1307\u001b[0m inv_test_indices[test_indices] \u001b[38;5;241m=\u001b[39m np\u001b[38;5;241m.\u001b[39marange(\u001b[38;5;28mlen\u001b[39m(test_indices))\n",
      "File \u001b[1;32mC:\\ProgramData\\anaconda3\\Lib\\site-packages\\sklearn\\utils\\parallel.py:67\u001b[0m, in \u001b[0;36mParallel.__call__\u001b[1;34m(self, iterable)\u001b[0m\n\u001b[0;32m     62\u001b[0m config \u001b[38;5;241m=\u001b[39m get_config()\n\u001b[0;32m     63\u001b[0m iterable_with_config \u001b[38;5;241m=\u001b[39m (\n\u001b[0;32m     64\u001b[0m     (_with_config(delayed_func, config), args, kwargs)\n\u001b[0;32m     65\u001b[0m     \u001b[38;5;28;01mfor\u001b[39;00m delayed_func, args, kwargs \u001b[38;5;129;01min\u001b[39;00m iterable\n\u001b[0;32m     66\u001b[0m )\n\u001b[1;32m---> 67\u001b[0m \u001b[38;5;28;01mreturn\u001b[39;00m \u001b[38;5;28msuper\u001b[39m()\u001b[38;5;241m.\u001b[39m\u001b[38;5;21m__call__\u001b[39m(iterable_with_config)\n",
      "File \u001b[1;32mC:\\ProgramData\\anaconda3\\Lib\\site-packages\\joblib\\parallel.py:2007\u001b[0m, in \u001b[0;36mParallel.__call__\u001b[1;34m(self, iterable)\u001b[0m\n\u001b[0;32m   2001\u001b[0m \u001b[38;5;66;03m# The first item from the output is blank, but it makes the interpreter\u001b[39;00m\n\u001b[0;32m   2002\u001b[0m \u001b[38;5;66;03m# progress until it enters the Try/Except block of the generator and\u001b[39;00m\n\u001b[0;32m   2003\u001b[0m \u001b[38;5;66;03m# reaches the first `yield` statement. This starts the asynchronous\u001b[39;00m\n\u001b[0;32m   2004\u001b[0m \u001b[38;5;66;03m# dispatch of the tasks to the workers.\u001b[39;00m\n\u001b[0;32m   2005\u001b[0m \u001b[38;5;28mnext\u001b[39m(output)\n\u001b[1;32m-> 2007\u001b[0m \u001b[38;5;28;01mreturn\u001b[39;00m output \u001b[38;5;28;01mif\u001b[39;00m \u001b[38;5;28mself\u001b[39m\u001b[38;5;241m.\u001b[39mreturn_generator \u001b[38;5;28;01melse\u001b[39;00m \u001b[38;5;28mlist\u001b[39m(output)\n",
      "File \u001b[1;32mC:\\ProgramData\\anaconda3\\Lib\\site-packages\\joblib\\parallel.py:1650\u001b[0m, in \u001b[0;36mParallel._get_outputs\u001b[1;34m(self, iterator, pre_dispatch)\u001b[0m\n\u001b[0;32m   1647\u001b[0m     \u001b[38;5;28;01myield\u001b[39;00m\n\u001b[0;32m   1649\u001b[0m     \u001b[38;5;28;01mwith\u001b[39;00m \u001b[38;5;28mself\u001b[39m\u001b[38;5;241m.\u001b[39m_backend\u001b[38;5;241m.\u001b[39mretrieval_context():\n\u001b[1;32m-> 1650\u001b[0m         \u001b[38;5;28;01myield from\u001b[39;00m \u001b[38;5;28mself\u001b[39m\u001b[38;5;241m.\u001b[39m_retrieve()\n\u001b[0;32m   1652\u001b[0m \u001b[38;5;28;01mexcept\u001b[39;00m \u001b[38;5;167;01mGeneratorExit\u001b[39;00m:\n\u001b[0;32m   1653\u001b[0m     \u001b[38;5;66;03m# The generator has been garbage collected before being fully\u001b[39;00m\n\u001b[0;32m   1654\u001b[0m     \u001b[38;5;66;03m# consumed. This aborts the remaining tasks if possible and warn\u001b[39;00m\n\u001b[0;32m   1655\u001b[0m     \u001b[38;5;66;03m# the user if necessary.\u001b[39;00m\n\u001b[0;32m   1656\u001b[0m     \u001b[38;5;28mself\u001b[39m\u001b[38;5;241m.\u001b[39m_exception \u001b[38;5;241m=\u001b[39m \u001b[38;5;28;01mTrue\u001b[39;00m\n",
      "File \u001b[1;32mC:\\ProgramData\\anaconda3\\Lib\\site-packages\\joblib\\parallel.py:1762\u001b[0m, in \u001b[0;36mParallel._retrieve\u001b[1;34m(self)\u001b[0m\n\u001b[0;32m   1757\u001b[0m \u001b[38;5;66;03m# If the next job is not ready for retrieval yet, we just wait for\u001b[39;00m\n\u001b[0;32m   1758\u001b[0m \u001b[38;5;66;03m# async callbacks to progress.\u001b[39;00m\n\u001b[0;32m   1759\u001b[0m \u001b[38;5;28;01mif\u001b[39;00m ((\u001b[38;5;28mlen\u001b[39m(\u001b[38;5;28mself\u001b[39m\u001b[38;5;241m.\u001b[39m_jobs) \u001b[38;5;241m==\u001b[39m \u001b[38;5;241m0\u001b[39m) \u001b[38;5;129;01mor\u001b[39;00m\n\u001b[0;32m   1760\u001b[0m     (\u001b[38;5;28mself\u001b[39m\u001b[38;5;241m.\u001b[39m_jobs[\u001b[38;5;241m0\u001b[39m]\u001b[38;5;241m.\u001b[39mget_status(\n\u001b[0;32m   1761\u001b[0m         timeout\u001b[38;5;241m=\u001b[39m\u001b[38;5;28mself\u001b[39m\u001b[38;5;241m.\u001b[39mtimeout) \u001b[38;5;241m==\u001b[39m TASK_PENDING)):\n\u001b[1;32m-> 1762\u001b[0m     time\u001b[38;5;241m.\u001b[39msleep(\u001b[38;5;241m0.01\u001b[39m)\n\u001b[0;32m   1763\u001b[0m     \u001b[38;5;28;01mcontinue\u001b[39;00m\n\u001b[0;32m   1765\u001b[0m \u001b[38;5;66;03m# We need to be careful: the job list can be filling up as\u001b[39;00m\n\u001b[0;32m   1766\u001b[0m \u001b[38;5;66;03m# we empty it and Python list are not thread-safe by\u001b[39;00m\n\u001b[0;32m   1767\u001b[0m \u001b[38;5;66;03m# default hence the use of the lock\u001b[39;00m\n",
      "\u001b[1;31mKeyboardInterrupt\u001b[0m: "
     ]
    }
   ],
   "source": [
    "from sklearn.svm import SVC  # Import Support Vector Classifier\n",
    "from sklearn.impute import SimpleImputer\n",
    "from sklearn.metrics import accuracy_score, confusion_matrix, classification_report\n",
    "from sklearn.model_selection import cross_val_score, cross_val_predict\n",
    "\n",
    "# Define the SVC models with different kernels and regularization (C) values\n",
    "models = [\n",
    "   ('SVC with linear kernel', SVC(kernel='linear', C=1, random_state=0)),\n",
    "    ('SVC with RBF kernel', SVC(kernel='rbf', C=1, gamma=0.1, random_state=0)),\n",
    "    ('SVC with polynomial kernel', SVC(kernel='poly', degree=3, C=1, random_state=0))\n",
    "]\n",
    "\n",
    "# Function to evaluate the model using cross-validation\n",
    "def evaluate_model_cv(model, X, y, model_name):\n",
    "    # Get predictions using cross-validation\n",
    "    y_pred = cross_val_predict(model, X, y, cv=10, n_jobs=-1)\n",
    "    \n",
    "    # Calculate accuracy\n",
    "    accuracy = accuracy_score(y, y_pred)\n",
    "    \n",
    "    # Generate confusion matrix\n",
    "    confusion_matrix_result = confusion_matrix(y, y_pred)\n",
    "    \n",
    "    # Generate classification report\n",
    "    classification = classification_report(y, y_pred)\n",
    "\n",
    "    # Perform 10-fold cross-validation to get accuracy for each fold\n",
    "    scores = cross_val_score(model, X, y, cv=10, scoring='accuracy', n_jobs=-1)\n",
    "    \n",
    "    # Print evaluation results\n",
    "    print(f'============================== {model_name} Cross-Validation Evaluation ==============================')\n",
    "    \n",
    "    # Print accuracy for each fold and the mean accuracy\n",
    "    print(f\"Accuracy for each fold: {scores}\")\n",
    "    print(f\"Mean Accuracy across folds: {np.mean(scores):.4f}\")\n",
    "    print(\"\\n\")\n",
    "    \n",
    "    # Print overall evaluation using combined cross-validation predictions\n",
    "    print(f'Model Accuracy (combined prediction): {accuracy * 100:.2f}%')\n",
    "    print('Confusion Matrix:\\n', confusion_matrix_result)\n",
    "    print('Classification Report:\\n', classification)\n",
    "    print()\n",
    "\n",
    "# Iterate through each SVC model and evaluate using cross-validation\n",
    "for model_name, model in models:\n",
    "    evaluate_model_cv(model, X_balanced_clean, y_balanced_clean, model_name)"
   ]
  },
  {
   "cell_type": "markdown",
   "metadata": {},
   "source": [
    "# Save output in a code block to preserve the format of the output"
   ]
  },
  {
   "cell_type": "code",
   "execution_count": 85,
   "metadata": {},
   "outputs": [
    {
     "ename": "SyntaxError",
     "evalue": "invalid syntax (383072502.py, line 2)",
     "output_type": "error",
     "traceback": [
      "\u001b[1;36m  Cell \u001b[1;32mIn[85], line 2\u001b[1;36m\u001b[0m\n\u001b[1;33m    Plot confusion matrix (optional but helpful for visualization)\u001b[0m\n\u001b[1;37m         ^\u001b[0m\n\u001b[1;31mSyntaxError\u001b[0m\u001b[1;31m:\u001b[0m invalid syntax\n"
     ]
    }
   ],
   "source": [
    "import seaborn as sns\n",
    "Plot confusion matrix (optional but helpful for visualization)\n",
    "plt.figure(figsize=(6, 4))\n",
    "sns.heatmap(conf_matrix, annot=True, fmt='d', cmap='Blues')\n",
    "plt.ylabel('Actual')\n",
    "plt.xlabel('Predicted')\n",
    "plt.title('Confusion Matrix')\n",
    "plt.show()"
   ]
  },
  {
   "cell_type": "code",
   "execution_count": null,
   "metadata": {},
   "outputs": [],
   "source": []
  }
 ],
 "metadata": {
  "kaggle": {
   "accelerator": "none",
   "dataSources": [
    {
     "datasetId": 2892711,
     "sourceId": 4987461,
     "sourceType": "datasetVersion"
    }
   ],
   "dockerImageVersionId": 30626,
   "isGpuEnabled": false,
   "isInternetEnabled": true,
   "language": "python",
   "sourceType": "notebook"
  },
  "kernelspec": {
   "display_name": "Python 3 (ipykernel)",
   "language": "python",
   "name": "python3"
  },
  "language_info": {
   "codemirror_mode": {
    "name": "ipython",
    "version": 3
   },
   "file_extension": ".py",
   "mimetype": "text/x-python",
   "name": "python",
   "nbconvert_exporter": "python",
   "pygments_lexer": "ipython3",
   "version": "3.12.4"
  }
 },
 "nbformat": 4,
 "nbformat_minor": 4
}
