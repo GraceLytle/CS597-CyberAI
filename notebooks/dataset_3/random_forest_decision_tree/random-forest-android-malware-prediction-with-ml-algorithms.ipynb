{
 "cells": [
  {
   "cell_type": "markdown",
   "metadata": {},
   "source": [
    "# Data Cleansing and Preparation:\n",
    "## The initial data cleansing and preparation steps were followed by the work in the source below:\n",
    "### https://www.kaggle.com/code/okanulu/android-malware-prediction-with-ml-algorithms\n",
    "## The choice to use only Android_SMS_Malware and Benign labels along with the  Random Forest Decision Tree model implementation, analysis, and evaluation are uniue to this notebook.t"
   ]
  },
  {
   "cell_type": "code",
   "execution_count": 1,
   "metadata": {
    "_cell_guid": "b1076dfc-b9ad-4769-8c92-a6c4dae69d19",
    "_uuid": "8f2839f25d086af736a60e9eeb907d3b93b6e0e5"
   },
   "outputs": [],
   "source": [
    "# This Python 3 environment comes with many helpful analytics libraries installed\n",
    "# It is defined by the kaggle/python Docker image: https://github.com/kaggle/docker-python\n",
    "# For example, here's several helpful packages to load\n",
    "\n",
    "import numpy as np # linear algebra\n",
    "import pandas as pd # data processing, CSV file I/O (e.g. pd.read_csv)\n",
    "\n",
    "# Input data files are available in the read-only \"../input/\" directory\n",
    "# For example, running this (by clicking run or pressing Shift+Enter) will list all files under the input directory\n",
    "\n",
    "import os\n",
    "for dirname, _, filenames in os.walk('/kaggle/input'):\n",
    "    for filename in filenames:\n",
    "        print(os.path.join(dirname, filename))\n",
    "\n",
    "# You can write up to 20GB to the current directory (/kaggle/working/) that gets preserved as output when you create a version using \"Save & Run All\" \n",
    "# You can also write temporary files to /kaggle/temp/, but they won't be saved outside of the current session"
   ]
  },
  {
   "cell_type": "code",
   "execution_count": 2,
   "metadata": {},
   "outputs": [],
   "source": [
    "import pandas as pd\n",
    "import numpy as np\n",
    "np.random.seed(0)\n",
    "import matplotlib.pyplot as plt\n",
    "from sklearn.preprocessing import LabelEncoder\n",
    "from sklearn.utils import resample\n",
    "import seaborn as sns\n",
    "import matplotlib.pyplot as plt\n",
    "from sklearn.model_selection import train_test_split"
   ]
  },
  {
   "cell_type": "code",
   "execution_count": 3,
   "metadata": {},
   "outputs": [],
   "source": [
    "from sklearn.ensemble import RandomForestClassifier\n",
    "from sklearn.tree import DecisionTreeClassifier\n",
    "from sklearn.metrics import classification_report, roc_curve, auc\n",
    "from sklearn.exceptions import ConvergenceWarning, UndefinedMetricWarning\n",
    "from sklearn.ensemble import GradientBoostingClassifier, AdaBoostClassifier\n",
    "from sklearn.naive_bayes import GaussianNB, MultinomialNB\n",
    "from sklearn.neural_network import MLPClassifier\n",
    "from sklearn.ensemble import BaggingClassifier\n",
    "from sklearn.metrics import confusion_matrix\n",
    "import warnings"
   ]
  },
  {
   "cell_type": "code",
   "execution_count": 4,
   "metadata": {},
   "outputs": [
    {
     "name": "stderr",
     "output_type": "stream",
     "text": [
      "C:\\Users\\grace\\AppData\\Local\\Temp\\ipykernel_33628\\4204408830.py:1: DtypeWarning: Columns (56,58,63) have mixed types. Specify dtype option on import or set low_memory=False.\n",
      "  data = pd.read_csv(\"../../../data/Android_Malware.csv\")\n"
     ]
    },
    {
     "name": "stdout",
     "output_type": "stream",
     "text": [
      "        Unnamed: 0                                  Flow ID     Source IP  \\\n",
      "0                0    172.217.6.202-10.42.0.211-443-50004-6   10.42.0.211   \n",
      "1                1    172.217.6.202-10.42.0.211-443-35455-6   10.42.0.211   \n",
      "2                2    131.253.61.68-10.42.0.211-443-51775-6   10.42.0.211   \n",
      "3                3    131.253.61.68-10.42.0.211-443-51775-6   10.42.0.211   \n",
      "4                4    131.253.61.68-10.42.0.211-443-51776-6   10.42.0.211   \n",
      "...            ...                                      ...           ...   \n",
      "355625         405      172.217.7.14-10.42.0.211-80-38405-6  172.217.7.14   \n",
      "355626         406         10.42.0.211-10.42.0.1-7632-53-17   10.42.0.211   \n",
      "355627         407  10.42.0.211-104.192.110.245-45970-443-6   10.42.0.211   \n",
      "355628         408        10.42.0.211-10.42.0.1-51982-53-17   10.42.0.211   \n",
      "355629         409         10.42.0.211-10.42.0.1-9320-53-17   10.42.0.211   \n",
      "\n",
      "         Source Port   Destination IP   Destination Port   Protocol  \\\n",
      "0              50004    172.217.6.202              443.0        6.0   \n",
      "1              35455    172.217.6.202              443.0        6.0   \n",
      "2              51775    131.253.61.68              443.0        6.0   \n",
      "3              51775    131.253.61.68              443.0        6.0   \n",
      "4              51776    131.253.61.68              443.0        6.0   \n",
      "...              ...              ...                ...        ...   \n",
      "355625            80      10.42.0.211            38405.0        6.0   \n",
      "355626          7632        10.42.0.1               53.0       17.0   \n",
      "355627         45970  104.192.110.245              443.0        6.0   \n",
      "355628         51982        10.42.0.1               53.0       17.0   \n",
      "355629          9320        10.42.0.1               53.0       17.0   \n",
      "\n",
      "                  Timestamp   Flow Duration   Total Fwd Packets  ...  \\\n",
      "0       13/06/2017 11:52:39           37027                   1  ...   \n",
      "1       13/06/2017 11:52:39           36653                   1  ...   \n",
      "2       13/06/2017 11:52:42          534099                   8  ...   \n",
      "3       13/06/2017 11:52:43            9309                   3  ...   \n",
      "4       13/06/2017 11:52:42        19890496                   8  ...   \n",
      "...                     ...             ...                 ...  ...   \n",
      "355625  17/06/2017 01:29:11          126711                   1  ...   \n",
      "355626  17/06/2017 01:30:33           48012                   1  ...   \n",
      "355627  17/06/2017 01:29:45        20028018                  11  ...   \n",
      "355628  17/06/2017 01:29:45          347926                   1  ...   \n",
      "355629  17/06/2017 01:30:33          125473                   1  ...   \n",
      "\n",
      "         min_seg_size_forward  Active Mean   Active Std   Active Max  \\\n",
      "0                        32.0          0.0          0.0          0.0   \n",
      "1                        32.0          0.0          0.0          0.0   \n",
      "2                        20.0          0.0          0.0          0.0   \n",
      "3                        20.0          0.0          0.0          0.0   \n",
      "4                        20.0          0.0          0.0          0.0   \n",
      "...                       ...          ...          ...          ...   \n",
      "355625                   32.0          0.0          0.0          0.0   \n",
      "355626                   32.0          0.0          0.0          0.0   \n",
      "355627                   20.0     367528.0          0.0     367528.0   \n",
      "355628                   20.0          0.0          0.0          0.0   \n",
      "355629                   32.0          0.0          0.0          0.0   \n",
      "\n",
      "         Active Min   Idle Mean   Idle Std    Idle Max    Idle Min  \\\n",
      "0               0.0         0.0        0.0         0.0         0.0   \n",
      "1               0.0         0.0        0.0         0.0         0.0   \n",
      "2               0.0         0.0        0.0         0.0         0.0   \n",
      "3               0.0         0.0        0.0         0.0         0.0   \n",
      "4               0.0         0.0        0.0         0.0         0.0   \n",
      "...             ...         ...        ...         ...         ...   \n",
      "355625          0.0         0.0        0.0         0.0         0.0   \n",
      "355626          0.0         0.0        0.0         0.0         0.0   \n",
      "355627     367528.0  19660490.0        0.0  19660490.0  19660490.0   \n",
      "355628          0.0         0.0        0.0         0.0         0.0   \n",
      "355629          0.0         0.0        0.0         0.0         0.0   \n",
      "\n",
      "                 Label  \n",
      "0       Android_Adware  \n",
      "1       Android_Adware  \n",
      "2       Android_Adware  \n",
      "3       Android_Adware  \n",
      "4       Android_Adware  \n",
      "...                ...  \n",
      "355625          Benign  \n",
      "355626          Benign  \n",
      "355627          Benign  \n",
      "355628          Benign  \n",
      "355629          Benign  \n",
      "\n",
      "[355630 rows x 86 columns]\n"
     ]
    }
   ],
   "source": [
    "data = pd.read_csv(\"../../../data/Android_Malware.csv\")\n",
    "print(data)\n",
    "data = data.drop(' Timestamp', axis=1)"
   ]
  },
  {
   "cell_type": "code",
   "execution_count": 5,
   "metadata": {},
   "outputs": [
    {
     "name": "stdout",
     "output_type": "stream",
     "text": [
      "['Unnamed: 0', 'Flow ID', ' Source IP', ' Source Port', ' Destination IP', ' Destination Port', ' Protocol', ' Flow Duration', ' Total Fwd Packets', ' Total Backward Packets', 'Total Length of Fwd Packets', ' Total Length of Bwd Packets', ' Fwd Packet Length Max', ' Fwd Packet Length Min', ' Fwd Packet Length Mean', ' Fwd Packet Length Std', 'Bwd Packet Length Max', ' Bwd Packet Length Min', ' Bwd Packet Length Mean', ' Bwd Packet Length Std', 'Flow Bytes/s', ' Flow Packets/s', ' Flow IAT Mean', ' Flow IAT Std', ' Flow IAT Max', ' Flow IAT Min', 'Fwd IAT Total', ' Fwd IAT Mean', ' Fwd IAT Std', ' Fwd IAT Max', ' Fwd IAT Min', 'Bwd IAT Total', ' Bwd IAT Mean', ' Bwd IAT Std', ' Bwd IAT Max', ' Bwd IAT Min', 'Fwd PSH Flags', ' Bwd PSH Flags', ' Fwd URG Flags', ' Bwd URG Flags', ' Fwd Header Length', ' Bwd Header Length', 'Fwd Packets/s', ' Bwd Packets/s', ' Min Packet Length', ' Max Packet Length', ' Packet Length Mean', ' Packet Length Std', ' Packet Length Variance', 'FIN Flag Count', ' SYN Flag Count', ' RST Flag Count', ' PSH Flag Count', ' ACK Flag Count', ' URG Flag Count', ' CWE Flag Count', ' ECE Flag Count', ' Down/Up Ratio', ' Average Packet Size', ' Avg Fwd Segment Size', ' Avg Bwd Segment Size', ' Fwd Header Length.1', 'Fwd Avg Bytes/Bulk', ' Fwd Avg Packets/Bulk', ' Fwd Avg Bulk Rate', ' Bwd Avg Bytes/Bulk', ' Bwd Avg Packets/Bulk', 'Bwd Avg Bulk Rate', 'Subflow Fwd Packets', ' Subflow Fwd Bytes', ' Subflow Bwd Packets', ' Subflow Bwd Bytes', 'Init_Win_bytes_forward', ' Init_Win_bytes_backward', ' act_data_pkt_fwd', ' min_seg_size_forward', 'Active Mean', ' Active Std', ' Active Max', ' Active Min', 'Idle Mean', ' Idle Std', ' Idle Max', ' Idle Min', 'Label']\n"
     ]
    }
   ],
   "source": [
    "print(data.columns.tolist())"
   ]
  },
  {
   "cell_type": "code",
   "execution_count": 6,
   "metadata": {},
   "outputs": [
    {
     "name": "stdout",
     "output_type": "stream",
     "text": [
      "Label\n",
      "Android_Adware         147443\n",
      "Android_Scareware      117082\n",
      "Android_SMS_Malware     67397\n",
      "Benign                  23708\n",
      "Name: count, dtype: int64\n",
      "['Android_Adware', 'Android_SMS_Malware', 'Android_Scareware', 'Benign']\n"
     ]
    }
   ],
   "source": [
    "print(data['Label'].value_counts())\n",
    "names=sorted(data['Label'].unique().tolist())\n",
    "print(names)"
   ]
  },
  {
   "cell_type": "code",
   "execution_count": 7,
   "metadata": {},
   "outputs": [
    {
     "name": "stdout",
     "output_type": "stream",
     "text": [
      "Unnamed: 0           int64\n",
      "Flow ID             object\n",
      " Source IP          object\n",
      " Source Port         int64\n",
      " Destination IP     object\n",
      "                    ...   \n",
      "Idle Mean          float64\n",
      " Idle Std          float64\n",
      " Idle Max          float64\n",
      " Idle Min          float64\n",
      "Label               object\n",
      "Length: 85, dtype: object\n"
     ]
    }
   ],
   "source": [
    "print(data.dtypes)"
   ]
  },
  {
   "cell_type": "code",
   "execution_count": 8,
   "metadata": {},
   "outputs": [
    {
     "data": {
      "text/html": [
       "<div>\n",
       "<style scoped>\n",
       "    .dataframe tbody tr th:only-of-type {\n",
       "        vertical-align: middle;\n",
       "    }\n",
       "\n",
       "    .dataframe tbody tr th {\n",
       "        vertical-align: top;\n",
       "    }\n",
       "\n",
       "    .dataframe thead th {\n",
       "        text-align: right;\n",
       "    }\n",
       "</style>\n",
       "<table border=\"1\" class=\"dataframe\">\n",
       "  <thead>\n",
       "    <tr style=\"text-align: right;\">\n",
       "      <th></th>\n",
       "      <th>Unnamed: 0</th>\n",
       "      <th>Flow ID</th>\n",
       "      <th>Source IP</th>\n",
       "      <th>Source Port</th>\n",
       "      <th>Destination IP</th>\n",
       "      <th>Destination Port</th>\n",
       "      <th>Protocol</th>\n",
       "      <th>Flow Duration</th>\n",
       "      <th>Total Fwd Packets</th>\n",
       "      <th>Total Backward Packets</th>\n",
       "      <th>...</th>\n",
       "      <th>min_seg_size_forward</th>\n",
       "      <th>Active Mean</th>\n",
       "      <th>Active Std</th>\n",
       "      <th>Active Max</th>\n",
       "      <th>Active Min</th>\n",
       "      <th>Idle Mean</th>\n",
       "      <th>Idle Std</th>\n",
       "      <th>Idle Max</th>\n",
       "      <th>Idle Min</th>\n",
       "      <th>Label</th>\n",
       "    </tr>\n",
       "  </thead>\n",
       "  <tbody>\n",
       "    <tr>\n",
       "      <th>0</th>\n",
       "      <td>0</td>\n",
       "      <td>172.217.6.202-10.42.0.211-443-50004-6</td>\n",
       "      <td>10.42.0.211</td>\n",
       "      <td>50004</td>\n",
       "      <td>172.217.6.202</td>\n",
       "      <td>443.0</td>\n",
       "      <td>6.0</td>\n",
       "      <td>37027</td>\n",
       "      <td>1</td>\n",
       "      <td>1</td>\n",
       "      <td>...</td>\n",
       "      <td>32.0</td>\n",
       "      <td>0.0</td>\n",
       "      <td>0.0</td>\n",
       "      <td>0.0</td>\n",
       "      <td>0.0</td>\n",
       "      <td>0.0</td>\n",
       "      <td>0.0</td>\n",
       "      <td>0.0</td>\n",
       "      <td>0.0</td>\n",
       "      <td>Android_Adware</td>\n",
       "    </tr>\n",
       "    <tr>\n",
       "      <th>1</th>\n",
       "      <td>1</td>\n",
       "      <td>172.217.6.202-10.42.0.211-443-35455-6</td>\n",
       "      <td>10.42.0.211</td>\n",
       "      <td>35455</td>\n",
       "      <td>172.217.6.202</td>\n",
       "      <td>443.0</td>\n",
       "      <td>6.0</td>\n",
       "      <td>36653</td>\n",
       "      <td>1</td>\n",
       "      <td>1</td>\n",
       "      <td>...</td>\n",
       "      <td>32.0</td>\n",
       "      <td>0.0</td>\n",
       "      <td>0.0</td>\n",
       "      <td>0.0</td>\n",
       "      <td>0.0</td>\n",
       "      <td>0.0</td>\n",
       "      <td>0.0</td>\n",
       "      <td>0.0</td>\n",
       "      <td>0.0</td>\n",
       "      <td>Android_Adware</td>\n",
       "    </tr>\n",
       "    <tr>\n",
       "      <th>2</th>\n",
       "      <td>2</td>\n",
       "      <td>131.253.61.68-10.42.0.211-443-51775-6</td>\n",
       "      <td>10.42.0.211</td>\n",
       "      <td>51775</td>\n",
       "      <td>131.253.61.68</td>\n",
       "      <td>443.0</td>\n",
       "      <td>6.0</td>\n",
       "      <td>534099</td>\n",
       "      <td>8</td>\n",
       "      <td>12</td>\n",
       "      <td>...</td>\n",
       "      <td>20.0</td>\n",
       "      <td>0.0</td>\n",
       "      <td>0.0</td>\n",
       "      <td>0.0</td>\n",
       "      <td>0.0</td>\n",
       "      <td>0.0</td>\n",
       "      <td>0.0</td>\n",
       "      <td>0.0</td>\n",
       "      <td>0.0</td>\n",
       "      <td>Android_Adware</td>\n",
       "    </tr>\n",
       "    <tr>\n",
       "      <th>3</th>\n",
       "      <td>3</td>\n",
       "      <td>131.253.61.68-10.42.0.211-443-51775-6</td>\n",
       "      <td>10.42.0.211</td>\n",
       "      <td>51775</td>\n",
       "      <td>131.253.61.68</td>\n",
       "      <td>443.0</td>\n",
       "      <td>6.0</td>\n",
       "      <td>9309</td>\n",
       "      <td>3</td>\n",
       "      <td>0</td>\n",
       "      <td>...</td>\n",
       "      <td>20.0</td>\n",
       "      <td>0.0</td>\n",
       "      <td>0.0</td>\n",
       "      <td>0.0</td>\n",
       "      <td>0.0</td>\n",
       "      <td>0.0</td>\n",
       "      <td>0.0</td>\n",
       "      <td>0.0</td>\n",
       "      <td>0.0</td>\n",
       "      <td>Android_Adware</td>\n",
       "    </tr>\n",
       "    <tr>\n",
       "      <th>4</th>\n",
       "      <td>4</td>\n",
       "      <td>131.253.61.68-10.42.0.211-443-51776-6</td>\n",
       "      <td>10.42.0.211</td>\n",
       "      <td>51776</td>\n",
       "      <td>131.253.61.68</td>\n",
       "      <td>443.0</td>\n",
       "      <td>6.0</td>\n",
       "      <td>19890496</td>\n",
       "      <td>8</td>\n",
       "      <td>6</td>\n",
       "      <td>...</td>\n",
       "      <td>20.0</td>\n",
       "      <td>0.0</td>\n",
       "      <td>0.0</td>\n",
       "      <td>0.0</td>\n",
       "      <td>0.0</td>\n",
       "      <td>0.0</td>\n",
       "      <td>0.0</td>\n",
       "      <td>0.0</td>\n",
       "      <td>0.0</td>\n",
       "      <td>Android_Adware</td>\n",
       "    </tr>\n",
       "    <tr>\n",
       "      <th>...</th>\n",
       "      <td>...</td>\n",
       "      <td>...</td>\n",
       "      <td>...</td>\n",
       "      <td>...</td>\n",
       "      <td>...</td>\n",
       "      <td>...</td>\n",
       "      <td>...</td>\n",
       "      <td>...</td>\n",
       "      <td>...</td>\n",
       "      <td>...</td>\n",
       "      <td>...</td>\n",
       "      <td>...</td>\n",
       "      <td>...</td>\n",
       "      <td>...</td>\n",
       "      <td>...</td>\n",
       "      <td>...</td>\n",
       "      <td>...</td>\n",
       "      <td>...</td>\n",
       "      <td>...</td>\n",
       "      <td>...</td>\n",
       "      <td>...</td>\n",
       "    </tr>\n",
       "    <tr>\n",
       "      <th>355625</th>\n",
       "      <td>405</td>\n",
       "      <td>172.217.7.14-10.42.0.211-80-38405-6</td>\n",
       "      <td>172.217.7.14</td>\n",
       "      <td>80</td>\n",
       "      <td>10.42.0.211</td>\n",
       "      <td>38405.0</td>\n",
       "      <td>6.0</td>\n",
       "      <td>126711</td>\n",
       "      <td>1</td>\n",
       "      <td>1</td>\n",
       "      <td>...</td>\n",
       "      <td>32.0</td>\n",
       "      <td>0.0</td>\n",
       "      <td>0.0</td>\n",
       "      <td>0.0</td>\n",
       "      <td>0.0</td>\n",
       "      <td>0.0</td>\n",
       "      <td>0.0</td>\n",
       "      <td>0.0</td>\n",
       "      <td>0.0</td>\n",
       "      <td>Benign</td>\n",
       "    </tr>\n",
       "    <tr>\n",
       "      <th>355626</th>\n",
       "      <td>406</td>\n",
       "      <td>10.42.0.211-10.42.0.1-7632-53-17</td>\n",
       "      <td>10.42.0.211</td>\n",
       "      <td>7632</td>\n",
       "      <td>10.42.0.1</td>\n",
       "      <td>53.0</td>\n",
       "      <td>17.0</td>\n",
       "      <td>48012</td>\n",
       "      <td>1</td>\n",
       "      <td>1</td>\n",
       "      <td>...</td>\n",
       "      <td>32.0</td>\n",
       "      <td>0.0</td>\n",
       "      <td>0.0</td>\n",
       "      <td>0.0</td>\n",
       "      <td>0.0</td>\n",
       "      <td>0.0</td>\n",
       "      <td>0.0</td>\n",
       "      <td>0.0</td>\n",
       "      <td>0.0</td>\n",
       "      <td>Benign</td>\n",
       "    </tr>\n",
       "    <tr>\n",
       "      <th>355627</th>\n",
       "      <td>407</td>\n",
       "      <td>10.42.0.211-104.192.110.245-45970-443-6</td>\n",
       "      <td>10.42.0.211</td>\n",
       "      <td>45970</td>\n",
       "      <td>104.192.110.245</td>\n",
       "      <td>443.0</td>\n",
       "      <td>6.0</td>\n",
       "      <td>20028018</td>\n",
       "      <td>11</td>\n",
       "      <td>8</td>\n",
       "      <td>...</td>\n",
       "      <td>20.0</td>\n",
       "      <td>367528.0</td>\n",
       "      <td>0.0</td>\n",
       "      <td>367528.0</td>\n",
       "      <td>367528.0</td>\n",
       "      <td>19660490.0</td>\n",
       "      <td>0.0</td>\n",
       "      <td>19660490.0</td>\n",
       "      <td>19660490.0</td>\n",
       "      <td>Benign</td>\n",
       "    </tr>\n",
       "    <tr>\n",
       "      <th>355628</th>\n",
       "      <td>408</td>\n",
       "      <td>10.42.0.211-10.42.0.1-51982-53-17</td>\n",
       "      <td>10.42.0.211</td>\n",
       "      <td>51982</td>\n",
       "      <td>10.42.0.1</td>\n",
       "      <td>53.0</td>\n",
       "      <td>17.0</td>\n",
       "      <td>347926</td>\n",
       "      <td>1</td>\n",
       "      <td>1</td>\n",
       "      <td>...</td>\n",
       "      <td>20.0</td>\n",
       "      <td>0.0</td>\n",
       "      <td>0.0</td>\n",
       "      <td>0.0</td>\n",
       "      <td>0.0</td>\n",
       "      <td>0.0</td>\n",
       "      <td>0.0</td>\n",
       "      <td>0.0</td>\n",
       "      <td>0.0</td>\n",
       "      <td>Benign</td>\n",
       "    </tr>\n",
       "    <tr>\n",
       "      <th>355629</th>\n",
       "      <td>409</td>\n",
       "      <td>10.42.0.211-10.42.0.1-9320-53-17</td>\n",
       "      <td>10.42.0.211</td>\n",
       "      <td>9320</td>\n",
       "      <td>10.42.0.1</td>\n",
       "      <td>53.0</td>\n",
       "      <td>17.0</td>\n",
       "      <td>125473</td>\n",
       "      <td>1</td>\n",
       "      <td>1</td>\n",
       "      <td>...</td>\n",
       "      <td>32.0</td>\n",
       "      <td>0.0</td>\n",
       "      <td>0.0</td>\n",
       "      <td>0.0</td>\n",
       "      <td>0.0</td>\n",
       "      <td>0.0</td>\n",
       "      <td>0.0</td>\n",
       "      <td>0.0</td>\n",
       "      <td>0.0</td>\n",
       "      <td>Benign</td>\n",
       "    </tr>\n",
       "  </tbody>\n",
       "</table>\n",
       "<p>355630 rows × 85 columns</p>\n",
       "</div>"
      ],
      "text/plain": [
       "        Unnamed: 0                                  Flow ID     Source IP  \\\n",
       "0                0    172.217.6.202-10.42.0.211-443-50004-6   10.42.0.211   \n",
       "1                1    172.217.6.202-10.42.0.211-443-35455-6   10.42.0.211   \n",
       "2                2    131.253.61.68-10.42.0.211-443-51775-6   10.42.0.211   \n",
       "3                3    131.253.61.68-10.42.0.211-443-51775-6   10.42.0.211   \n",
       "4                4    131.253.61.68-10.42.0.211-443-51776-6   10.42.0.211   \n",
       "...            ...                                      ...           ...   \n",
       "355625         405      172.217.7.14-10.42.0.211-80-38405-6  172.217.7.14   \n",
       "355626         406         10.42.0.211-10.42.0.1-7632-53-17   10.42.0.211   \n",
       "355627         407  10.42.0.211-104.192.110.245-45970-443-6   10.42.0.211   \n",
       "355628         408        10.42.0.211-10.42.0.1-51982-53-17   10.42.0.211   \n",
       "355629         409         10.42.0.211-10.42.0.1-9320-53-17   10.42.0.211   \n",
       "\n",
       "         Source Port   Destination IP   Destination Port   Protocol  \\\n",
       "0              50004    172.217.6.202              443.0        6.0   \n",
       "1              35455    172.217.6.202              443.0        6.0   \n",
       "2              51775    131.253.61.68              443.0        6.0   \n",
       "3              51775    131.253.61.68              443.0        6.0   \n",
       "4              51776    131.253.61.68              443.0        6.0   \n",
       "...              ...              ...                ...        ...   \n",
       "355625            80      10.42.0.211            38405.0        6.0   \n",
       "355626          7632        10.42.0.1               53.0       17.0   \n",
       "355627         45970  104.192.110.245              443.0        6.0   \n",
       "355628         51982        10.42.0.1               53.0       17.0   \n",
       "355629          9320        10.42.0.1               53.0       17.0   \n",
       "\n",
       "         Flow Duration   Total Fwd Packets   Total Backward Packets  ...  \\\n",
       "0                37027                   1                        1  ...   \n",
       "1                36653                   1                        1  ...   \n",
       "2               534099                   8                       12  ...   \n",
       "3                 9309                   3                        0  ...   \n",
       "4             19890496                   8                        6  ...   \n",
       "...                ...                 ...                      ...  ...   \n",
       "355625          126711                   1                        1  ...   \n",
       "355626           48012                   1                        1  ...   \n",
       "355627        20028018                  11                        8  ...   \n",
       "355628          347926                   1                        1  ...   \n",
       "355629          125473                   1                        1  ...   \n",
       "\n",
       "         min_seg_size_forward  Active Mean   Active Std   Active Max  \\\n",
       "0                        32.0          0.0          0.0          0.0   \n",
       "1                        32.0          0.0          0.0          0.0   \n",
       "2                        20.0          0.0          0.0          0.0   \n",
       "3                        20.0          0.0          0.0          0.0   \n",
       "4                        20.0          0.0          0.0          0.0   \n",
       "...                       ...          ...          ...          ...   \n",
       "355625                   32.0          0.0          0.0          0.0   \n",
       "355626                   32.0          0.0          0.0          0.0   \n",
       "355627                   20.0     367528.0          0.0     367528.0   \n",
       "355628                   20.0          0.0          0.0          0.0   \n",
       "355629                   32.0          0.0          0.0          0.0   \n",
       "\n",
       "         Active Min   Idle Mean   Idle Std    Idle Max    Idle Min  \\\n",
       "0               0.0         0.0        0.0         0.0         0.0   \n",
       "1               0.0         0.0        0.0         0.0         0.0   \n",
       "2               0.0         0.0        0.0         0.0         0.0   \n",
       "3               0.0         0.0        0.0         0.0         0.0   \n",
       "4               0.0         0.0        0.0         0.0         0.0   \n",
       "...             ...         ...        ...         ...         ...   \n",
       "355625          0.0         0.0        0.0         0.0         0.0   \n",
       "355626          0.0         0.0        0.0         0.0         0.0   \n",
       "355627     367528.0  19660490.0        0.0  19660490.0  19660490.0   \n",
       "355628          0.0         0.0        0.0         0.0         0.0   \n",
       "355629          0.0         0.0        0.0         0.0         0.0   \n",
       "\n",
       "                 Label  \n",
       "0       Android_Adware  \n",
       "1       Android_Adware  \n",
       "2       Android_Adware  \n",
       "3       Android_Adware  \n",
       "4       Android_Adware  \n",
       "...                ...  \n",
       "355625          Benign  \n",
       "355626          Benign  \n",
       "355627          Benign  \n",
       "355628          Benign  \n",
       "355629          Benign  \n",
       "\n",
       "[355630 rows x 85 columns]"
      ]
     },
     "execution_count": 8,
     "metadata": {},
     "output_type": "execute_result"
    }
   ],
   "source": [
    "data"
   ]
  },
  {
   "cell_type": "code",
   "execution_count": 9,
   "metadata": {},
   "outputs": [
    {
     "name": "stdout",
     "output_type": "stream",
     "text": [
      "Total Features :  84\n"
     ]
    }
   ],
   "source": [
    "print(\"Total Features : \",len(data.columns)-1)"
   ]
  },
  {
   "cell_type": "markdown",
   "metadata": {},
   "source": [
    "# Data Preprocessing done unique to this notebook:\n",
    "\n",
    "- Filtering the Dataset: The dataset is filtered to include only two labels—'Benign' and 'Android_SMS_Malware'—by dropping irrelevant categories ('Android_Adware' and 'Android_Scareware'). This ensures the model focuses on the most relevant classification task.\n",
    "\n",
    "- Dropping Non-Numeric Columns: Non-numeric columns, such as 'Flow ID', 'Source IP', 'Destination IP', and others, are removed from the feature set. This is critical because machine learning models, including Random Forests, require numerical input data for training.\n",
    "\n",
    "- Ensuring Numeric Data: After dropping non-numeric columns, the feature matrix (X) is checked to ensure only numeric columns remain. This step ensures that there are no data type issues when passing the data to the model.\n",
    "\n",
    "- Label Encoding: The target variable (y) is mapped to integers—0 for 'Benign' and 1 for 'Android_SMS_Malware'. This allows the model to interpret the categorical labels as numeric values for classification."
   ]
  },
  {
   "cell_type": "markdown",
   "metadata": {},
   "source": [
    "## Step 1: Filter the dataset to include only 'Android_SMS_Malware' and 'Benign'"
   ]
  },
  {
   "cell_type": "code",
   "execution_count": 10,
   "metadata": {},
   "outputs": [],
   "source": [
    "import numpy as np\n",
    "import pandas as pd\n",
    "from sklearn.ensemble import RandomForestClassifier\n",
    "from sklearn.model_selection import cross_val_predict\n",
    "from sklearn.metrics import accuracy_score, confusion_matrix, classification_report\n",
    "from sklearn.utils import resample\n",
    "\n",
    "filtered_data = data[data[\"Label\"].isin(['Android_SMS_Malware', 'Benign'])]"
   ]
  },
  {
   "cell_type": "markdown",
   "metadata": {},
   "source": [
    "## Step 2: Drop non-numeric columns"
   ]
  },
  {
   "cell_type": "code",
   "execution_count": 11,
   "metadata": {},
   "outputs": [],
   "source": [
    "X_filtered = filtered_data.drop(['Flow ID', ' Source IP', ' Destination IP', ' CWE Flag Count', ' Down/Up Ratio', 'Fwd Avg Bytes/Bulk', 'Label'], axis=1)"
   ]
  },
  {
   "cell_type": "markdown",
   "metadata": {},
   "source": [
    "## Step 3: Ensure only numeric data remains"
   ]
  },
  {
   "cell_type": "code",
   "execution_count": 12,
   "metadata": {},
   "outputs": [],
   "source": [
    "X_filtered_numeric = X_filtered.select_dtypes(include=[np.number])"
   ]
  },
  {
   "cell_type": "markdown",
   "metadata": {},
   "source": [
    "## Verify that only numeric columns remain"
   ]
  },
  {
   "cell_type": "code",
   "execution_count": 13,
   "metadata": {},
   "outputs": [
    {
     "name": "stdout",
     "output_type": "stream",
     "text": [
      "Unnamed: 0             int64\n",
      " Source Port           int64\n",
      " Destination Port    float64\n",
      " Protocol            float64\n",
      " Flow Duration         int64\n",
      "                      ...   \n",
      " Active Min          float64\n",
      "Idle Mean            float64\n",
      " Idle Std            float64\n",
      " Idle Max            float64\n",
      " Idle Min            float64\n",
      "Length: 78, dtype: object\n"
     ]
    }
   ],
   "source": [
    "print(X_filtered_numeric.dtypes)"
   ]
  },
  {
   "cell_type": "markdown",
   "metadata": {},
   "source": [
    "## Step 4: Separate features (X) and target (y) after filtering"
   ]
  },
  {
   "cell_type": "code",
   "execution_count": 14,
   "metadata": {},
   "outputs": [],
   "source": [
    "X = X_filtered_numeric\n",
    "y = filtered_data[\"Label\"]"
   ]
  },
  {
   "cell_type": "markdown",
   "metadata": {},
   "source": [
    "## Step 5: Convert the target labels into numerical categories (Benign = 0, Android_SMS_Malware = 1)"
   ]
  },
  {
   "cell_type": "code",
   "execution_count": 15,
   "metadata": {},
   "outputs": [],
   "source": [
    "y = y.map({'Benign': 0, 'Android_SMS_Malware': 1})"
   ]
  },
  {
   "cell_type": "markdown",
   "metadata": {},
   "source": [
    "## Step 6: Check the data types of y to ensure it's numeric"
   ]
  },
  {
   "cell_type": "code",
   "execution_count": 16,
   "metadata": {},
   "outputs": [
    {
     "name": "stdout",
     "output_type": "stream",
     "text": [
      "int64\n"
     ]
    }
   ],
   "source": [
    "print(y.dtypes)  # It should print \"int64\" or similar to indicate discrete values"
   ]
  },
  {
   "cell_type": "code",
   "execution_count": 21,
   "metadata": {},
   "outputs": [],
   "source": [
    "from sklearn.impute import SimpleImputer\n",
    "import numpy as np\n",
    "\n",
    "# Impute missing values in X_balanced (replace NaNs with the column mean)\n",
    "imputer = SimpleImputer(strategy='mean')  # You can also use 'median' or other strategies\n",
    "X_balanced_imputed = imputer.fit_transform(X_balanced)"
   ]
  },
  {
   "cell_type": "markdown",
   "metadata": {},
   "source": [
    "# Data Balancing: \n",
    "- Balancing Classes: Since class imbalance can negatively impact model performance, the balance_data function resamples the data to ensure both classes ('Benign' and 'Android_SMS_Malware') are equally represented. This step involves resampling the minority class (whichever has fewer samples) so that both classes have the same number of data points. After balancing, the data is shuffled to randomize the sample order.\n",
    "\n",
    "- Ensuring Numeric Labels: The balanced target variable (y_balanced) is explicitly converted to integers. This step ensures that the model correctly interprets the labels as discrete classes during training and evaluation."
   ]
  },
  {
   "cell_type": "markdown",
   "metadata": {},
   "source": [
    "## Step 7: Balance the dataset using the balance_data function"
   ]
  },
  {
   "cell_type": "code",
   "execution_count": 17,
   "metadata": {},
   "outputs": [],
   "source": [
    "def balance_data(X, y, random_state=0):\n",
    "    # Combine X and y into one DataFrame\n",
    "    data = pd.concat([X, y], axis=1)\n",
    "    class_counts = y.value_counts()\n",
    "    minority_class_count = class_counts.min()\n",
    "    balanced_data = pd.DataFrame(columns=data.columns)\n",
    "\n",
    "    for label in class_counts.index:\n",
    "        class_samples = data[data[\"Label\"] == label]\n",
    "        resampled_samples = resample(class_samples,\n",
    "                                     replace=True,\n",
    "                                     n_samples=minority_class_count,\n",
    "                                     random_state=random_state)\n",
    "        balanced_data = pd.concat([balanced_data, resampled_samples])\n",
    "\n",
    "    balanced_data = balanced_data.sample(frac=1, random_state=random_state).reset_index(drop=True)\n",
    "    return balanced_data.drop(\"Label\", axis=1), balanced_data[\"Label\"]"
   ]
  },
  {
   "cell_type": "markdown",
   "metadata": {},
   "source": [
    "## Step 8: Balance the data"
   ]
  },
  {
   "cell_type": "code",
   "execution_count": 18,
   "metadata": {},
   "outputs": [],
   "source": [
    "X_balanced, y_balanced = balance_data(X, y)"
   ]
  },
  {
   "cell_type": "markdown",
   "metadata": {},
   "source": [
    "## Step 9: Ensure y_balanced is correctly mapped to integers"
   ]
  },
  {
   "cell_type": "code",
   "execution_count": 19,
   "metadata": {},
   "outputs": [
    {
     "name": "stdout",
     "output_type": "stream",
     "text": [
      "int32\n"
     ]
    }
   ],
   "source": [
    "y_balanced = y_balanced.astype(int)\n",
    "print(y_balanced.dtypes)  "
   ]
  },
  {
   "cell_type": "markdown",
   "metadata": {},
   "source": [
    "# Model Evaluation: \n",
    "- Random Forest Configurations: Six different Random Forest models are configured, each with varying parameters such as the number of trees (n_estimators), maximum tree depth (max_depth), and class weight balancing (class_weight). These variations allow for the exploration of different hyperparameters to find the best-performing model for the dataset.\n",
    "\n",
    "- 10-fold Cross-Validation: The cross_val_predict function is used to perform 10-fold cross-validation on the balanced dataset. In this process:\n",
    "The dataset is split into 10 equal subsets (folds).\n",
    "For each fold, the model is trained on 9 subsets and evaluated on the remaining subset.\n",
    "This process is repeated across all 10 folds, ensuring that every data point is used both for training and evaluation.\n",
    "Cross-validation helps to mitigate overfitting by providing a more robust evaluation, ensuring the model generalizes well to unseen data.\n",
    "\n",
    "# Evaluation Metrics: \n",
    "### Evaluation Metrics: For each Random Forest configuration:\n",
    "- cross_val_score: to evaluate the accuracy on each fold. The accuracy for each fold is shown along with the average of all folds.\n",
    "- Accuracy: The accuracy for each fold is calculated, along with the average accuracy across all 10 folds. This provides an overall measure of model performance.\n",
    "- Confusion Matrix: A confusion matrix is generated to show how well the model predicts each class ('Benign' vs. 'Android_SMS_Malware').\n",
    "- Classification Report: A detailed classification report provides precision, recall, F1-score, and support for each class, offering insight into how well the model distinguishes between 'Benign' and 'Android_SMS_Malware'.\n",
    "# Conclusion: \n",
    "By balancing the data, encoding the target labels, and using 10-fold cross-validation, this approach provides a comprehensive and robust evaluation of the different Random Forest configurations. The results from each model allow the user to select the most effective configuration for classifying 'Benign' and 'Android_SMS_Malware' traffic, ensuring the model performs well on new data.orest models"
   ]
  },
  {
   "cell_type": "code",
   "execution_count": 22,
   "metadata": {
    "scrolled": true
   },
   "outputs": [
    {
     "name": "stdout",
     "output_type": "stream",
     "text": [
      "============================== Random Forest Classifier 100 trees Cross-Validation Evaluation ==============================\n",
      "Accuracy for each fold: [0.91164066 0.91353859 0.91142978 0.91628005 0.91058625 0.91754534\n",
      " 0.90930184 0.91752795 0.91731702 0.90677072]\n",
      "Mean Accuracy across folds: 0.9132\n",
      "\n",
      "\n",
      "Model Accuracy (combined prediction): 91.32%\n",
      "Confusion Matrix:\n",
      " [[22265  1443]\n",
      " [ 2673 21035]]\n",
      "Classification Report:\n",
      "               precision    recall  f1-score   support\n",
      "\n",
      "           0       0.89      0.94      0.92     23708\n",
      "           1       0.94      0.89      0.91     23708\n",
      "\n",
      "    accuracy                           0.91     47416\n",
      "   macro avg       0.91      0.91      0.91     47416\n",
      "weighted avg       0.91      0.91      0.91     47416\n",
      "\n",
      "\n"
     ]
    },
    {
     "data": {
      "image/png": "[encoded data removed]",
      "text/plain": [
       "<Figure size 600x400 with 2 Axes>"
      ]
     },
     "metadata": {},
     "output_type": "display_data"
    },
    {
     "name": "stdout",
     "output_type": "stream",
     "text": [
      "============================== Random Forest Classifier 200 trees Cross-Validation Evaluation ==============================\n",
      "Accuracy for each fold: [0.91248418 0.91438212 0.91206242 0.91585829 0.91164066 0.91670181\n",
      " 0.91204387 0.9187935  0.91584054 0.90866906]\n",
      "Mean Accuracy across folds: 0.9138\n",
      "\n",
      "\n",
      "Model Accuracy (combined prediction): 91.38%\n",
      "Confusion Matrix:\n",
      " [[22239  1469]\n",
      " [ 2616 21092]]\n",
      "Classification Report:\n",
      "               precision    recall  f1-score   support\n",
      "\n",
      "           0       0.89      0.94      0.92     23708\n",
      "           1       0.93      0.89      0.91     23708\n",
      "\n",
      "    accuracy                           0.91     47416\n",
      "   macro avg       0.91      0.91      0.91     47416\n",
      "weighted avg       0.91      0.91      0.91     47416\n",
      "\n",
      "\n"
     ]
    },
    {
     "data": {
      "image/png": "[encoded data removed]",
      "text/plain": [
       "<Figure size 600x400 with 2 Axes>"
      ]
     },
     "metadata": {},
     "output_type": "display_data"
    },
    {
     "name": "stdout",
     "output_type": "stream",
     "text": [
      "============================== Random Forest Classifier 300 trees Cross-Validation Evaluation ==============================\n",
      "Accuracy for each fold: [0.91248418 0.91480388 0.91206242 0.91501476 0.91206242 0.91543652\n",
      " 0.91120017 0.91921536 0.91626239 0.91077832]\n",
      "Mean Accuracy across folds: 0.9139\n",
      "\n",
      "\n",
      "Model Accuracy (combined prediction): 91.39%\n",
      "Confusion Matrix:\n",
      " [[22252  1456]\n",
      " [ 2625 21083]]\n",
      "Classification Report:\n",
      "               precision    recall  f1-score   support\n",
      "\n",
      "           0       0.89      0.94      0.92     23708\n",
      "           1       0.94      0.89      0.91     23708\n",
      "\n",
      "    accuracy                           0.91     47416\n",
      "   macro avg       0.91      0.91      0.91     47416\n",
      "weighted avg       0.91      0.91      0.91     47416\n",
      "\n",
      "\n"
     ]
    },
    {
     "data": {
      "image/png": "[encoded data removed]",
      "text/plain": [
       "<Figure size 600x400 with 2 Axes>"
      ]
     },
     "metadata": {},
     "output_type": "display_data"
    },
    {
     "name": "stdout",
     "output_type": "stream",
     "text": [
      "============================== Random Forest Classifier with max depth 10 Cross-Validation Evaluation ==============================\n",
      "Accuracy for each fold: [0.83129481 0.83234922 0.82707718 0.83424715 0.83087305 0.82770983\n",
      " 0.8302046  0.83463404 0.83315756 0.826197  ]\n",
      "Mean Accuracy across folds: 0.8308\n",
      "\n",
      "\n",
      "Model Accuracy (combined prediction): 83.08%\n",
      "Confusion Matrix:\n",
      " [[22086  1622]\n",
      " [ 6402 17306]]\n",
      "Classification Report:\n",
      "               precision    recall  f1-score   support\n",
      "\n",
      "           0       0.78      0.93      0.85     23708\n",
      "           1       0.91      0.73      0.81     23708\n",
      "\n",
      "    accuracy                           0.83     47416\n",
      "   macro avg       0.84      0.83      0.83     47416\n",
      "weighted avg       0.84      0.83      0.83     47416\n",
      "\n",
      "\n"
     ]
    },
    {
     "data": {
      "image/png": "[encoded data removed]",
      "text/plain": [
       "<Figure size 600x400 with 2 Axes>"
      ]
     },
     "metadata": {},
     "output_type": "display_data"
    },
    {
     "name": "stdout",
     "output_type": "stream",
     "text": [
      "============================== Random Forest Classifier with max depth 20 Cross-Validation Evaluation ==============================\n",
      "Accuracy for each fold: [0.89814424 0.89877689 0.89962041 0.90257275 0.89898777 0.90425981\n",
      " 0.89896646 0.90107572 0.90191943 0.8951698 ]\n",
      "Mean Accuracy across folds: 0.8999\n",
      "\n",
      "\n",
      "Model Accuracy (combined prediction): 89.99%\n",
      "Confusion Matrix:\n",
      " [[22462  1246]\n",
      " [ 3498 20210]]\n",
      "Classification Report:\n",
      "               precision    recall  f1-score   support\n",
      "\n",
      "           0       0.87      0.95      0.90     23708\n",
      "           1       0.94      0.85      0.89     23708\n",
      "\n",
      "    accuracy                           0.90     47416\n",
      "   macro avg       0.90      0.90      0.90     47416\n",
      "weighted avg       0.90      0.90      0.90     47416\n",
      "\n",
      "\n"
     ]
    },
    {
     "data": {
      "image/png": "[encoded data removed]",
      "text/plain": [
       "<Figure size 600x400 with 2 Axes>"
      ]
     },
     "metadata": {},
     "output_type": "display_data"
    },
    {
     "name": "stdout",
     "output_type": "stream",
     "text": [
      "============================== Random Forest Classifier with balanced class weight Cross-Validation Evaluation ==============================\n",
      "Accuracy for each fold: [0.91164066 0.91353859 0.91142978 0.91628005 0.91058625 0.91754534\n",
      " 0.90972369 0.91647332 0.91520776 0.91330943]\n",
      "Mean Accuracy across folds: 0.9136\n",
      "\n",
      "\n",
      "Model Accuracy (combined prediction): 91.36%\n",
      "Confusion Matrix:\n",
      " [[22271  1437]\n",
      " [ 2661 21047]]\n",
      "Classification Report:\n",
      "               precision    recall  f1-score   support\n",
      "\n",
      "           0       0.89      0.94      0.92     23708\n",
      "           1       0.94      0.89      0.91     23708\n",
      "\n",
      "    accuracy                           0.91     47416\n",
      "   macro avg       0.91      0.91      0.91     47416\n",
      "weighted avg       0.91      0.91      0.91     47416\n",
      "\n",
      "\n"
     ]
    },
    {
     "data": {
      "image/png": "[encoded data removed]",
      "text/plain": [
       "<Figure size 600x400 with 2 Axes>"
      ]
     },
     "metadata": {},
     "output_type": "display_data"
    }
   ],
   "source": [
    "from sklearn.model_selection import cross_val_score, cross_val_predict\n",
    "\n",
    "# Step 10: Define and run the different Random Forest models data.r new data.\n",
    "models = [\n",
    "    ('Random Forest Classifier 100 trees', RandomForestClassifier(n_estimators=100, random_state=0, n_jobs=-1)),\n",
    "    ('Random Forest Classifier 200 trees', RandomForestClassifier(n_estimators=200, random_state=0, n_jobs=-1)),\n",
    "    ('Random Forest Classifier 300 trees', RandomForestClassifier(n_estimators=300, random_state=0, n_jobs=-1)),\n",
    "    ('Random Forest Classifier with max depth 10', RandomForestClassifier(n_estimators=100, max_depth=10, random_state=0, n_jobs=-1)),\n",
    "    ('Random Forest Classifier with max depth 20', RandomForestClassifier(n_estimators=100, max_depth=20, random_state=0, n_jobs=-1)),\n",
    "    ('Random Forest Classifier with balanced class weight', RandomForestClassifier(n_estimators=100, class_weight='balanced', random_state=0, n_jobs=-1))\n",
    "]\n",
    "\n",
    "# Step 11: Function to evaluate the model using cross-validation\n",
    "def evaluate_model_cv(model, X, y, model_name):\n",
    "    # Get predictions using cross-validation\n",
    "    y_pred = cross_val_predict(model, X, y, cv=10, n_jobs=-1)\n",
    "    \n",
    "    # Calculate accuracy\n",
    "    accuracy = accuracy_score(y, y_pred)\n",
    "    \n",
    "    # Generate confusion matrix\n",
    "    confusion_matrix_result = confusion_matrix(y, y_pred)\n",
    "    \n",
    "    # Generate classification report\n",
    "    classification = classification_report(y, y_pred)\n",
    "\n",
    "    # Perform 10-fold cross-validation to get accuracy for each fold\n",
    "    scores = cross_val_score(model, X, y, cv=10, scoring='accuracy', n_jobs=-1)\n",
    "    \n",
    "    # Print evaluation results\n",
    "    print(f'============================== {model_name} Cross-Validation Evaluation ==============================')\n",
    "    \n",
    "   # Print accuracy for each fold and the mean accuracy\n",
    "    print(f\"Accuracy for each fold: {scores}\")\n",
    "    print(f\"Mean Accuracy across folds: {np.mean(scores):.4f}\")\n",
    "    print(\"\\n\")\n",
    "    \n",
    "    # Print overall evaluation using combined cross-validation predictions\n",
    "    print(f'Model Accuracy (combined prediction): {accuracy * 100:.2f}%')\n",
    "    print('Confusion Matrix:\\n', confusion_matrix_result)\n",
    "    print('Classification Report:\\n', classification)\n",
    "    print()\n",
    "\n",
    "    # Plot confusion matrix using seaborn\n",
    "    plt.figure(figsize=(6, 4))\n",
    "    sns.heatmap(confusion_matrix_result, annot=True, fmt='d', cmap='Blues')\n",
    "    plt.ylabel('Actual')\n",
    "    plt.xlabel('Predicted')\n",
    "    plt.title(f'Confusion Matrix for {model_name}')\n",
    "    plt.show()\n",
    "\n",
    "# Step 12: Iterate through each Random Forest model and evaluate using cross-validation\n",
    "for model_name, model in models:\n",
    "    evaluate_model_cv(model, X_balanced_imputed, y_balanced, model_name)"
   ]
  },
  {
   "cell_type": "markdown",
   "metadata": {},
   "source": [
    "```\n",
    "# Results saved to perserve format.\n",
    "============================== Random Forest Classifier 100 trees Cross-Validation Evaluation ==============================\n",
    "Accuracy for each fold: [0.91164066 0.91353859 0.91142978 0.91628005 0.91058625 0.91754534\n",
    " 0.90930184 0.91752795 0.91731702 0.90677072]\n",
    "Mean Accuracy across folds: 0.9132\n",
    "\n",
    "\n",
    "Model Accuracy (combined prediction): 91.32%\n",
    "Confusion Matrix:\n",
    " [[22265  1443]\n",
    " [ 2673 21035]]\n",
    "Classification Report:\n",
    "               precision    recall  f1-score   support\n",
    "\n",
    "           0       0.89      0.94      0.92     23708\n",
    "           1       0.94      0.89      0.91     23708\n",
    "\n",
    "    accuracy                           0.91     47416\n",
    "   macro avg       0.91      0.91      0.91     47416\n",
    "weighted avg       0.91      0.91      0.91     47416\n",
    "\n",
    "\n",
    "\n",
    "============================== Random Forest Classifier 200 trees Cross-Validation Evaluation ==============================\n",
    "Accuracy for each fold: [0.91248418 0.91438212 0.91206242 0.91585829 0.91164066 0.91670181\n",
    " 0.91204387 0.9187935  0.91584054 0.90866906]\n",
    "Mean Accuracy across folds: 0.9138\n",
    "\n",
    "\n",
    "Model Accuracy (combined prediction): 91.38%\n",
    "Confusion Matrix:\n",
    " [[22239  1469]\n",
    " [ 2616 21092]]\n",
    "Classification Report:\n",
    "               precision    recall  f1-score   support\n",
    "\n",
    "           0       0.89      0.94      0.92     23708\n",
    "           1       0.93      0.89      0.91     23708\n",
    "\n",
    "    accuracy                           0.91     47416\n",
    "   macro avg       0.91      0.91      0.91     47416\n",
    "weighted avg       0.91      0.91      0.91     47416\n",
    "\n",
    "\n",
    "\n",
    "============================== Random Forest Classifier 300 trees Cross-Validation Evaluation ==============================\n",
    "Accuracy for each fold: [0.91248418 0.91480388 0.91206242 0.91501476 0.91206242 0.91543652\n",
    " 0.91120017 0.91921536 0.91626239 0.91077832]\n",
    "Mean Accuracy across folds: 0.9139\n",
    "\n",
    "\n",
    "Model Accuracy (combined prediction): 91.39%\n",
    "Confusion Matrix:\n",
    " [[22252  1456]\n",
    " [ 2625 21083]]\n",
    "Classification Report:\n",
    "               precision    recall  f1-score   support\n",
    "\n",
    "           0       0.89      0.94      0.92     23708\n",
    "           1       0.94      0.89      0.91     23708\n",
    "\n",
    "    accuracy                           0.91     47416\n",
    "   macro avg       0.91      0.91      0.91     47416\n",
    "weighted avg       0.91      0.91      0.91     47416\n",
    "\n",
    "\n",
    "\n",
    "============================== Random Forest Classifier with max depth 10 Cross-Validation Evaluation ==============================\n",
    "Accuracy for each fold: [0.83129481 0.83234922 0.82707718 0.83424715 0.83087305 0.82770983\n",
    " 0.8302046  0.83463404 0.83315756 0.826197  ]\n",
    "Mean Accuracy across folds: 0.8308\n",
    "\n",
    "\n",
    "Model Accuracy (combined prediction): 83.08%\n",
    "Confusion Matrix:\n",
    " [[22086  1622]\n",
    " [ 6402 17306]]\n",
    "Classification Report:\n",
    "               precision    recall  f1-score   support\n",
    "\n",
    "           0       0.78      0.93      0.85     23708\n",
    "           1       0.91      0.73      0.81     23708\n",
    "\n",
    "    accuracy                           0.83     47416\n",
    "   macro avg       0.84      0.83      0.83     47416\n",
    "weighted avg       0.84      0.83      0.83     47416\n",
    "\n",
    "\n",
    "\n",
    "============================== Random Forest Classifier with max depth 20 Cross-Validation Evaluation ==============================\n",
    "Accuracy for each fold: [0.89814424 0.89877689 0.89962041 0.90257275 0.89898777 0.90425981\n",
    " 0.89896646 0.90107572 0.90191943 0.8951698 ]\n",
    "Mean Accuracy across folds: 0.8999\n",
    "\n",
    "\n",
    "Model Accuracy (combined prediction): 89.99%\n",
    "Confusion Matrix:\n",
    " [[22462  1246]\n",
    " [ 3498 20210]]\n",
    "Classification Report:\n",
    "               precision    recall  f1-score   support\n",
    "\n",
    "           0       0.87      0.95      0.90     23708\n",
    "           1       0.94      0.85      0.89     23708\n",
    "\n",
    "    accuracy                           0.90     47416\n",
    "   macro avg       0.90      0.90      0.90     47416\n",
    "weighted avg       0.90      0.90      0.90     47416\n",
    "\n",
    "\n",
    "\n",
    "============================== Random Forest Classifier with balanced class weight Cross-Validation Evaluation ==============================\n",
    "Accuracy for each fold: [0.91164066 0.91353859 0.91142978 0.91628005 0.91058625 0.91754534\n",
    " 0.90972369 0.91647332 0.91520776 0.91330943]\n",
    "Mean Accuracy across folds: 0.9136\n",
    "\n",
    "\n",
    "Model Accuracy (combined prediction): 91.36%\n",
    "Confusion Matrix:\n",
    " [[22271  1437]\n",
    " [ 2661 21047]]\n",
    "Classification Report:\n",
    "               precision    recall  f1-score   support\n",
    "\n",
    "           0       0.89      0.94      0.92     23708\n",
    "           1       0.94      0.89      0.91     23708\n",
    "\n",
    "    accuracy                           0.91     47416\n",
    "   macro avg       0.91      0.91      0.91     47416\n",
    "weighted avg       0.91      0.91      0.91     47416\n",
    "```"
   ]
  },
  {
   "cell_type": "code",
   "execution_count": null,
   "metadata": {},
   "outputs": [],
   "source": []
  }
 ],
 "metadata": {
  "kaggle": {
   "accelerator": "none",
   "dataSources": [
    {
     "datasetId": 2892711,
     "sourceId": 4987461,
     "sourceType": "datasetVersion"
    }
   ],
   "dockerImageVersionId": 30626,
   "isGpuEnabled": false,
   "isInternetEnabled": true,
   "language": "python",
   "sourceType": "notebook"
  },
  "kernelspec": {
   "display_name": "Python 3 (ipykernel)",
   "language": "python",
   "name": "python3"
  },
  "language_info": {
   "codemirror_mode": {
    "name": "ipython",
    "version": 3
   },
   "file_extension": ".py",
   "mimetype": "text/x-python",
   "name": "python",
   "nbconvert_exporter": "python",
   "pygments_lexer": "ipython3",
   "version": "3.8.19"
  }
 },
 "nbformat": 4,
 "nbformat_minor": 4
}
