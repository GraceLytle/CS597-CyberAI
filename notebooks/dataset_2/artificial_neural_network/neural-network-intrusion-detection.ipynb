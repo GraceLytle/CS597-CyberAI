{
 "cells": [
  {
   "cell_type": "markdown",
   "id": "5f16c1f5-c0ee-41c0-9429-baddb81d63b7",
   "metadata": {},
   "source": [
    "# Data Cleansing and Preparation:\n",
    "## The following data cleansing and preparation steps were followed by the work in the source below:\n",
    "### https://www.kaggle.com/code/syedali110/intrusion-detection-using-ann\n",
    "## The neural-network model implementation, analysis, and evaluation are unique to this notebook with."
   ]
  },
  {
   "cell_type": "code",
   "execution_count": 27,
   "id": "2aa386ca",
   "metadata": {
    "papermill": {
     "duration": 0.891353,
     "end_time": "2024-02-11T10:52:43.680523",
     "exception": false,
     "start_time": "2024-02-11T10:52:42.789170",
     "status": "completed"
    },
    "tags": []
   },
   "outputs": [],
   "source": [
    "import pandas as pd\n",
    "import numpy as np\n",
    "from sklearn.metrics import confusion_matrix\n",
    "import matplotlib.pyplot as plt\n",
    "import seaborn as sns\n",
    "from sklearn.metrics import accuracy_score"
   ]
  },
  {
   "cell_type": "code",
   "execution_count": 28,
   "id": "abab71b3",
   "metadata": {
    "papermill": {
     "duration": 1.772036,
     "end_time": "2024-02-11T10:52:45.463420",
     "exception": false,
     "start_time": "2024-02-11T10:52:43.691384",
     "status": "completed"
    },
    "tags": []
   },
   "outputs": [],
   "source": [
    "df=pd.read_csv('../../../data/Friday-WorkingHours-Morning.pcap_ISCX.csv')"
   ]
  },
  {
   "cell_type": "code",
   "execution_count": 29,
   "id": "f4af455c",
   "metadata": {
    "papermill": {
     "duration": 0.053676,
     "end_time": "2024-02-11T10:52:45.527287",
     "exception": false,
     "start_time": "2024-02-11T10:52:45.473611",
     "status": "completed"
    },
    "tags": []
   },
   "outputs": [
    {
     "data": {
      "text/html": [
       "<div>\n",
       "<style scoped>\n",
       "    .dataframe tbody tr th:only-of-type {\n",
       "        vertical-align: middle;\n",
       "    }\n",
       "\n",
       "    .dataframe tbody tr th {\n",
       "        vertical-align: top;\n",
       "    }\n",
       "\n",
       "    .dataframe thead th {\n",
       "        text-align: right;\n",
       "    }\n",
       "</style>\n",
       "<table border=\"1\" class=\"dataframe\">\n",
       "  <thead>\n",
       "    <tr style=\"text-align: right;\">\n",
       "      <th></th>\n",
       "      <th>Destination Port</th>\n",
       "      <th>Flow Duration</th>\n",
       "      <th>Total Fwd Packets</th>\n",
       "      <th>Total Backward Packets</th>\n",
       "      <th>Total Length of Fwd Packets</th>\n",
       "      <th>Total Length of Bwd Packets</th>\n",
       "      <th>Fwd Packet Length Max</th>\n",
       "      <th>Fwd Packet Length Min</th>\n",
       "      <th>Fwd Packet Length Mean</th>\n",
       "      <th>Fwd Packet Length Std</th>\n",
       "      <th>...</th>\n",
       "      <th>min_seg_size_forward</th>\n",
       "      <th>Active Mean</th>\n",
       "      <th>Active Std</th>\n",
       "      <th>Active Max</th>\n",
       "      <th>Active Min</th>\n",
       "      <th>Idle Mean</th>\n",
       "      <th>Idle Std</th>\n",
       "      <th>Idle Max</th>\n",
       "      <th>Idle Min</th>\n",
       "      <th>Label</th>\n",
       "    </tr>\n",
       "  </thead>\n",
       "  <tbody>\n",
       "    <tr>\n",
       "      <th>0</th>\n",
       "      <td>3268</td>\n",
       "      <td>112740690</td>\n",
       "      <td>32</td>\n",
       "      <td>16</td>\n",
       "      <td>6448</td>\n",
       "      <td>1152</td>\n",
       "      <td>403</td>\n",
       "      <td>0</td>\n",
       "      <td>201.5</td>\n",
       "      <td>204.724205</td>\n",
       "      <td>...</td>\n",
       "      <td>32</td>\n",
       "      <td>3.594286e+02</td>\n",
       "      <td>1.199802e+01</td>\n",
       "      <td>380</td>\n",
       "      <td>343</td>\n",
       "      <td>16100000.0</td>\n",
       "      <td>4.988048e+05</td>\n",
       "      <td>16400000</td>\n",
       "      <td>15400000</td>\n",
       "      <td>BENIGN</td>\n",
       "    </tr>\n",
       "    <tr>\n",
       "      <th>1</th>\n",
       "      <td>389</td>\n",
       "      <td>112740560</td>\n",
       "      <td>32</td>\n",
       "      <td>16</td>\n",
       "      <td>6448</td>\n",
       "      <td>5056</td>\n",
       "      <td>403</td>\n",
       "      <td>0</td>\n",
       "      <td>201.5</td>\n",
       "      <td>204.724205</td>\n",
       "      <td>...</td>\n",
       "      <td>32</td>\n",
       "      <td>3.202857e+02</td>\n",
       "      <td>1.574499e+01</td>\n",
       "      <td>330</td>\n",
       "      <td>285</td>\n",
       "      <td>16100000.0</td>\n",
       "      <td>4.987937e+05</td>\n",
       "      <td>16400000</td>\n",
       "      <td>15400000</td>\n",
       "      <td>BENIGN</td>\n",
       "    </tr>\n",
       "    <tr>\n",
       "      <th>2</th>\n",
       "      <td>0</td>\n",
       "      <td>113757377</td>\n",
       "      <td>545</td>\n",
       "      <td>0</td>\n",
       "      <td>0</td>\n",
       "      <td>0</td>\n",
       "      <td>0</td>\n",
       "      <td>0</td>\n",
       "      <td>0.0</td>\n",
       "      <td>0.000000</td>\n",
       "      <td>...</td>\n",
       "      <td>0</td>\n",
       "      <td>9.361829e+06</td>\n",
       "      <td>7.324646e+06</td>\n",
       "      <td>18900000</td>\n",
       "      <td>19</td>\n",
       "      <td>12200000.0</td>\n",
       "      <td>6.935824e+06</td>\n",
       "      <td>20800000</td>\n",
       "      <td>5504997</td>\n",
       "      <td>BENIGN</td>\n",
       "    </tr>\n",
       "    <tr>\n",
       "      <th>3</th>\n",
       "      <td>5355</td>\n",
       "      <td>100126</td>\n",
       "      <td>22</td>\n",
       "      <td>0</td>\n",
       "      <td>616</td>\n",
       "      <td>0</td>\n",
       "      <td>28</td>\n",
       "      <td>28</td>\n",
       "      <td>28.0</td>\n",
       "      <td>0.000000</td>\n",
       "      <td>...</td>\n",
       "      <td>32</td>\n",
       "      <td>0.000000e+00</td>\n",
       "      <td>0.000000e+00</td>\n",
       "      <td>0</td>\n",
       "      <td>0</td>\n",
       "      <td>0.0</td>\n",
       "      <td>0.000000e+00</td>\n",
       "      <td>0</td>\n",
       "      <td>0</td>\n",
       "      <td>BENIGN</td>\n",
       "    </tr>\n",
       "    <tr>\n",
       "      <th>4</th>\n",
       "      <td>0</td>\n",
       "      <td>54760</td>\n",
       "      <td>4</td>\n",
       "      <td>0</td>\n",
       "      <td>0</td>\n",
       "      <td>0</td>\n",
       "      <td>0</td>\n",
       "      <td>0</td>\n",
       "      <td>0.0</td>\n",
       "      <td>0.000000</td>\n",
       "      <td>...</td>\n",
       "      <td>0</td>\n",
       "      <td>0.000000e+00</td>\n",
       "      <td>0.000000e+00</td>\n",
       "      <td>0</td>\n",
       "      <td>0</td>\n",
       "      <td>0.0</td>\n",
       "      <td>0.000000e+00</td>\n",
       "      <td>0</td>\n",
       "      <td>0</td>\n",
       "      <td>BENIGN</td>\n",
       "    </tr>\n",
       "  </tbody>\n",
       "</table>\n",
       "<p>5 rows × 79 columns</p>\n",
       "</div>"
      ],
      "text/plain": [
       "    Destination Port   Flow Duration   Total Fwd Packets  \\\n",
       "0               3268       112740690                  32   \n",
       "1                389       112740560                  32   \n",
       "2                  0       113757377                 545   \n",
       "3               5355          100126                  22   \n",
       "4                  0           54760                   4   \n",
       "\n",
       "    Total Backward Packets  Total Length of Fwd Packets  \\\n",
       "0                       16                         6448   \n",
       "1                       16                         6448   \n",
       "2                        0                            0   \n",
       "3                        0                          616   \n",
       "4                        0                            0   \n",
       "\n",
       "    Total Length of Bwd Packets   Fwd Packet Length Max  \\\n",
       "0                          1152                     403   \n",
       "1                          5056                     403   \n",
       "2                             0                       0   \n",
       "3                             0                      28   \n",
       "4                             0                       0   \n",
       "\n",
       "    Fwd Packet Length Min   Fwd Packet Length Mean   Fwd Packet Length Std  \\\n",
       "0                       0                    201.5              204.724205   \n",
       "1                       0                    201.5              204.724205   \n",
       "2                       0                      0.0                0.000000   \n",
       "3                      28                     28.0                0.000000   \n",
       "4                       0                      0.0                0.000000   \n",
       "\n",
       "   ...   min_seg_size_forward   Active Mean    Active Std   Active Max  \\\n",
       "0  ...                     32  3.594286e+02  1.199802e+01          380   \n",
       "1  ...                     32  3.202857e+02  1.574499e+01          330   \n",
       "2  ...                      0  9.361829e+06  7.324646e+06     18900000   \n",
       "3  ...                     32  0.000000e+00  0.000000e+00            0   \n",
       "4  ...                      0  0.000000e+00  0.000000e+00            0   \n",
       "\n",
       "    Active Min   Idle Mean      Idle Std   Idle Max   Idle Min   Label  \n",
       "0          343  16100000.0  4.988048e+05   16400000   15400000  BENIGN  \n",
       "1          285  16100000.0  4.987937e+05   16400000   15400000  BENIGN  \n",
       "2           19  12200000.0  6.935824e+06   20800000    5504997  BENIGN  \n",
       "3            0         0.0  0.000000e+00          0          0  BENIGN  \n",
       "4            0         0.0  0.000000e+00          0          0  BENIGN  \n",
       "\n",
       "[5 rows x 79 columns]"
      ]
     },
     "execution_count": 29,
     "metadata": {},
     "output_type": "execute_result"
    }
   ],
   "source": [
    "df.head()"
   ]
  },
  {
   "cell_type": "code",
   "execution_count": 30,
   "id": "5b7e383d",
   "metadata": {
    "papermill": {
     "duration": 0.021835,
     "end_time": "2024-02-11T10:52:45.559214",
     "exception": false,
     "start_time": "2024-02-11T10:52:45.537379",
     "status": "completed"
    },
    "tags": []
   },
   "outputs": [
    {
     "data": {
      "text/plain": [
       "Index([' Destination Port', ' Flow Duration', ' Total Fwd Packets',\n",
       "       ' Total Backward Packets', 'Total Length of Fwd Packets',\n",
       "       ' Total Length of Bwd Packets', ' Fwd Packet Length Max',\n",
       "       ' Fwd Packet Length Min', ' Fwd Packet Length Mean',\n",
       "       ' Fwd Packet Length Std', 'Bwd Packet Length Max',\n",
       "       ' Bwd Packet Length Min', ' Bwd Packet Length Mean',\n",
       "       ' Bwd Packet Length Std', 'Flow Bytes/s', ' Flow Packets/s',\n",
       "       ' Flow IAT Mean', ' Flow IAT Std', ' Flow IAT Max', ' Flow IAT Min',\n",
       "       'Fwd IAT Total', ' Fwd IAT Mean', ' Fwd IAT Std', ' Fwd IAT Max',\n",
       "       ' Fwd IAT Min', 'Bwd IAT Total', ' Bwd IAT Mean', ' Bwd IAT Std',\n",
       "       ' Bwd IAT Max', ' Bwd IAT Min', 'Fwd PSH Flags', ' Bwd PSH Flags',\n",
       "       ' Fwd URG Flags', ' Bwd URG Flags', ' Fwd Header Length',\n",
       "       ' Bwd Header Length', 'Fwd Packets/s', ' Bwd Packets/s',\n",
       "       ' Min Packet Length', ' Max Packet Length', ' Packet Length Mean',\n",
       "       ' Packet Length Std', ' Packet Length Variance', 'FIN Flag Count',\n",
       "       ' SYN Flag Count', ' RST Flag Count', ' PSH Flag Count',\n",
       "       ' ACK Flag Count', ' URG Flag Count', ' CWE Flag Count',\n",
       "       ' ECE Flag Count', ' Down/Up Ratio', ' Average Packet Size',\n",
       "       ' Avg Fwd Segment Size', ' Avg Bwd Segment Size',\n",
       "       ' Fwd Header Length.1', 'Fwd Avg Bytes/Bulk', ' Fwd Avg Packets/Bulk',\n",
       "       ' Fwd Avg Bulk Rate', ' Bwd Avg Bytes/Bulk', ' Bwd Avg Packets/Bulk',\n",
       "       'Bwd Avg Bulk Rate', 'Subflow Fwd Packets', ' Subflow Fwd Bytes',\n",
       "       ' Subflow Bwd Packets', ' Subflow Bwd Bytes', 'Init_Win_bytes_forward',\n",
       "       ' Init_Win_bytes_backward', ' act_data_pkt_fwd',\n",
       "       ' min_seg_size_forward', 'Active Mean', ' Active Std', ' Active Max',\n",
       "       ' Active Min', 'Idle Mean', ' Idle Std', ' Idle Max', ' Idle Min',\n",
       "       ' Label'],\n",
       "      dtype='object')"
      ]
     },
     "execution_count": 30,
     "metadata": {},
     "output_type": "execute_result"
    }
   ],
   "source": [
    "df.columns"
   ]
  },
  {
   "cell_type": "code",
   "execution_count": 31,
   "id": "83209a90",
   "metadata": {
    "papermill": {
     "duration": 1.392369,
     "end_time": "2024-02-11T10:52:46.961962",
     "exception": false,
     "start_time": "2024-02-11T10:52:45.569593",
     "status": "completed"
    },
    "tags": []
   },
   "outputs": [],
   "source": [
    "from sklearn.preprocessing import LabelEncoder\n",
    "encoder = LabelEncoder()\n",
    "df[' Label']= encoder.fit_transform(df[' Label'])"
   ]
  },
  {
   "cell_type": "code",
   "execution_count": 32,
   "id": "140ecd2e",
   "metadata": {
    "papermill": {
     "duration": 0.037012,
     "end_time": "2024-02-11T10:52:47.009498",
     "exception": false,
     "start_time": "2024-02-11T10:52:46.972486",
     "status": "completed"
    },
    "tags": []
   },
   "outputs": [
    {
     "data": {
      "text/html": [
       "<div>\n",
       "<style scoped>\n",
       "    .dataframe tbody tr th:only-of-type {\n",
       "        vertical-align: middle;\n",
       "    }\n",
       "\n",
       "    .dataframe tbody tr th {\n",
       "        vertical-align: top;\n",
       "    }\n",
       "\n",
       "    .dataframe thead th {\n",
       "        text-align: right;\n",
       "    }\n",
       "</style>\n",
       "<table border=\"1\" class=\"dataframe\">\n",
       "  <thead>\n",
       "    <tr style=\"text-align: right;\">\n",
       "      <th></th>\n",
       "      <th>Destination Port</th>\n",
       "      <th>Flow Duration</th>\n",
       "      <th>Total Fwd Packets</th>\n",
       "      <th>Total Backward Packets</th>\n",
       "      <th>Total Length of Fwd Packets</th>\n",
       "      <th>Total Length of Bwd Packets</th>\n",
       "      <th>Fwd Packet Length Max</th>\n",
       "      <th>Fwd Packet Length Min</th>\n",
       "      <th>Fwd Packet Length Mean</th>\n",
       "      <th>Fwd Packet Length Std</th>\n",
       "      <th>...</th>\n",
       "      <th>min_seg_size_forward</th>\n",
       "      <th>Active Mean</th>\n",
       "      <th>Active Std</th>\n",
       "      <th>Active Max</th>\n",
       "      <th>Active Min</th>\n",
       "      <th>Idle Mean</th>\n",
       "      <th>Idle Std</th>\n",
       "      <th>Idle Max</th>\n",
       "      <th>Idle Min</th>\n",
       "      <th>Label</th>\n",
       "    </tr>\n",
       "  </thead>\n",
       "  <tbody>\n",
       "    <tr>\n",
       "      <th>0</th>\n",
       "      <td>3268</td>\n",
       "      <td>112740690</td>\n",
       "      <td>32</td>\n",
       "      <td>16</td>\n",
       "      <td>6448</td>\n",
       "      <td>1152</td>\n",
       "      <td>403</td>\n",
       "      <td>0</td>\n",
       "      <td>201.5</td>\n",
       "      <td>204.724205</td>\n",
       "      <td>...</td>\n",
       "      <td>32</td>\n",
       "      <td>3.594286e+02</td>\n",
       "      <td>1.199802e+01</td>\n",
       "      <td>380</td>\n",
       "      <td>343</td>\n",
       "      <td>16100000.0</td>\n",
       "      <td>4.988048e+05</td>\n",
       "      <td>16400000</td>\n",
       "      <td>15400000</td>\n",
       "      <td>0</td>\n",
       "    </tr>\n",
       "    <tr>\n",
       "      <th>1</th>\n",
       "      <td>389</td>\n",
       "      <td>112740560</td>\n",
       "      <td>32</td>\n",
       "      <td>16</td>\n",
       "      <td>6448</td>\n",
       "      <td>5056</td>\n",
       "      <td>403</td>\n",
       "      <td>0</td>\n",
       "      <td>201.5</td>\n",
       "      <td>204.724205</td>\n",
       "      <td>...</td>\n",
       "      <td>32</td>\n",
       "      <td>3.202857e+02</td>\n",
       "      <td>1.574499e+01</td>\n",
       "      <td>330</td>\n",
       "      <td>285</td>\n",
       "      <td>16100000.0</td>\n",
       "      <td>4.987937e+05</td>\n",
       "      <td>16400000</td>\n",
       "      <td>15400000</td>\n",
       "      <td>0</td>\n",
       "    </tr>\n",
       "    <tr>\n",
       "      <th>2</th>\n",
       "      <td>0</td>\n",
       "      <td>113757377</td>\n",
       "      <td>545</td>\n",
       "      <td>0</td>\n",
       "      <td>0</td>\n",
       "      <td>0</td>\n",
       "      <td>0</td>\n",
       "      <td>0</td>\n",
       "      <td>0.0</td>\n",
       "      <td>0.000000</td>\n",
       "      <td>...</td>\n",
       "      <td>0</td>\n",
       "      <td>9.361829e+06</td>\n",
       "      <td>7.324646e+06</td>\n",
       "      <td>18900000</td>\n",
       "      <td>19</td>\n",
       "      <td>12200000.0</td>\n",
       "      <td>6.935824e+06</td>\n",
       "      <td>20800000</td>\n",
       "      <td>5504997</td>\n",
       "      <td>0</td>\n",
       "    </tr>\n",
       "    <tr>\n",
       "      <th>3</th>\n",
       "      <td>5355</td>\n",
       "      <td>100126</td>\n",
       "      <td>22</td>\n",
       "      <td>0</td>\n",
       "      <td>616</td>\n",
       "      <td>0</td>\n",
       "      <td>28</td>\n",
       "      <td>28</td>\n",
       "      <td>28.0</td>\n",
       "      <td>0.000000</td>\n",
       "      <td>...</td>\n",
       "      <td>32</td>\n",
       "      <td>0.000000e+00</td>\n",
       "      <td>0.000000e+00</td>\n",
       "      <td>0</td>\n",
       "      <td>0</td>\n",
       "      <td>0.0</td>\n",
       "      <td>0.000000e+00</td>\n",
       "      <td>0</td>\n",
       "      <td>0</td>\n",
       "      <td>0</td>\n",
       "    </tr>\n",
       "    <tr>\n",
       "      <th>4</th>\n",
       "      <td>0</td>\n",
       "      <td>54760</td>\n",
       "      <td>4</td>\n",
       "      <td>0</td>\n",
       "      <td>0</td>\n",
       "      <td>0</td>\n",
       "      <td>0</td>\n",
       "      <td>0</td>\n",
       "      <td>0.0</td>\n",
       "      <td>0.000000</td>\n",
       "      <td>...</td>\n",
       "      <td>0</td>\n",
       "      <td>0.000000e+00</td>\n",
       "      <td>0.000000e+00</td>\n",
       "      <td>0</td>\n",
       "      <td>0</td>\n",
       "      <td>0.0</td>\n",
       "      <td>0.000000e+00</td>\n",
       "      <td>0</td>\n",
       "      <td>0</td>\n",
       "      <td>0</td>\n",
       "    </tr>\n",
       "  </tbody>\n",
       "</table>\n",
       "<p>5 rows × 79 columns</p>\n",
       "</div>"
      ],
      "text/plain": [
       "    Destination Port   Flow Duration   Total Fwd Packets  \\\n",
       "0               3268       112740690                  32   \n",
       "1                389       112740560                  32   \n",
       "2                  0       113757377                 545   \n",
       "3               5355          100126                  22   \n",
       "4                  0           54760                   4   \n",
       "\n",
       "    Total Backward Packets  Total Length of Fwd Packets  \\\n",
       "0                       16                         6448   \n",
       "1                       16                         6448   \n",
       "2                        0                            0   \n",
       "3                        0                          616   \n",
       "4                        0                            0   \n",
       "\n",
       "    Total Length of Bwd Packets   Fwd Packet Length Max  \\\n",
       "0                          1152                     403   \n",
       "1                          5056                     403   \n",
       "2                             0                       0   \n",
       "3                             0                      28   \n",
       "4                             0                       0   \n",
       "\n",
       "    Fwd Packet Length Min   Fwd Packet Length Mean   Fwd Packet Length Std  \\\n",
       "0                       0                    201.5              204.724205   \n",
       "1                       0                    201.5              204.724205   \n",
       "2                       0                      0.0                0.000000   \n",
       "3                      28                     28.0                0.000000   \n",
       "4                       0                      0.0                0.000000   \n",
       "\n",
       "   ...   min_seg_size_forward   Active Mean    Active Std   Active Max  \\\n",
       "0  ...                     32  3.594286e+02  1.199802e+01          380   \n",
       "1  ...                     32  3.202857e+02  1.574499e+01          330   \n",
       "2  ...                      0  9.361829e+06  7.324646e+06     18900000   \n",
       "3  ...                     32  0.000000e+00  0.000000e+00            0   \n",
       "4  ...                      0  0.000000e+00  0.000000e+00            0   \n",
       "\n",
       "    Active Min   Idle Mean      Idle Std   Idle Max   Idle Min   Label  \n",
       "0          343  16100000.0  4.988048e+05   16400000   15400000       0  \n",
       "1          285  16100000.0  4.987937e+05   16400000   15400000       0  \n",
       "2           19  12200000.0  6.935824e+06   20800000    5504997       0  \n",
       "3            0         0.0  0.000000e+00          0          0       0  \n",
       "4            0         0.0  0.000000e+00          0          0       0  \n",
       "\n",
       "[5 rows x 79 columns]"
      ]
     },
     "execution_count": 32,
     "metadata": {},
     "output_type": "execute_result"
    }
   ],
   "source": [
    "df.head()"
   ]
  },
  {
   "cell_type": "code",
   "execution_count": 33,
   "id": "07d559f4",
   "metadata": {
    "papermill": {
     "duration": 0.030761,
     "end_time": "2024-02-11T10:52:47.051156",
     "exception": false,
     "start_time": "2024-02-11T10:52:47.020395",
     "status": "completed"
    },
    "tags": []
   },
   "outputs": [
    {
     "data": {
      "text/plain": [
       "<bound method Series.sum of  Label\n",
       "0    189067\n",
       "1      1966\n",
       "Name: count, dtype: int64>"
      ]
     },
     "execution_count": 33,
     "metadata": {},
     "output_type": "execute_result"
    }
   ],
   "source": [
    "df[' Label'].value_counts().sum"
   ]
  },
  {
   "cell_type": "code",
   "execution_count": 34,
   "id": "4b988d86",
   "metadata": {
    "papermill": {
     "duration": 0.141798,
     "end_time": "2024-02-11T10:52:47.204734",
     "exception": false,
     "start_time": "2024-02-11T10:52:47.062936",
     "status": "completed"
    },
    "tags": []
   },
   "outputs": [],
   "source": [
    "df = df.fillna(0)  # Replace NaN with 0\n",
    "df = df.replace([np.inf, -np.inf], 0)"
   ]
  },
  {
   "cell_type": "code",
   "execution_count": 35,
   "id": "32e197d2",
   "metadata": {
    "papermill": {
     "duration": 0.034069,
     "end_time": "2024-02-11T10:52:47.249979",
     "exception": false,
     "start_time": "2024-02-11T10:52:47.215910",
     "status": "completed"
    },
    "tags": []
   },
   "outputs": [
    {
     "data": {
      "text/plain": [
       " Destination Port              0\n",
       " Flow Duration                 0\n",
       " Total Fwd Packets             0\n",
       " Total Backward Packets        0\n",
       "Total Length of Fwd Packets    0\n",
       "                              ..\n",
       "Idle Mean                      0\n",
       " Idle Std                      0\n",
       " Idle Max                      0\n",
       " Idle Min                      0\n",
       " Label                         0\n",
       "Length: 79, dtype: int64"
      ]
     },
     "execution_count": 35,
     "metadata": {},
     "output_type": "execute_result"
    }
   ],
   "source": [
    "df.isnull().sum()"
   ]
  },
  {
   "cell_type": "code",
   "execution_count": 36,
   "id": "7ed270f1",
   "metadata": {
    "papermill": {
     "duration": 0.044634,
     "end_time": "2024-02-11T10:52:47.305833",
     "exception": false,
     "start_time": "2024-02-11T10:52:47.261199",
     "status": "completed"
    },
    "tags": []
   },
   "outputs": [],
   "source": [
    "df=df.astype(int)"
   ]
  },
  {
   "cell_type": "code",
   "execution_count": 37,
   "id": "0daf8add",
   "metadata": {
    "papermill": {
     "duration": 0.466786,
     "end_time": "2024-02-11T10:52:47.783717",
     "exception": false,
     "start_time": "2024-02-11T10:52:47.316931",
     "status": "completed"
    },
    "tags": []
   },
   "outputs": [],
   "source": [
    "import numpy as np\n",
    "from sklearn.feature_selection import SelectKBest, f_classif\n",
    "\n",
    "X = df.drop(' Label',axis=1)\n",
    "y = df[' Label']"
   ]
  },
  {
   "cell_type": "code",
   "execution_count": 38,
   "id": "492bcd8b",
   "metadata": {
    "papermill": {
     "duration": 0.239555,
     "end_time": "2024-02-11T10:52:48.103119",
     "exception": false,
     "start_time": "2024-02-11T10:52:47.863564",
     "status": "completed"
    },
    "tags": []
   },
   "outputs": [],
   "source": [
    "from sklearn.preprocessing import StandardScaler\n",
    "scaler = StandardScaler()\n",
    "X_scaled = scaler.fit_transform(X)"
   ]
  },
  {
   "cell_type": "code",
   "execution_count": 39,
   "id": "12b196c2",
   "metadata": {
    "papermill": {
     "duration": 0.415183,
     "end_time": "2024-02-11T10:52:48.529394",
     "exception": false,
     "start_time": "2024-02-11T10:52:48.114211",
     "status": "completed"
    },
    "tags": []
   },
   "outputs": [
    {
     "name": "stderr",
     "output_type": "stream",
     "text": [
      "C:\\Users\\grace\\.conda\\envs\\tensorflow_env\\lib\\site-packages\\sklearn\\feature_selection\\_univariate_selection.py:112: UserWarning: Features [31 32 33 49 56 57 58 59 60 61] are constant.\n",
      "  warnings.warn(\"Features %s are constant.\" % constant_features_idx, UserWarning)\n",
      "C:\\Users\\grace\\.conda\\envs\\tensorflow_env\\lib\\site-packages\\sklearn\\feature_selection\\_univariate_selection.py:113: RuntimeWarning: invalid value encountered in divide\n",
      "  f = msb / msw\n"
     ]
    }
   ],
   "source": [
    "from sklearn.impute import SimpleImputer\n",
    "# Impute missing values (replace NaNs with the mean)\n",
    "imputer = SimpleImputer(strategy='mean')\n",
    "X_imputed = imputer.fit_transform(X)\n",
    "\n",
    "# Determine the number of columns (features) in your DataFrame\n",
    "num_columns = df.shape[1]\n",
    "\n",
    "# Set an appropriate value for k (less than or equal to the number of columns)\n",
    "k = min(10, num_columns)  # Adjust this as needed\n",
    "\n",
    "# Initialize SelectKBest with the scoring function\n",
    "k_best = SelectKBest(score_func=f_classif, k=k)\n",
    "\n",
    "# Fit and transform the imputed data to select the top 10 features\n",
    "X_new = k_best.fit_transform(X_imputed, y)"
   ]
  },
  {
   "cell_type": "code",
   "execution_count": 40,
   "id": "988cc2ba",
   "metadata": {
    "papermill": {
     "duration": 0.021106,
     "end_time": "2024-02-11T10:52:48.561428",
     "exception": false,
     "start_time": "2024-02-11T10:52:48.540322",
     "status": "completed"
    },
    "tags": []
   },
   "outputs": [],
   "source": [
    "# Get the boolean mask of selected features\n",
    "selected_features_mask = k_best.get_support()"
   ]
  },
  {
   "cell_type": "code",
   "execution_count": 41,
   "id": "900fe9a1",
   "metadata": {
    "papermill": {
     "duration": 0.020582,
     "end_time": "2024-02-11T10:52:48.594210",
     "exception": false,
     "start_time": "2024-02-11T10:52:48.573628",
     "status": "completed"
    },
    "tags": []
   },
   "outputs": [],
   "source": [
    "elected_feature_names = X.columns[selected_features_mask]"
   ]
  },
  {
   "cell_type": "code",
   "execution_count": 42,
   "id": "af71df1e",
   "metadata": {
    "papermill": {
     "duration": 0.021719,
     "end_time": "2024-02-11T10:52:48.627444",
     "exception": false,
     "start_time": "2024-02-11T10:52:48.605725",
     "status": "completed"
    },
    "tags": []
   },
   "outputs": [
    {
     "data": {
      "text/plain": [
       "Index([' Destination Port', ' Bwd Packet Length Min',\n",
       "       ' Bwd Packet Length Mean', ' Bwd Packets/s', ' Min Packet Length',\n",
       "       ' PSH Flag Count', ' URG Flag Count', ' Avg Fwd Segment Size',\n",
       "       ' Avg Bwd Segment Size', ' min_seg_size_forward'],\n",
       "      dtype='object')"
      ]
     },
     "execution_count": 42,
     "metadata": {},
     "output_type": "execute_result"
    }
   ],
   "source": [
    "elected_feature_names"
   ]
  },
  {
   "cell_type": "code",
   "execution_count": 43,
   "id": "9e520f45",
   "metadata": {
    "papermill": {
     "duration": 0.021211,
     "end_time": "2024-02-11T10:52:48.660212",
     "exception": false,
     "start_time": "2024-02-11T10:52:48.639001",
     "status": "completed"
    },
    "tags": []
   },
   "outputs": [],
   "source": [
    "new_columns=[' Destination Port', ' Bwd Packet Length Min',\n",
    "       ' Bwd Packet Length Mean', ' Bwd Packets/s', ' Min Packet Length',\n",
    "       ' PSH Flag Count', ' URG Flag Count', ' Avg Fwd Segment Size',\n",
    "       ' Avg Bwd Segment Size', ' min_seg_size_forward']"
   ]
  },
  {
   "cell_type": "code",
   "execution_count": 44,
   "id": "16838a3f",
   "metadata": {
    "papermill": {
     "duration": 0.02351,
     "end_time": "2024-02-11T10:52:48.695185",
     "exception": false,
     "start_time": "2024-02-11T10:52:48.671675",
     "status": "completed"
    },
    "tags": []
   },
   "outputs": [],
   "source": [
    "df_new=X[new_columns]"
   ]
  },
  {
   "cell_type": "code",
   "execution_count": 45,
   "id": "7c2bbe97",
   "metadata": {
    "papermill": {
     "duration": 0.030646,
     "end_time": "2024-02-11T10:52:48.737208",
     "exception": false,
     "start_time": "2024-02-11T10:52:48.706562",
     "status": "completed"
    },
    "tags": []
   },
   "outputs": [
    {
     "data": {
      "text/html": [
       "<div>\n",
       "<style scoped>\n",
       "    .dataframe tbody tr th:only-of-type {\n",
       "        vertical-align: middle;\n",
       "    }\n",
       "\n",
       "    .dataframe tbody tr th {\n",
       "        vertical-align: top;\n",
       "    }\n",
       "\n",
       "    .dataframe thead th {\n",
       "        text-align: right;\n",
       "    }\n",
       "</style>\n",
       "<table border=\"1\" class=\"dataframe\">\n",
       "  <thead>\n",
       "    <tr style=\"text-align: right;\">\n",
       "      <th></th>\n",
       "      <th>Destination Port</th>\n",
       "      <th>Bwd Packet Length Min</th>\n",
       "      <th>Bwd Packet Length Mean</th>\n",
       "      <th>Bwd Packets/s</th>\n",
       "      <th>Min Packet Length</th>\n",
       "      <th>PSH Flag Count</th>\n",
       "      <th>URG Flag Count</th>\n",
       "      <th>Avg Fwd Segment Size</th>\n",
       "      <th>Avg Bwd Segment Size</th>\n",
       "      <th>min_seg_size_forward</th>\n",
       "    </tr>\n",
       "  </thead>\n",
       "  <tbody>\n",
       "    <tr>\n",
       "      <th>0</th>\n",
       "      <td>3268</td>\n",
       "      <td>72</td>\n",
       "      <td>72</td>\n",
       "      <td>0</td>\n",
       "      <td>0</td>\n",
       "      <td>0</td>\n",
       "      <td>0</td>\n",
       "      <td>201</td>\n",
       "      <td>72</td>\n",
       "      <td>32</td>\n",
       "    </tr>\n",
       "    <tr>\n",
       "      <th>1</th>\n",
       "      <td>389</td>\n",
       "      <td>316</td>\n",
       "      <td>316</td>\n",
       "      <td>0</td>\n",
       "      <td>0</td>\n",
       "      <td>0</td>\n",
       "      <td>0</td>\n",
       "      <td>201</td>\n",
       "      <td>316</td>\n",
       "      <td>32</td>\n",
       "    </tr>\n",
       "    <tr>\n",
       "      <th>2</th>\n",
       "      <td>0</td>\n",
       "      <td>0</td>\n",
       "      <td>0</td>\n",
       "      <td>0</td>\n",
       "      <td>0</td>\n",
       "      <td>0</td>\n",
       "      <td>0</td>\n",
       "      <td>0</td>\n",
       "      <td>0</td>\n",
       "      <td>0</td>\n",
       "    </tr>\n",
       "    <tr>\n",
       "      <th>3</th>\n",
       "      <td>5355</td>\n",
       "      <td>0</td>\n",
       "      <td>0</td>\n",
       "      <td>0</td>\n",
       "      <td>28</td>\n",
       "      <td>0</td>\n",
       "      <td>0</td>\n",
       "      <td>28</td>\n",
       "      <td>0</td>\n",
       "      <td>32</td>\n",
       "    </tr>\n",
       "    <tr>\n",
       "      <th>4</th>\n",
       "      <td>0</td>\n",
       "      <td>0</td>\n",
       "      <td>0</td>\n",
       "      <td>0</td>\n",
       "      <td>0</td>\n",
       "      <td>0</td>\n",
       "      <td>0</td>\n",
       "      <td>0</td>\n",
       "      <td>0</td>\n",
       "      <td>0</td>\n",
       "    </tr>\n",
       "    <tr>\n",
       "      <th>...</th>\n",
       "      <td>...</td>\n",
       "      <td>...</td>\n",
       "      <td>...</td>\n",
       "      <td>...</td>\n",
       "      <td>...</td>\n",
       "      <td>...</td>\n",
       "      <td>...</td>\n",
       "      <td>...</td>\n",
       "      <td>...</td>\n",
       "      <td>...</td>\n",
       "    </tr>\n",
       "    <tr>\n",
       "      <th>191028</th>\n",
       "      <td>53</td>\n",
       "      <td>177</td>\n",
       "      <td>177</td>\n",
       "      <td>32</td>\n",
       "      <td>45</td>\n",
       "      <td>0</td>\n",
       "      <td>0</td>\n",
       "      <td>45</td>\n",
       "      <td>177</td>\n",
       "      <td>20</td>\n",
       "    </tr>\n",
       "    <tr>\n",
       "      <th>191029</th>\n",
       "      <td>53</td>\n",
       "      <td>136</td>\n",
       "      <td>136</td>\n",
       "      <td>11695</td>\n",
       "      <td>40</td>\n",
       "      <td>0</td>\n",
       "      <td>0</td>\n",
       "      <td>40</td>\n",
       "      <td>136</td>\n",
       "      <td>32</td>\n",
       "    </tr>\n",
       "    <tr>\n",
       "      <th>191030</th>\n",
       "      <td>53</td>\n",
       "      <td>177</td>\n",
       "      <td>177</td>\n",
       "      <td>9009</td>\n",
       "      <td>45</td>\n",
       "      <td>0</td>\n",
       "      <td>0</td>\n",
       "      <td>45</td>\n",
       "      <td>177</td>\n",
       "      <td>32</td>\n",
       "    </tr>\n",
       "    <tr>\n",
       "      <th>191031</th>\n",
       "      <td>123</td>\n",
       "      <td>48</td>\n",
       "      <td>48</td>\n",
       "      <td>59</td>\n",
       "      <td>48</td>\n",
       "      <td>0</td>\n",
       "      <td>0</td>\n",
       "      <td>48</td>\n",
       "      <td>48</td>\n",
       "      <td>20</td>\n",
       "    </tr>\n",
       "    <tr>\n",
       "      <th>191032</th>\n",
       "      <td>53</td>\n",
       "      <td>50</td>\n",
       "      <td>50</td>\n",
       "      <td>13071</td>\n",
       "      <td>34</td>\n",
       "      <td>0</td>\n",
       "      <td>0</td>\n",
       "      <td>34</td>\n",
       "      <td>50</td>\n",
       "      <td>20</td>\n",
       "    </tr>\n",
       "  </tbody>\n",
       "</table>\n",
       "<p>191033 rows × 10 columns</p>\n",
       "</div>"
      ],
      "text/plain": [
       "        Destination Port  Bwd Packet Length Min  Bwd Packet Length Mean  \\\n",
       "0                   3268                     72                      72   \n",
       "1                    389                    316                     316   \n",
       "2                      0                      0                       0   \n",
       "3                   5355                      0                       0   \n",
       "4                      0                      0                       0   \n",
       "...                  ...                    ...                     ...   \n",
       "191028                53                    177                     177   \n",
       "191029                53                    136                     136   \n",
       "191030                53                    177                     177   \n",
       "191031               123                     48                      48   \n",
       "191032                53                     50                      50   \n",
       "\n",
       "        Bwd Packets/s  Min Packet Length  PSH Flag Count  URG Flag Count  \\\n",
       "0                   0                  0               0               0   \n",
       "1                   0                  0               0               0   \n",
       "2                   0                  0               0               0   \n",
       "3                   0                 28               0               0   \n",
       "4                   0                  0               0               0   \n",
       "...               ...                ...             ...             ...   \n",
       "191028             32                 45               0               0   \n",
       "191029          11695                 40               0               0   \n",
       "191030           9009                 45               0               0   \n",
       "191031             59                 48               0               0   \n",
       "191032          13071                 34               0               0   \n",
       "\n",
       "        Avg Fwd Segment Size  Avg Bwd Segment Size  min_seg_size_forward  \n",
       "0                        201                    72                    32  \n",
       "1                        201                   316                    32  \n",
       "2                          0                     0                     0  \n",
       "3                         28                     0                    32  \n",
       "4                          0                     0                     0  \n",
       "...                      ...                   ...                   ...  \n",
       "191028                    45                   177                    20  \n",
       "191029                    40                   136                    32  \n",
       "191030                    45                   177                    32  \n",
       "191031                    48                    48                    20  \n",
       "191032                    34                    50                    20  \n",
       "\n",
       "[191033 rows x 10 columns]"
      ]
     },
     "execution_count": 45,
     "metadata": {},
     "output_type": "execute_result"
    }
   ],
   "source": [
    "df_new"
   ]
  },
  {
   "cell_type": "code",
   "execution_count": 46,
   "id": "3d8100ae",
   "metadata": {
    "papermill": {
     "duration": 0.023955,
     "end_time": "2024-02-11T10:52:48.772861",
     "exception": false,
     "start_time": "2024-02-11T10:52:48.748906",
     "status": "completed"
    },
    "tags": []
   },
   "outputs": [
    {
     "name": "stderr",
     "output_type": "stream",
     "text": [
      "C:\\Users\\grace\\AppData\\Local\\Temp\\ipykernel_24644\\3870757279.py:1: SettingWithCopyWarning: \n",
      "A value is trying to be set on a copy of a slice from a DataFrame.\n",
      "Try using .loc[row_indexer,col_indexer] = value instead\n",
      "\n",
      "See the caveats in the documentation: https://pandas.pydata.org/pandas-docs/stable/user_guide/indexing.html#returning-a-view-versus-a-copy\n",
      "  df_new.loc[:, 'label'] = df[' Label']\n"
     ]
    }
   ],
   "source": [
    "df_new.loc[:, 'label'] = df[' Label']"
   ]
  },
  {
   "cell_type": "code",
   "execution_count": 47,
   "id": "089d4324",
   "metadata": {
    "papermill": {
     "duration": 0.028611,
     "end_time": "2024-02-11T10:52:48.813382",
     "exception": false,
     "start_time": "2024-02-11T10:52:48.784771",
     "status": "completed"
    },
    "tags": []
   },
   "outputs": [],
   "source": [
    "X1=df_new.iloc[:,:-1].values\n",
    "y1=df_new.iloc[:,-1].values"
   ]
  },
  {
   "cell_type": "code",
   "execution_count": 48,
   "id": "d55d2a5c",
   "metadata": {
    "papermill": {
     "duration": 0.022126,
     "end_time": "2024-02-11T10:52:48.847810",
     "exception": false,
     "start_time": "2024-02-11T10:52:48.825684",
     "status": "completed"
    },
    "tags": []
   },
   "outputs": [
    {
     "data": {
      "text/plain": [
       "array([[3268,   72,   72, ...,  201,   72,   32],\n",
       "       [ 389,  316,  316, ...,  201,  316,   32],\n",
       "       [   0,    0,    0, ...,    0,    0,    0],\n",
       "       ...,\n",
       "       [  53,  177,  177, ...,   45,  177,   32],\n",
       "       [ 123,   48,   48, ...,   48,   48,   20],\n",
       "       [  53,   50,   50, ...,   34,   50,   20]])"
      ]
     },
     "execution_count": 48,
     "metadata": {},
     "output_type": "execute_result"
    }
   ],
   "source": [
    "X1"
   ]
  },
  {
   "cell_type": "markdown",
   "id": "aafdabcc-22ed-4be2-b90f-dfd97c357971",
   "metadata": {},
   "source": [
    "# K-Folds Cross-Validation Concept:\n",
    "This code implements K-Folds Cross-Validation, a technique used to evaluate the performance of a machine learning model more robustly. Instead of splitting the dataset once into training and testing sets, the data is split into 'k' subsets or 'folds'. The model is trained on 'k-1' folds and tested on the remaining fold. This process is repeated 'k' times, with each fold used as the test set once. The final result is the average performance across all folds, providing a more reliable estimate of the model's performance.\n",
    "\n",
    "- **k = 2**: The number of folds is set to 2. This means the dataset will be split into 2 subsets, with 1 subset used for training and the other for testing, and then the roles are reversed for the second fold.\n",
    "- **KFold(n_splits=k, shuffle=True, random_state=42)**: The `KFold` class from `sklearn.model_selection` is used to create the k-folds. \n",
    "    - `n_splits=k`: Specifies the number of folds.\n",
    "    - `shuffle=True`: Shuffles the dataset before splitting into folds to ensure random distribution.\n",
    "    - `random_state=42`: Fixes the random seed to make the results reproducible.\n",
    "- **fold_no = 1**: Keeps track of the fold number in the cross-validation loop (used later when looping over folds).\n",
    "- **all_fold_accuracies = []**: This list will store the accuracy scores from each fold to calculate the average accuracy across all folds at the end.\n",
    "\n",
    "K-Folds Cross-Validation helps mitigate overfitting by evaluating the model on different subsets of the data and provides a more accurate estimate of model performance."
   ]
  },
  {
   "cell_type": "code",
   "execution_count": 49,
   "id": "53c0b339",
   "metadata": {
    "papermill": {
     "duration": 0.116269,
     "end_time": "2024-02-11T10:54:37.939553",
     "exception": false,
     "start_time": "2024-02-11T10:54:37.823284",
     "status": "completed"
    },
    "tags": []
   },
   "outputs": [],
   "source": [
    "#CONCEPt KFOLDS\n",
    "# Number of folds\n",
    "from sklearn.model_selection import KFold\n",
    "from sklearn.metrics import accuracy_score\n",
    "k = 2\n",
    "kf = KFold(n_splits=k, shuffle=True, random_state=42)\n",
    "fold_no = 1\n",
    "all_fold_accuracies = []"
   ]
  },
  {
   "cell_type": "markdown",
   "id": "68e0fd10-b16a-457c-9e12-08b509070d41",
   "metadata": {},
   "source": [
    "# K-Folds Cross-Validation Neural Network Training and Evaluation:\n",
    "\n",
    "This block of code performs K-Folds Cross-Validation to train and evaluate an Artificial Neural Network (ANN) model on different subsets of the data. The process helps ensure that the model is evaluated on various parts of the dataset, providing a more robust understanding of its performance. Here’s a step-by-step breakdown of the code:\n",
    "\n",
    "1. **K-Folds Iteration**: \n",
    "    - The `kf.split(X)` splits the dataset into `k` folds, where `X` is the feature matrix. For each fold, we get two sets of indices: `train_index` for training data and `test_index` for testing data. \n",
    "    - The loop iterates through each fold, and for every iteration (fold), the model is trained and evaluated.\n",
    "\n",
    "2. **Data Splitting**:\n",
    "    - **Initial Split**: The data is split into training and testing sets using `train_test_split`, with a **90% training and 10% testing split** (`test_size=0.1`).\n",
    "    - **Further Split for Validation**: The training data is split again to create a validation set, with **80% of the original data used for training** and **10% for validation** (`test_size=0.1111`). This helps in monitoring model performance during training.\n",
    "\n",
    "3. **Building the ANN**:\n",
    "    - A new Sequential model is built for each fold. \n",
    "    - It consists of 3 layers: \n",
    "      - 2 hidden layers with 10 units each and `sigmoid` activation function.\n",
    "      - 1 output layer with a single unit and `sigmoid` activation for binary classification.\n",
    "      \n",
    "4. **Model Compilation and Training**:\n",
    "    - The model is compiled with:\n",
    "        - **Optimizer**: `'adam'`, which is widely used for efficient gradient-based optimization.\n",
    "        - **Loss Function**: `'binary_crossentropy'`, used for binary classification problems.\n",
    "        - **Metric**: `'accuracy'`, to evaluate the performance on both training and validation sets.\n",
    "    - The model is trained for 10 epochs using `ann.fit()`, with a batch size of 32. Validation data is provided during training, and early stopping can be used to prevent overfitting.\n",
    "    \n",
    "5. **Model Evaluation**:\n",
    "    - The model is evaluated on the test set for each fold.\n",
    "    - **Prediction**: The model outputs probabilities (`y_pred_prob`), which are converted into binary predictions (`y_pred`) using a threshold of 0.5. \n",
    "    - **Accuracy Calculation**: Accuracy is calculated using `accuracy_score(y_test, y_pred)` and stored in the `all_fold_accuracies` list for each fold.\n",
    "\n",
    "6. **Confusion Matrix Plot** (Optional):\n",
    "    - A confusion matrix is plotted using `seaborn` to visualize the performance of the model in terms of true positives, true negatives, false positives, and false negatives.\n",
    "\n",
    "7. **Tracking Fold Accuracy**:\n",
    "    - The accuracy for each fold is printed and stored in `all_fold_accuracies`. \n",
    "    - The fold number is incremented (`fold_no += 1`) to track the current fold.\n",
    "\n",
    "8. **Final Output**:\n",
    "    - After all folds have been processed, the **average accuracy across all folds** is computed using `np.mean(all_fold_accuracies)` and printed as the final performance metric.\n",
    "    \n",
    "### Output:\n",
    "- **Training Fold**: For each fold, we will see the epoch-wise training and validation accuracy/loss. The training process stops after 10 epochs or if early stopping is triggered.\n",
    "- **Accuracy per Fold**: The accuracy of the model on the test set for each fold will be printed.\n",
    "- **Confusion Matrix**: A heatmap visualization of the confusion matrix shows how well the model classifies the test data for each fold.\n",
    "- **Average Accuracy**: After all folds, the final average accuracy provides a robust measure of the model's performance across the entire dataset.\n",
    "\n",
    "### Information we’ll get:\n",
    "- **Fold-wise Accuracy**: How well the model performs on different parts of the data.\n",
    "- **Confusion Matrix**: Insights into the types of classification errors (false positives, false negatives) the model makes.\n",
    "- **Average Accuracy**: A reliable estimate of the model’s overall accuracy across multiple splits, reducing the risk of overfitting or underfitting on a single test set."
   ]
  },
  {
   "cell_type": "code",
   "execution_count": 51,
   "id": "a2a6d740",
   "metadata": {
    "papermill": {
     "duration": 0.115872,
     "end_time": "2024-02-11T10:54:38.173277",
     "exception": false,
     "start_time": "2024-02-11T10:54:38.057405",
     "status": "completed"
    },
    "tags": []
   },
   "outputs": [
    {
     "name": "stdout",
     "output_type": "stream",
     "text": [
      "Training fold 1...\n",
      "Epoch 1/10\n",
      "2654/2654 [==============================] - 8s 3ms/step - loss: 0.0940 - accuracy: 0.9853 - val_loss: 0.0559 - val_accuracy: 0.9897\n",
      "Epoch 2/10\n",
      "2654/2654 [==============================] - 6s 2ms/step - loss: 0.0562 - accuracy: 0.9894 - val_loss: 0.0534 - val_accuracy: 0.9897\n",
      "Epoch 3/10\n",
      "2654/2654 [==============================] - 6s 2ms/step - loss: 0.0529 - accuracy: 0.9894 - val_loss: 0.0525 - val_accuracy: 0.9897\n",
      "Epoch 4/10\n",
      "2654/2654 [==============================] - 6s 2ms/step - loss: 0.0592 - accuracy: 0.9894 - val_loss: 0.0565 - val_accuracy: 0.9897\n",
      "Epoch 5/10\n",
      "2654/2654 [==============================] - 6s 2ms/step - loss: 0.0581 - accuracy: 0.9894 - val_loss: 0.0563 - val_accuracy: 0.9897\n",
      "Epoch 6/10\n",
      "2654/2654 [==============================] - 6s 2ms/step - loss: 0.0574 - accuracy: 0.9894 - val_loss: 0.0524 - val_accuracy: 0.9897\n",
      "Epoch 7/10\n",
      "2654/2654 [==============================] - 6s 2ms/step - loss: 0.0541 - accuracy: 0.9894 - val_loss: 0.0547 - val_accuracy: 0.9897\n",
      "Epoch 8/10\n",
      "2654/2654 [==============================] - 6s 2ms/step - loss: 0.0561 - accuracy: 0.9894 - val_loss: 0.0554 - val_accuracy: 0.9897\n",
      "Epoch 9/10\n",
      "2654/2654 [==============================] - 6s 2ms/step - loss: 0.0552 - accuracy: 0.9894 - val_loss: 0.0553 - val_accuracy: 0.9897\n",
      "2985/2985 [==============================] - 5s 2ms/step\n",
      "Fold 1 Accuracy: 0.9899389637446737\n"
     ]
    },
    {
     "data": {
      "image/png": "[encoded data removed]",
      "text/plain": [
       "<Figure size 600x400 with 2 Axes>"
      ]
     },
     "metadata": {},
     "output_type": "display_data"
    },
    {
     "name": "stdout",
     "output_type": "stream",
     "text": [
      "Training fold 2...\n",
      "Epoch 1/10\n",
      "2654/2654 [==============================] - 8s 3ms/step - loss: 0.1143 - accuracy: 0.9658 - val_loss: 0.0566 - val_accuracy: 0.9899\n",
      "Epoch 2/10\n",
      "2654/2654 [==============================] - 6s 2ms/step - loss: 0.0565 - accuracy: 0.9899 - val_loss: 0.0563 - val_accuracy: 0.9899\n",
      "Epoch 3/10\n",
      "2654/2654 [==============================] - 6s 2ms/step - loss: 0.0554 - accuracy: 0.9899 - val_loss: 0.0522 - val_accuracy: 0.9899\n",
      "Epoch 4/10\n",
      "2654/2654 [==============================] - 6s 2ms/step - loss: 0.0546 - accuracy: 0.9899 - val_loss: 0.0573 - val_accuracy: 0.9899\n",
      "Epoch 5/10\n",
      "2654/2654 [==============================] - 6s 2ms/step - loss: 0.0561 - accuracy: 0.9899 - val_loss: 0.0556 - val_accuracy: 0.9899\n",
      "Epoch 6/10\n",
      "2654/2654 [==============================] - 6s 2ms/step - loss: 0.0559 - accuracy: 0.9899 - val_loss: 0.0560 - val_accuracy: 0.9899\n",
      "2985/2985 [==============================] - 5s 2ms/step\n",
      "Fold 2 Accuracy: 0.9894782026047992\n"
     ]
    },
    {
     "data": {
      "image/png": "[encoded data removed]",
      "text/plain": [
       "<Figure size 600x400 with 2 Axes>"
      ]
     },
     "metadata": {},
     "output_type": "display_data"
    },
    {
     "name": "stdout",
     "output_type": "stream",
     "text": [
      "Average Accuracy after 2 folds: 0.9897085831747365\n"
     ]
    }
   ],
   "source": [
    "import numpy as np\n",
    "import matplotlib.pyplot as plt\n",
    "import seaborn as sns\n",
    "from sklearn.model_selection import train_test_split, KFold\n",
    "from sklearn.metrics import accuracy_score, confusion_matrix\n",
    "import tensorflow as tf\n",
    "\n",
    "for train_index, test_index in kf.split(X):\n",
    "    print(f\"Training fold {fold_no}...\")\n",
    "\n",
    "    # Use .iloc to access rows by their index positions\n",
    "    X_train, X_test = X.iloc[train_index], X.iloc[test_index]\n",
    "    y_train, y_test = y.iloc[train_index], y.iloc[test_index]\n",
    "    \n",
    "    # Further split X_train and y_train into training and validation sets\n",
    "    X_train, X_val, y_train, y_val = train_test_split(X_train, y_train, test_size=0.1111, random_state=42)\n",
    "\n",
    "    # Build a new model for each fold\n",
    "    ann = tf.keras.models.Sequential()\n",
    "    ann.add(tf.keras.layers.Dense(units=10, activation='sigmoid'))\n",
    "    ann.add(tf.keras.layers.Dense(units=10, activation='sigmoid'))\n",
    "    ann.add(tf.keras.layers.Dense(units=1, activation='sigmoid'))\n",
    "\n",
    "    # Compile the model\n",
    "    ann.compile(optimizer='adam', loss='binary_crossentropy', metrics=['accuracy'])\n",
    "\n",
    "    # Early stopping to avoid overfitting (defined here)\n",
    "    early_stopping = tf.keras.callbacks.EarlyStopping(monitor='val_loss', patience=3)\n",
    "\n",
    "    # Train the model\n",
    "    ann.fit(X_train, y_train, epochs=10, batch_size=32, validation_data=(X_val, y_val), callbacks=[early_stopping])\n",
    "\n",
    "    # Evaluate the model on the test data\n",
    "    y_pred_prob = ann.predict(X_test)\n",
    "    y_pred = (y_pred_prob > 0.5).astype(\"int32\")  # Convert probabilities to binary predictions\n",
    "\n",
    "    # Calculate accuracy for this fold\n",
    "    accuracy = accuracy_score(y_test, y_pred)\n",
    "    print(f\"Fold {fold_no} Accuracy: {accuracy}\")\n",
    "    all_fold_accuracies.append(accuracy)\n",
    "\n",
    "    # Generate confusion matrix\n",
    "    conf_matrix = confusion_matrix(y_test, y_pred)\n",
    "\n",
    "    # Plot confusion matrix (optional but helpful for visualization)\n",
    "    plt.figure(figsize=(6, 4))\n",
    "    sns.heatmap(conf_matrix, annot=True, fmt='d', cmap='Blues')\n",
    "    plt.ylabel('Actual')\n",
    "    plt.xlabel('Predicted')\n",
    "    plt.title(f'Confusion Matrix for Fold {fold_no}')\n",
    "    plt.show()\n",
    "\n",
    "    fold_no += 1\n",
    "\n",
    "# Average accuracy across all folds\n",
    "average_accuracy = np.mean(all_fold_accuracies)\n",
    "print(f\"Average Accuracy after {kf.get_n_splits()} folds: {average_accuracy}\")"
   ]
  },
  {
   "cell_type": "markdown",
   "id": "969a4fdd-bdcb-4864-8740-ee1defdb5b09",
   "metadata": {},
   "source": [
    "# Model Variation:\n",
    "In this variation, the hidden layers of the neural network use the **ReLU (Rectified Linear Unit)** activation function instead of `sigmoid`. \n",
    "- **ReLU** allows faster convergence and prevents issues such as vanishing gradients.\n",
    "- The **output layer** retains the `sigmoid` activation function, which is appropriate for **binary classification** tasks (outputting probabilities between 0 and 1).\n",
    "This modification can improve training speed and model performance on complex datasets."
   ]
  },
  {
   "cell_type": "code",
   "execution_count": 82,
   "id": "137360c8-b789-4dd3-a575-be4b36fec7d0",
   "metadata": {},
   "outputs": [
    {
     "name": "stdout",
     "output_type": "stream",
     "text": [
      "Training fold 1...\n",
      "Epoch 1/10\n",
      "4776/4776 [==============================] - 13s 2ms/step - loss: 8.8720 - accuracy: 0.9809 - val_loss: 2.4247 - val_accuracy: 0.9829\n",
      "Epoch 2/10\n",
      "4776/4776 [==============================] - 11s 2ms/step - loss: 2.9197 - accuracy: 0.9840 - val_loss: 1.3334 - val_accuracy: 0.9863\n",
      "Epoch 3/10\n",
      "4776/4776 [==============================] - 11s 2ms/step - loss: 2.2447 - accuracy: 0.9845 - val_loss: 3.0104 - val_accuracy: 0.9894\n",
      "Epoch 4/10\n",
      "4776/4776 [==============================] - 11s 2ms/step - loss: 1.2019 - accuracy: 0.9850 - val_loss: 0.7762 - val_accuracy: 0.9888\n",
      "Epoch 5/10\n",
      "4776/4776 [==============================] - 11s 2ms/step - loss: 0.4415 - accuracy: 0.9873 - val_loss: 0.1690 - val_accuracy: 0.9894\n",
      "Epoch 6/10\n",
      "4776/4776 [==============================] - 11s 2ms/step - loss: 0.1405 - accuracy: 0.9908 - val_loss: 0.0348 - val_accuracy: 0.9928\n",
      "Epoch 7/10\n",
      "4776/4776 [==============================] - 11s 2ms/step - loss: 0.0534 - accuracy: 0.9927 - val_loss: 0.0335 - val_accuracy: 0.9930\n",
      "Epoch 8/10\n",
      "4776/4776 [==============================] - 11s 2ms/step - loss: 0.0344 - accuracy: 0.9933 - val_loss: 0.0334 - val_accuracy: 0.9895\n",
      "Epoch 9/10\n",
      "4776/4776 [==============================] - 11s 2ms/step - loss: 0.0255 - accuracy: 0.9927 - val_loss: 0.0228 - val_accuracy: 0.9947\n",
      "Epoch 10/10\n",
      "4776/4776 [==============================] - 11s 2ms/step - loss: 0.0269 - accuracy: 0.9904 - val_loss: 0.0279 - val_accuracy: 0.9897\n",
      "597/597 [==============================] - 1s 2ms/step\n",
      "Fold 1 Accuracy: 0.9905255443886097\n"
     ]
    },
    {
     "data": {
      "image/png": "[encoded data removed]",
      "text/plain": [
       "<Figure size 600x400 with 2 Axes>"
      ]
     },
     "metadata": {},
     "output_type": "display_data"
    },
    {
     "name": "stdout",
     "output_type": "stream",
     "text": [
      "Training fold 2...\n",
      "Epoch 1/10\n",
      "4776/4776 [==============================] - 13s 2ms/step - loss: 11.1383 - accuracy: 0.9724 - val_loss: 0.8369 - val_accuracy: 0.9830\n",
      "Epoch 2/10\n",
      "4776/4776 [==============================] - 11s 2ms/step - loss: 1.9812 - accuracy: 0.9854 - val_loss: 1.1829 - val_accuracy: 0.9874\n",
      "Epoch 3/10\n",
      "4776/4776 [==============================] - 11s 2ms/step - loss: 1.2161 - accuracy: 0.9876 - val_loss: 0.2268 - val_accuracy: 0.9914\n",
      "Epoch 4/10\n",
      "4776/4776 [==============================] - 11s 2ms/step - loss: 0.3564 - accuracy: 0.9913 - val_loss: 0.0491 - val_accuracy: 0.9947\n",
      "Epoch 5/10\n",
      "4776/4776 [==============================] - 11s 2ms/step - loss: 0.0550 - accuracy: 0.9933 - val_loss: 0.0239 - val_accuracy: 0.9947\n",
      "Epoch 6/10\n",
      "4776/4776 [==============================] - 12s 2ms/step - loss: 0.0352 - accuracy: 0.9940 - val_loss: 0.0215 - val_accuracy: 0.9948\n",
      "Epoch 7/10\n",
      "4776/4776 [==============================] - 11s 2ms/step - loss: 0.0304 - accuracy: 0.9948 - val_loss: 0.0189 - val_accuracy: 0.9951\n",
      "Epoch 8/10\n",
      "4776/4776 [==============================] - 11s 2ms/step - loss: 0.0393 - accuracy: 0.9902 - val_loss: 0.0393 - val_accuracy: 0.9897\n",
      "Epoch 9/10\n",
      "4776/4776 [==============================] - 11s 2ms/step - loss: 0.0427 - accuracy: 0.9897 - val_loss: 0.0382 - val_accuracy: 0.9897\n",
      "Epoch 10/10\n",
      "4776/4776 [==============================] - 11s 2ms/step - loss: 0.0398 - accuracy: 0.9898 - val_loss: 0.0458 - val_accuracy: 0.9897\n",
      "597/597 [==============================] - 1s 2ms/step\n",
      "Fold 2 Accuracy: 0.9905255443886097\n"
     ]
    },
    {
     "data": {
      "image/png": "[encoded data removed]",
      "text/plain": [
       "<Figure size 600x400 with 2 Axes>"
      ]
     },
     "metadata": {},
     "output_type": "display_data"
    },
    {
     "name": "stdout",
     "output_type": "stream",
     "text": [
      "Training fold 3...\n",
      "Epoch 1/10\n",
      "4776/4776 [==============================] - 13s 2ms/step - loss: 39.0809 - accuracy: 0.9601 - val_loss: 3.5183 - val_accuracy: 0.9887\n",
      "Epoch 2/10\n",
      "4776/4776 [==============================] - 11s 2ms/step - loss: 3.5885 - accuracy: 0.9844 - val_loss: 16.6090 - val_accuracy: 0.9887\n",
      "Epoch 3/10\n",
      "4776/4776 [==============================] - 11s 2ms/step - loss: 2.9831 - accuracy: 0.9866 - val_loss: 3.8767 - val_accuracy: 0.9897\n",
      "Epoch 4/10\n",
      "4776/4776 [==============================] - 11s 2ms/step - loss: 3.1993 - accuracy: 0.9866 - val_loss: 1.6320 - val_accuracy: 0.9894\n",
      "Epoch 5/10\n",
      "4776/4776 [==============================] - 11s 2ms/step - loss: 2.1590 - accuracy: 0.9874 - val_loss: 1.1213 - val_accuracy: 0.9883\n",
      "Epoch 6/10\n",
      "4776/4776 [==============================] - 11s 2ms/step - loss: 2.0157 - accuracy: 0.9873 - val_loss: 2.1394 - val_accuracy: 0.9896\n",
      "Epoch 7/10\n",
      "4776/4776 [==============================] - 11s 2ms/step - loss: 1.4488 - accuracy: 0.9878 - val_loss: 2.5204 - val_accuracy: 0.9921\n",
      "Epoch 8/10\n",
      "4776/4776 [==============================] - 11s 2ms/step - loss: 0.9744 - accuracy: 0.9884 - val_loss: 0.9709 - val_accuracy: 0.9921\n",
      "Epoch 9/10\n",
      "4776/4776 [==============================] - 11s 2ms/step - loss: 0.6282 - accuracy: 0.9899 - val_loss: 0.9869 - val_accuracy: 0.9807\n",
      "Epoch 10/10\n",
      "4776/4776 [==============================] - 11s 2ms/step - loss: 0.4261 - accuracy: 0.9903 - val_loss: 0.1325 - val_accuracy: 0.9904\n",
      "597/597 [==============================] - 1s 2ms/step\n",
      "Fold 3 Accuracy: 0.9915201005025126\n"
     ]
    },
    {
     "data": {
      "image/png": "[encoded data removed]",
      "text/plain": [
       "<Figure size 600x400 with 2 Axes>"
      ]
     },
     "metadata": {},
     "output_type": "display_data"
    },
    {
     "name": "stdout",
     "output_type": "stream",
     "text": [
      "Training fold 4...\n",
      "Epoch 1/10\n",
      "4776/4776 [==============================] - 13s 2ms/step - loss: 5.7469 - accuracy: 0.9771 - val_loss: 2.5316 - val_accuracy: 0.9894\n",
      "Epoch 2/10\n",
      "4776/4776 [==============================] - 11s 2ms/step - loss: 1.6432 - accuracy: 0.9880 - val_loss: 0.2275 - val_accuracy: 0.9890\n",
      "Epoch 3/10\n",
      "4776/4776 [==============================] - 11s 2ms/step - loss: 0.1822 - accuracy: 0.9892 - val_loss: 0.0482 - val_accuracy: 0.9894\n",
      "Epoch 4/10\n",
      "4776/4776 [==============================] - 11s 2ms/step - loss: 0.0493 - accuracy: 0.9896 - val_loss: 0.0436 - val_accuracy: 0.9894\n",
      "Epoch 5/10\n",
      "4776/4776 [==============================] - 11s 2ms/step - loss: 0.0477 - accuracy: 0.9896 - val_loss: 0.0446 - val_accuracy: 0.9894\n",
      "Epoch 6/10\n",
      "4776/4776 [==============================] - 11s 2ms/step - loss: 0.0433 - accuracy: 0.9896 - val_loss: 0.0435 - val_accuracy: 0.9894\n",
      "Epoch 7/10\n",
      "4776/4776 [==============================] - 11s 2ms/step - loss: 0.0434 - accuracy: 0.9896 - val_loss: 0.0427 - val_accuracy: 0.9894\n",
      "Epoch 8/10\n",
      "4776/4776 [==============================] - 11s 2ms/step - loss: 0.0645 - accuracy: 0.9896 - val_loss: 0.0436 - val_accuracy: 0.9894\n",
      "Epoch 9/10\n",
      "4776/4776 [==============================] - 11s 2ms/step - loss: 0.0436 - accuracy: 0.9896 - val_loss: 0.0430 - val_accuracy: 0.9894\n",
      "Epoch 10/10\n",
      "4776/4776 [==============================] - 11s 2ms/step - loss: 0.0486 - accuracy: 0.9896 - val_loss: 0.0419 - val_accuracy: 0.9894\n",
      "597/597 [==============================] - 1s 2ms/step\n",
      "Fold 4 Accuracy: 0.9905255443886097\n"
     ]
    },
    {
     "data": {
      "image/png": "[encoded data removed]",
      "text/plain": [
       "<Figure size 600x400 with 2 Axes>"
      ]
     },
     "metadata": {},
     "output_type": "display_data"
    },
    {
     "name": "stdout",
     "output_type": "stream",
     "text": [
      "Training fold 5...\n",
      "Epoch 1/10\n",
      "4776/4776 [==============================] - 12s 2ms/step - loss: 5.6435 - accuracy: 0.9777 - val_loss: 4.4953 - val_accuracy: 0.9889\n",
      "Epoch 2/10\n",
      "4776/4776 [==============================] - 11s 2ms/step - loss: 2.4221 - accuracy: 0.9840 - val_loss: 2.4990 - val_accuracy: 0.9886\n",
      "Epoch 3/10\n",
      "4776/4776 [==============================] - 11s 2ms/step - loss: 2.3063 - accuracy: 0.9866 - val_loss: 3.9285 - val_accuracy: 0.9893\n",
      "Epoch 4/10\n",
      "4776/4776 [==============================] - 11s 2ms/step - loss: 1.2678 - accuracy: 0.9866 - val_loss: 2.1111 - val_accuracy: 0.9894\n",
      "Epoch 5/10\n",
      "4776/4776 [==============================] - 11s 2ms/step - loss: 0.9106 - accuracy: 0.9878 - val_loss: 1.5153 - val_accuracy: 0.9890\n",
      "Epoch 6/10\n",
      "4776/4776 [==============================] - 11s 2ms/step - loss: 0.7200 - accuracy: 0.9886 - val_loss: 0.1806 - val_accuracy: 0.9894\n",
      "Epoch 7/10\n",
      "4776/4776 [==============================] - 11s 2ms/step - loss: 0.2494 - accuracy: 0.9892 - val_loss: 0.0775 - val_accuracy: 0.9894\n",
      "Epoch 8/10\n",
      "4776/4776 [==============================] - 11s 2ms/step - loss: 0.0743 - accuracy: 0.9893 - val_loss: 0.0408 - val_accuracy: 0.9894\n",
      "Epoch 9/10\n",
      "4776/4776 [==============================] - 11s 2ms/step - loss: 0.0395 - accuracy: 0.9896 - val_loss: 0.0402 - val_accuracy: 0.9894\n",
      "Epoch 10/10\n",
      "4776/4776 [==============================] - 11s 2ms/step - loss: 0.0452 - accuracy: 0.9896 - val_loss: 0.0402 - val_accuracy: 0.9894\n",
      "597/597 [==============================] - 1s 2ms/step\n",
      "Fold 5 Accuracy: 0.9905255443886097\n"
     ]
    },
    {
     "data": {
      "image/png": "[encoded data removed]",
      "text/plain": [
       "<Figure size 600x400 with 2 Axes>"
      ]
     },
     "metadata": {},
     "output_type": "display_data"
    },
    {
     "name": "stdout",
     "output_type": "stream",
     "text": [
      "Average Accuracy after 2 folds: 0.9907244556113903\n"
     ]
    }
   ],
   "source": [
    "for train_index, test_index in kf.split(X):\n",
    "    print(f\"Training fold {fold_no}...\")\n",
    "\n",
    "    # Splitting data into training and test sets for this fold\n",
    "\n",
    "    # Initial split into training and test sets\n",
    "    X_train, X_test, y_train, y_test = train_test_split(X1, y1, test_size=0.1, random_state=42)\n",
    "    # Further split X_train and y_train into training and validation sets\n",
    "    X_train, X_val, y_train, y_val = train_test_split(X_train, y_train, test_size=0.1111, random_state=42)\n",
    "\n",
    "    # Build a new model for each fold with ReLU activation in hidden layers\n",
    "    ann = tf.keras.models.Sequential()\n",
    "    ann.add(tf.keras.layers.Dense(units=10, activation='relu'))  # ReLU activation for hidden layer 1\n",
    "    ann.add(tf.keras.layers.Dense(units=10, activation='relu'))  # ReLU activation for hidden layer 2\n",
    "    ann.add(tf.keras.layers.Dense(units=1, activation='sigmoid'))  # Sigmoid activation for the output layer (binary classification)\n",
    "\n",
    "    # Compile the model\n",
    "    ann.compile(optimizer='adam', loss='binary_crossentropy', metrics=['accuracy'])\n",
    "\n",
    "    # Train the model (use early stopping or define your own number of epochs)    \n",
    "    ann.fit(X_train, y_train, epochs=10, batch_size=32, validation_data=(X_val, y_val), callbacks=[early_stopping])\n",
    "\n",
    "\n",
    "    # Evaluate the model on the test data\n",
    "    y_pred_prob = ann.predict(X_test)\n",
    "    y_pred = (y_pred_prob > 0.5).astype(\"int32\")  # Convert probabilities to binary predictions\n",
    "\n",
    "    # Calculate accuracy for this fold\n",
    "    accuracy = accuracy_score(y_test, y_pred)\n",
    "    print(f\"Fold {fold_no} Accuracy: {accuracy}\")\n",
    "    all_fold_accuracies.append(accuracy)\n",
    "\n",
    "    # Plot confusion matrix (optional but helpful for visualization)\n",
    "    plt.figure(figsize=(6, 4))\n",
    "    sns.heatmap(conf_matrix, annot=True, fmt='d', cmap='Blues')\n",
    "    plt.ylabel('Actual')\n",
    "    plt.xlabel('Predicted')\n",
    "    plt.title('Confusion Matrix')\n",
    "    plt.show()\n",
    "\n",
    "    fold_no += 1\n",
    "\n",
    "# Average accuracy across all folds\n",
    "average_accuracy = np.mean(all_fold_accuracies)\n",
    "print(f\"Average Accuracy after {k} folds: {average_accuracy}\")"
   ]
  },
  {
   "cell_type": "code",
   "execution_count": null,
   "id": "20db9831-54e2-4266-82a8-cca6b2ca94ba",
   "metadata": {},
   "outputs": [],
   "source": []
  }
 ],
 "metadata": {
  "kaggle": {
   "accelerator": "none",
   "dataSources": [
    {
     "datasetId": 3674161,
     "sourceId": 6376134,
     "sourceType": "datasetVersion"
    }
   ],
   "dockerImageVersionId": 30635,
   "isGpuEnabled": false,
   "isInternetEnabled": true,
   "language": "python",
   "sourceType": "notebook"
  },
  "kernelspec": {
   "display_name": "Python 3 (ipykernel)",
   "language": "python",
   "name": "python3"
  },
  "language_info": {
   "codemirror_mode": {
    "name": "ipython",
    "version": 3
   },
   "file_extension": ".py",
   "mimetype": "text/x-python",
   "name": "python",
   "nbconvert_exporter": "python",
   "pygments_lexer": "ipython3",
   "version": "3.9.18"
  },
  "papermill": {
   "default_parameters": {},
   "duration": 122.172381,
   "end_time": "2024-02-11T10:54:40.996784",
   "environment_variables": {},
   "exception": null,
   "input_path": "__notebook__.ipynb",
   "output_path": "__notebook__.ipynb",
   "parameters": {},
   "start_time": "2024-02-11T10:52:38.824403",
   "version": "2.4.0"
  }
 },
 "nbformat": 4,
 "nbformat_minor": 5
}
