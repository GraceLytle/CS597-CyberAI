{
 "cells": [
  {
   "cell_type": "markdown",
   "id": "5f16c1f5-c0ee-41c0-9429-baddb81d63b7",
   "metadata": {},
   "source": [
    "# SOURCE\n",
    "### https://www.kaggle.com/code/syedali110/intrusion-detection-using-ann"
   ]
  },
  {
   "cell_type": "code",
   "execution_count": 1,
   "id": "2aa386ca",
   "metadata": {
    "papermill": {
     "duration": 0.891353,
     "end_time": "2024-02-11T10:52:43.680523",
     "exception": false,
     "start_time": "2024-02-11T10:52:42.789170",
     "status": "completed"
    },
    "tags": []
   },
   "outputs": [],
   "source": [
    "import pandas as pd\n",
    "import numpy as np"
   ]
  },
  {
   "cell_type": "code",
   "execution_count": 2,
   "id": "abab71b3",
   "metadata": {
    "papermill": {
     "duration": 1.772036,
     "end_time": "2024-02-11T10:52:45.463420",
     "exception": false,
     "start_time": "2024-02-11T10:52:43.691384",
     "status": "completed"
    },
    "tags": []
   },
   "outputs": [],
   "source": [
    "df=pd.read_csv('../../../data/Friday-WorkingHours-Morning.pcap_ISCX.csv')"
   ]
  },
  {
   "cell_type": "code",
   "execution_count": 3,
   "id": "f4af455c",
   "metadata": {
    "papermill": {
     "duration": 0.053676,
     "end_time": "2024-02-11T10:52:45.527287",
     "exception": false,
     "start_time": "2024-02-11T10:52:45.473611",
     "status": "completed"
    },
    "tags": []
   },
   "outputs": [
    {
     "data": {
      "text/html": [
       "<div>\n",
       "<style scoped>\n",
       "    .dataframe tbody tr th:only-of-type {\n",
       "        vertical-align: middle;\n",
       "    }\n",
       "\n",
       "    .dataframe tbody tr th {\n",
       "        vertical-align: top;\n",
       "    }\n",
       "\n",
       "    .dataframe thead th {\n",
       "        text-align: right;\n",
       "    }\n",
       "</style>\n",
       "<table border=\"1\" class=\"dataframe\">\n",
       "  <thead>\n",
       "    <tr style=\"text-align: right;\">\n",
       "      <th></th>\n",
       "      <th>Destination Port</th>\n",
       "      <th>Flow Duration</th>\n",
       "      <th>Total Fwd Packets</th>\n",
       "      <th>Total Backward Packets</th>\n",
       "      <th>Total Length of Fwd Packets</th>\n",
       "      <th>Total Length of Bwd Packets</th>\n",
       "      <th>Fwd Packet Length Max</th>\n",
       "      <th>Fwd Packet Length Min</th>\n",
       "      <th>Fwd Packet Length Mean</th>\n",
       "      <th>Fwd Packet Length Std</th>\n",
       "      <th>...</th>\n",
       "      <th>min_seg_size_forward</th>\n",
       "      <th>Active Mean</th>\n",
       "      <th>Active Std</th>\n",
       "      <th>Active Max</th>\n",
       "      <th>Active Min</th>\n",
       "      <th>Idle Mean</th>\n",
       "      <th>Idle Std</th>\n",
       "      <th>Idle Max</th>\n",
       "      <th>Idle Min</th>\n",
       "      <th>Label</th>\n",
       "    </tr>\n",
       "  </thead>\n",
       "  <tbody>\n",
       "    <tr>\n",
       "      <th>0</th>\n",
       "      <td>3268</td>\n",
       "      <td>112740690</td>\n",
       "      <td>32</td>\n",
       "      <td>16</td>\n",
       "      <td>6448</td>\n",
       "      <td>1152</td>\n",
       "      <td>403</td>\n",
       "      <td>0</td>\n",
       "      <td>201.5</td>\n",
       "      <td>204.724205</td>\n",
       "      <td>...</td>\n",
       "      <td>32</td>\n",
       "      <td>3.594286e+02</td>\n",
       "      <td>1.199802e+01</td>\n",
       "      <td>380</td>\n",
       "      <td>343</td>\n",
       "      <td>16100000.0</td>\n",
       "      <td>4.988048e+05</td>\n",
       "      <td>16400000</td>\n",
       "      <td>15400000</td>\n",
       "      <td>BENIGN</td>\n",
       "    </tr>\n",
       "    <tr>\n",
       "      <th>1</th>\n",
       "      <td>389</td>\n",
       "      <td>112740560</td>\n",
       "      <td>32</td>\n",
       "      <td>16</td>\n",
       "      <td>6448</td>\n",
       "      <td>5056</td>\n",
       "      <td>403</td>\n",
       "      <td>0</td>\n",
       "      <td>201.5</td>\n",
       "      <td>204.724205</td>\n",
       "      <td>...</td>\n",
       "      <td>32</td>\n",
       "      <td>3.202857e+02</td>\n",
       "      <td>1.574499e+01</td>\n",
       "      <td>330</td>\n",
       "      <td>285</td>\n",
       "      <td>16100000.0</td>\n",
       "      <td>4.987937e+05</td>\n",
       "      <td>16400000</td>\n",
       "      <td>15400000</td>\n",
       "      <td>BENIGN</td>\n",
       "    </tr>\n",
       "    <tr>\n",
       "      <th>2</th>\n",
       "      <td>0</td>\n",
       "      <td>113757377</td>\n",
       "      <td>545</td>\n",
       "      <td>0</td>\n",
       "      <td>0</td>\n",
       "      <td>0</td>\n",
       "      <td>0</td>\n",
       "      <td>0</td>\n",
       "      <td>0.0</td>\n",
       "      <td>0.000000</td>\n",
       "      <td>...</td>\n",
       "      <td>0</td>\n",
       "      <td>9.361829e+06</td>\n",
       "      <td>7.324646e+06</td>\n",
       "      <td>18900000</td>\n",
       "      <td>19</td>\n",
       "      <td>12200000.0</td>\n",
       "      <td>6.935824e+06</td>\n",
       "      <td>20800000</td>\n",
       "      <td>5504997</td>\n",
       "      <td>BENIGN</td>\n",
       "    </tr>\n",
       "    <tr>\n",
       "      <th>3</th>\n",
       "      <td>5355</td>\n",
       "      <td>100126</td>\n",
       "      <td>22</td>\n",
       "      <td>0</td>\n",
       "      <td>616</td>\n",
       "      <td>0</td>\n",
       "      <td>28</td>\n",
       "      <td>28</td>\n",
       "      <td>28.0</td>\n",
       "      <td>0.000000</td>\n",
       "      <td>...</td>\n",
       "      <td>32</td>\n",
       "      <td>0.000000e+00</td>\n",
       "      <td>0.000000e+00</td>\n",
       "      <td>0</td>\n",
       "      <td>0</td>\n",
       "      <td>0.0</td>\n",
       "      <td>0.000000e+00</td>\n",
       "      <td>0</td>\n",
       "      <td>0</td>\n",
       "      <td>BENIGN</td>\n",
       "    </tr>\n",
       "    <tr>\n",
       "      <th>4</th>\n",
       "      <td>0</td>\n",
       "      <td>54760</td>\n",
       "      <td>4</td>\n",
       "      <td>0</td>\n",
       "      <td>0</td>\n",
       "      <td>0</td>\n",
       "      <td>0</td>\n",
       "      <td>0</td>\n",
       "      <td>0.0</td>\n",
       "      <td>0.000000</td>\n",
       "      <td>...</td>\n",
       "      <td>0</td>\n",
       "      <td>0.000000e+00</td>\n",
       "      <td>0.000000e+00</td>\n",
       "      <td>0</td>\n",
       "      <td>0</td>\n",
       "      <td>0.0</td>\n",
       "      <td>0.000000e+00</td>\n",
       "      <td>0</td>\n",
       "      <td>0</td>\n",
       "      <td>BENIGN</td>\n",
       "    </tr>\n",
       "  </tbody>\n",
       "</table>\n",
       "<p>5 rows × 79 columns</p>\n",
       "</div>"
      ],
      "text/plain": [
       "    Destination Port   Flow Duration   Total Fwd Packets  \\\n",
       "0               3268       112740690                  32   \n",
       "1                389       112740560                  32   \n",
       "2                  0       113757377                 545   \n",
       "3               5355          100126                  22   \n",
       "4                  0           54760                   4   \n",
       "\n",
       "    Total Backward Packets  Total Length of Fwd Packets  \\\n",
       "0                       16                         6448   \n",
       "1                       16                         6448   \n",
       "2                        0                            0   \n",
       "3                        0                          616   \n",
       "4                        0                            0   \n",
       "\n",
       "    Total Length of Bwd Packets   Fwd Packet Length Max  \\\n",
       "0                          1152                     403   \n",
       "1                          5056                     403   \n",
       "2                             0                       0   \n",
       "3                             0                      28   \n",
       "4                             0                       0   \n",
       "\n",
       "    Fwd Packet Length Min   Fwd Packet Length Mean   Fwd Packet Length Std  \\\n",
       "0                       0                    201.5              204.724205   \n",
       "1                       0                    201.5              204.724205   \n",
       "2                       0                      0.0                0.000000   \n",
       "3                      28                     28.0                0.000000   \n",
       "4                       0                      0.0                0.000000   \n",
       "\n",
       "   ...   min_seg_size_forward   Active Mean    Active Std   Active Max  \\\n",
       "0  ...                     32  3.594286e+02  1.199802e+01          380   \n",
       "1  ...                     32  3.202857e+02  1.574499e+01          330   \n",
       "2  ...                      0  9.361829e+06  7.324646e+06     18900000   \n",
       "3  ...                     32  0.000000e+00  0.000000e+00            0   \n",
       "4  ...                      0  0.000000e+00  0.000000e+00            0   \n",
       "\n",
       "    Active Min   Idle Mean      Idle Std   Idle Max   Idle Min   Label  \n",
       "0          343  16100000.0  4.988048e+05   16400000   15400000  BENIGN  \n",
       "1          285  16100000.0  4.987937e+05   16400000   15400000  BENIGN  \n",
       "2           19  12200000.0  6.935824e+06   20800000    5504997  BENIGN  \n",
       "3            0         0.0  0.000000e+00          0          0  BENIGN  \n",
       "4            0         0.0  0.000000e+00          0          0  BENIGN  \n",
       "\n",
       "[5 rows x 79 columns]"
      ]
     },
     "execution_count": 3,
     "metadata": {},
     "output_type": "execute_result"
    }
   ],
   "source": [
    "df.head()"
   ]
  },
  {
   "cell_type": "code",
   "execution_count": 4,
   "id": "5b7e383d",
   "metadata": {
    "papermill": {
     "duration": 0.021835,
     "end_time": "2024-02-11T10:52:45.559214",
     "exception": false,
     "start_time": "2024-02-11T10:52:45.537379",
     "status": "completed"
    },
    "tags": []
   },
   "outputs": [
    {
     "data": {
      "text/plain": [
       "Index([' Destination Port', ' Flow Duration', ' Total Fwd Packets',\n",
       "       ' Total Backward Packets', 'Total Length of Fwd Packets',\n",
       "       ' Total Length of Bwd Packets', ' Fwd Packet Length Max',\n",
       "       ' Fwd Packet Length Min', ' Fwd Packet Length Mean',\n",
       "       ' Fwd Packet Length Std', 'Bwd Packet Length Max',\n",
       "       ' Bwd Packet Length Min', ' Bwd Packet Length Mean',\n",
       "       ' Bwd Packet Length Std', 'Flow Bytes/s', ' Flow Packets/s',\n",
       "       ' Flow IAT Mean', ' Flow IAT Std', ' Flow IAT Max', ' Flow IAT Min',\n",
       "       'Fwd IAT Total', ' Fwd IAT Mean', ' Fwd IAT Std', ' Fwd IAT Max',\n",
       "       ' Fwd IAT Min', 'Bwd IAT Total', ' Bwd IAT Mean', ' Bwd IAT Std',\n",
       "       ' Bwd IAT Max', ' Bwd IAT Min', 'Fwd PSH Flags', ' Bwd PSH Flags',\n",
       "       ' Fwd URG Flags', ' Bwd URG Flags', ' Fwd Header Length',\n",
       "       ' Bwd Header Length', 'Fwd Packets/s', ' Bwd Packets/s',\n",
       "       ' Min Packet Length', ' Max Packet Length', ' Packet Length Mean',\n",
       "       ' Packet Length Std', ' Packet Length Variance', 'FIN Flag Count',\n",
       "       ' SYN Flag Count', ' RST Flag Count', ' PSH Flag Count',\n",
       "       ' ACK Flag Count', ' URG Flag Count', ' CWE Flag Count',\n",
       "       ' ECE Flag Count', ' Down/Up Ratio', ' Average Packet Size',\n",
       "       ' Avg Fwd Segment Size', ' Avg Bwd Segment Size',\n",
       "       ' Fwd Header Length.1', 'Fwd Avg Bytes/Bulk', ' Fwd Avg Packets/Bulk',\n",
       "       ' Fwd Avg Bulk Rate', ' Bwd Avg Bytes/Bulk', ' Bwd Avg Packets/Bulk',\n",
       "       'Bwd Avg Bulk Rate', 'Subflow Fwd Packets', ' Subflow Fwd Bytes',\n",
       "       ' Subflow Bwd Packets', ' Subflow Bwd Bytes', 'Init_Win_bytes_forward',\n",
       "       ' Init_Win_bytes_backward', ' act_data_pkt_fwd',\n",
       "       ' min_seg_size_forward', 'Active Mean', ' Active Std', ' Active Max',\n",
       "       ' Active Min', 'Idle Mean', ' Idle Std', ' Idle Max', ' Idle Min',\n",
       "       ' Label'],\n",
       "      dtype='object')"
      ]
     },
     "execution_count": 4,
     "metadata": {},
     "output_type": "execute_result"
    }
   ],
   "source": [
    "df.columns"
   ]
  },
  {
   "cell_type": "code",
   "execution_count": 5,
   "id": "83209a90",
   "metadata": {
    "papermill": {
     "duration": 1.392369,
     "end_time": "2024-02-11T10:52:46.961962",
     "exception": false,
     "start_time": "2024-02-11T10:52:45.569593",
     "status": "completed"
    },
    "tags": []
   },
   "outputs": [],
   "source": [
    "from sklearn.preprocessing import LabelEncoder\n",
    "encoder = LabelEncoder()\n",
    "df[' Label']= encoder.fit_transform(df[' Label'])"
   ]
  },
  {
   "cell_type": "code",
   "execution_count": 6,
   "id": "140ecd2e",
   "metadata": {
    "papermill": {
     "duration": 0.037012,
     "end_time": "2024-02-11T10:52:47.009498",
     "exception": false,
     "start_time": "2024-02-11T10:52:46.972486",
     "status": "completed"
    },
    "tags": []
   },
   "outputs": [
    {
     "data": {
      "text/html": [
       "<div>\n",
       "<style scoped>\n",
       "    .dataframe tbody tr th:only-of-type {\n",
       "        vertical-align: middle;\n",
       "    }\n",
       "\n",
       "    .dataframe tbody tr th {\n",
       "        vertical-align: top;\n",
       "    }\n",
       "\n",
       "    .dataframe thead th {\n",
       "        text-align: right;\n",
       "    }\n",
       "</style>\n",
       "<table border=\"1\" class=\"dataframe\">\n",
       "  <thead>\n",
       "    <tr style=\"text-align: right;\">\n",
       "      <th></th>\n",
       "      <th>Destination Port</th>\n",
       "      <th>Flow Duration</th>\n",
       "      <th>Total Fwd Packets</th>\n",
       "      <th>Total Backward Packets</th>\n",
       "      <th>Total Length of Fwd Packets</th>\n",
       "      <th>Total Length of Bwd Packets</th>\n",
       "      <th>Fwd Packet Length Max</th>\n",
       "      <th>Fwd Packet Length Min</th>\n",
       "      <th>Fwd Packet Length Mean</th>\n",
       "      <th>Fwd Packet Length Std</th>\n",
       "      <th>...</th>\n",
       "      <th>min_seg_size_forward</th>\n",
       "      <th>Active Mean</th>\n",
       "      <th>Active Std</th>\n",
       "      <th>Active Max</th>\n",
       "      <th>Active Min</th>\n",
       "      <th>Idle Mean</th>\n",
       "      <th>Idle Std</th>\n",
       "      <th>Idle Max</th>\n",
       "      <th>Idle Min</th>\n",
       "      <th>Label</th>\n",
       "    </tr>\n",
       "  </thead>\n",
       "  <tbody>\n",
       "    <tr>\n",
       "      <th>0</th>\n",
       "      <td>3268</td>\n",
       "      <td>112740690</td>\n",
       "      <td>32</td>\n",
       "      <td>16</td>\n",
       "      <td>6448</td>\n",
       "      <td>1152</td>\n",
       "      <td>403</td>\n",
       "      <td>0</td>\n",
       "      <td>201.5</td>\n",
       "      <td>204.724205</td>\n",
       "      <td>...</td>\n",
       "      <td>32</td>\n",
       "      <td>3.594286e+02</td>\n",
       "      <td>1.199802e+01</td>\n",
       "      <td>380</td>\n",
       "      <td>343</td>\n",
       "      <td>16100000.0</td>\n",
       "      <td>4.988048e+05</td>\n",
       "      <td>16400000</td>\n",
       "      <td>15400000</td>\n",
       "      <td>0</td>\n",
       "    </tr>\n",
       "    <tr>\n",
       "      <th>1</th>\n",
       "      <td>389</td>\n",
       "      <td>112740560</td>\n",
       "      <td>32</td>\n",
       "      <td>16</td>\n",
       "      <td>6448</td>\n",
       "      <td>5056</td>\n",
       "      <td>403</td>\n",
       "      <td>0</td>\n",
       "      <td>201.5</td>\n",
       "      <td>204.724205</td>\n",
       "      <td>...</td>\n",
       "      <td>32</td>\n",
       "      <td>3.202857e+02</td>\n",
       "      <td>1.574499e+01</td>\n",
       "      <td>330</td>\n",
       "      <td>285</td>\n",
       "      <td>16100000.0</td>\n",
       "      <td>4.987937e+05</td>\n",
       "      <td>16400000</td>\n",
       "      <td>15400000</td>\n",
       "      <td>0</td>\n",
       "    </tr>\n",
       "    <tr>\n",
       "      <th>2</th>\n",
       "      <td>0</td>\n",
       "      <td>113757377</td>\n",
       "      <td>545</td>\n",
       "      <td>0</td>\n",
       "      <td>0</td>\n",
       "      <td>0</td>\n",
       "      <td>0</td>\n",
       "      <td>0</td>\n",
       "      <td>0.0</td>\n",
       "      <td>0.000000</td>\n",
       "      <td>...</td>\n",
       "      <td>0</td>\n",
       "      <td>9.361829e+06</td>\n",
       "      <td>7.324646e+06</td>\n",
       "      <td>18900000</td>\n",
       "      <td>19</td>\n",
       "      <td>12200000.0</td>\n",
       "      <td>6.935824e+06</td>\n",
       "      <td>20800000</td>\n",
       "      <td>5504997</td>\n",
       "      <td>0</td>\n",
       "    </tr>\n",
       "    <tr>\n",
       "      <th>3</th>\n",
       "      <td>5355</td>\n",
       "      <td>100126</td>\n",
       "      <td>22</td>\n",
       "      <td>0</td>\n",
       "      <td>616</td>\n",
       "      <td>0</td>\n",
       "      <td>28</td>\n",
       "      <td>28</td>\n",
       "      <td>28.0</td>\n",
       "      <td>0.000000</td>\n",
       "      <td>...</td>\n",
       "      <td>32</td>\n",
       "      <td>0.000000e+00</td>\n",
       "      <td>0.000000e+00</td>\n",
       "      <td>0</td>\n",
       "      <td>0</td>\n",
       "      <td>0.0</td>\n",
       "      <td>0.000000e+00</td>\n",
       "      <td>0</td>\n",
       "      <td>0</td>\n",
       "      <td>0</td>\n",
       "    </tr>\n",
       "    <tr>\n",
       "      <th>4</th>\n",
       "      <td>0</td>\n",
       "      <td>54760</td>\n",
       "      <td>4</td>\n",
       "      <td>0</td>\n",
       "      <td>0</td>\n",
       "      <td>0</td>\n",
       "      <td>0</td>\n",
       "      <td>0</td>\n",
       "      <td>0.0</td>\n",
       "      <td>0.000000</td>\n",
       "      <td>...</td>\n",
       "      <td>0</td>\n",
       "      <td>0.000000e+00</td>\n",
       "      <td>0.000000e+00</td>\n",
       "      <td>0</td>\n",
       "      <td>0</td>\n",
       "      <td>0.0</td>\n",
       "      <td>0.000000e+00</td>\n",
       "      <td>0</td>\n",
       "      <td>0</td>\n",
       "      <td>0</td>\n",
       "    </tr>\n",
       "  </tbody>\n",
       "</table>\n",
       "<p>5 rows × 79 columns</p>\n",
       "</div>"
      ],
      "text/plain": [
       "    Destination Port   Flow Duration   Total Fwd Packets  \\\n",
       "0               3268       112740690                  32   \n",
       "1                389       112740560                  32   \n",
       "2                  0       113757377                 545   \n",
       "3               5355          100126                  22   \n",
       "4                  0           54760                   4   \n",
       "\n",
       "    Total Backward Packets  Total Length of Fwd Packets  \\\n",
       "0                       16                         6448   \n",
       "1                       16                         6448   \n",
       "2                        0                            0   \n",
       "3                        0                          616   \n",
       "4                        0                            0   \n",
       "\n",
       "    Total Length of Bwd Packets   Fwd Packet Length Max  \\\n",
       "0                          1152                     403   \n",
       "1                          5056                     403   \n",
       "2                             0                       0   \n",
       "3                             0                      28   \n",
       "4                             0                       0   \n",
       "\n",
       "    Fwd Packet Length Min   Fwd Packet Length Mean   Fwd Packet Length Std  \\\n",
       "0                       0                    201.5              204.724205   \n",
       "1                       0                    201.5              204.724205   \n",
       "2                       0                      0.0                0.000000   \n",
       "3                      28                     28.0                0.000000   \n",
       "4                       0                      0.0                0.000000   \n",
       "\n",
       "   ...   min_seg_size_forward   Active Mean    Active Std   Active Max  \\\n",
       "0  ...                     32  3.594286e+02  1.199802e+01          380   \n",
       "1  ...                     32  3.202857e+02  1.574499e+01          330   \n",
       "2  ...                      0  9.361829e+06  7.324646e+06     18900000   \n",
       "3  ...                     32  0.000000e+00  0.000000e+00            0   \n",
       "4  ...                      0  0.000000e+00  0.000000e+00            0   \n",
       "\n",
       "    Active Min   Idle Mean      Idle Std   Idle Max   Idle Min   Label  \n",
       "0          343  16100000.0  4.988048e+05   16400000   15400000       0  \n",
       "1          285  16100000.0  4.987937e+05   16400000   15400000       0  \n",
       "2           19  12200000.0  6.935824e+06   20800000    5504997       0  \n",
       "3            0         0.0  0.000000e+00          0          0       0  \n",
       "4            0         0.0  0.000000e+00          0          0       0  \n",
       "\n",
       "[5 rows x 79 columns]"
      ]
     },
     "execution_count": 6,
     "metadata": {},
     "output_type": "execute_result"
    }
   ],
   "source": [
    "df.head()"
   ]
  },
  {
   "cell_type": "code",
   "execution_count": 7,
   "id": "07d559f4",
   "metadata": {
    "papermill": {
     "duration": 0.030761,
     "end_time": "2024-02-11T10:52:47.051156",
     "exception": false,
     "start_time": "2024-02-11T10:52:47.020395",
     "status": "completed"
    },
    "tags": []
   },
   "outputs": [
    {
     "data": {
      "text/plain": [
       "<bound method Series.sum of  Label\n",
       "0    189067\n",
       "1      1966\n",
       "Name: count, dtype: int64>"
      ]
     },
     "execution_count": 7,
     "metadata": {},
     "output_type": "execute_result"
    }
   ],
   "source": [
    "df[' Label'].value_counts().sum"
   ]
  },
  {
   "cell_type": "code",
   "execution_count": 8,
   "id": "4b988d86",
   "metadata": {
    "papermill": {
     "duration": 0.141798,
     "end_time": "2024-02-11T10:52:47.204734",
     "exception": false,
     "start_time": "2024-02-11T10:52:47.062936",
     "status": "completed"
    },
    "tags": []
   },
   "outputs": [],
   "source": [
    "df = df.fillna(0)  # Replace NaN with 0\n",
    "df = df.replace([np.inf, -np.inf], 0)"
   ]
  },
  {
   "cell_type": "code",
   "execution_count": 9,
   "id": "32e197d2",
   "metadata": {
    "papermill": {
     "duration": 0.034069,
     "end_time": "2024-02-11T10:52:47.249979",
     "exception": false,
     "start_time": "2024-02-11T10:52:47.215910",
     "status": "completed"
    },
    "tags": []
   },
   "outputs": [
    {
     "data": {
      "text/plain": [
       " Destination Port              0\n",
       " Flow Duration                 0\n",
       " Total Fwd Packets             0\n",
       " Total Backward Packets        0\n",
       "Total Length of Fwd Packets    0\n",
       "                              ..\n",
       "Idle Mean                      0\n",
       " Idle Std                      0\n",
       " Idle Max                      0\n",
       " Idle Min                      0\n",
       " Label                         0\n",
       "Length: 79, dtype: int64"
      ]
     },
     "execution_count": 9,
     "metadata": {},
     "output_type": "execute_result"
    }
   ],
   "source": [
    "df.isnull().sum()"
   ]
  },
  {
   "cell_type": "code",
   "execution_count": 10,
   "id": "7ed270f1",
   "metadata": {
    "papermill": {
     "duration": 0.044634,
     "end_time": "2024-02-11T10:52:47.305833",
     "exception": false,
     "start_time": "2024-02-11T10:52:47.261199",
     "status": "completed"
    },
    "tags": []
   },
   "outputs": [],
   "source": [
    "df=df.astype(int)"
   ]
  },
  {
   "cell_type": "code",
   "execution_count": 11,
   "id": "0daf8add",
   "metadata": {
    "papermill": {
     "duration": 0.466786,
     "end_time": "2024-02-11T10:52:47.783717",
     "exception": false,
     "start_time": "2024-02-11T10:52:47.316931",
     "status": "completed"
    },
    "tags": []
   },
   "outputs": [],
   "source": [
    "import numpy as np\n",
    "from sklearn.feature_selection import SelectKBest, f_classif\n",
    "\n",
    "X = df.drop(' Label',axis=1)\n",
    "y = df[' Label']\n",
    "\n",
    "\n"
   ]
  },
  {
   "cell_type": "code",
   "execution_count": 12,
   "id": "492bcd8b",
   "metadata": {
    "papermill": {
     "duration": 0.239555,
     "end_time": "2024-02-11T10:52:48.103119",
     "exception": false,
     "start_time": "2024-02-11T10:52:47.863564",
     "status": "completed"
    },
    "tags": []
   },
   "outputs": [],
   "source": [
    "from sklearn.preprocessing import StandardScaler\n",
    "scaler = StandardScaler()\n",
    "X_scaled = scaler.fit_transform(X)"
   ]
  },
  {
   "cell_type": "code",
   "execution_count": 13,
   "id": "12b196c2",
   "metadata": {
    "papermill": {
     "duration": 0.415183,
     "end_time": "2024-02-11T10:52:48.529394",
     "exception": false,
     "start_time": "2024-02-11T10:52:48.114211",
     "status": "completed"
    },
    "tags": []
   },
   "outputs": [
    {
     "name": "stderr",
     "output_type": "stream",
     "text": [
      "C:\\Users\\grace\\AppData\\Local\\Programs\\Python\\Python312\\Lib\\site-packages\\sklearn\\feature_selection\\_univariate_selection.py:112: UserWarning: Features [31 32 33 49 56 57 58 59 60 61] are constant.\n",
      "  warnings.warn(\"Features %s are constant.\" % constant_features_idx, UserWarning)\n",
      "C:\\Users\\grace\\AppData\\Local\\Programs\\Python\\Python312\\Lib\\site-packages\\sklearn\\feature_selection\\_univariate_selection.py:113: RuntimeWarning: invalid value encountered in divide\n",
      "  f = msb / msw\n"
     ]
    }
   ],
   "source": [
    "from sklearn.impute import SimpleImputer\n",
    "# Impute missing values (replace NaNs with the mean)\n",
    "imputer = SimpleImputer(strategy='mean')\n",
    "X_imputed = imputer.fit_transform(X)\n",
    "\n",
    "# Determine the number of columns (features) in your DataFrame\n",
    "num_columns = df.shape[1]\n",
    "\n",
    "# Set an appropriate value for k (less than or equal to the number of columns)\n",
    "k = min(10, num_columns)  # Adjust this as needed\n",
    "\n",
    "# Initialize SelectKBest with the scoring function\n",
    "k_best = SelectKBest(score_func=f_classif, k=k)\n",
    "\n",
    "# Fit and transform the imputed data to select the top 10 features\n",
    "X_new = k_best.fit_transform(X_imputed, y)"
   ]
  },
  {
   "cell_type": "code",
   "execution_count": 14,
   "id": "988cc2ba",
   "metadata": {
    "papermill": {
     "duration": 0.021106,
     "end_time": "2024-02-11T10:52:48.561428",
     "exception": false,
     "start_time": "2024-02-11T10:52:48.540322",
     "status": "completed"
    },
    "tags": []
   },
   "outputs": [],
   "source": [
    "# Get the boolean mask of selected features\n",
    "selected_features_mask = k_best.get_support()\n",
    "\n"
   ]
  },
  {
   "cell_type": "code",
   "execution_count": 15,
   "id": "900fe9a1",
   "metadata": {
    "papermill": {
     "duration": 0.020582,
     "end_time": "2024-02-11T10:52:48.594210",
     "exception": false,
     "start_time": "2024-02-11T10:52:48.573628",
     "status": "completed"
    },
    "tags": []
   },
   "outputs": [],
   "source": [
    "elected_feature_names = X.columns[selected_features_mask]"
   ]
  },
  {
   "cell_type": "code",
   "execution_count": 16,
   "id": "af71df1e",
   "metadata": {
    "papermill": {
     "duration": 0.021719,
     "end_time": "2024-02-11T10:52:48.627444",
     "exception": false,
     "start_time": "2024-02-11T10:52:48.605725",
     "status": "completed"
    },
    "tags": []
   },
   "outputs": [
    {
     "data": {
      "text/plain": [
       "Index([' Destination Port', ' Bwd Packet Length Min',\n",
       "       ' Bwd Packet Length Mean', ' Bwd Packets/s', ' Min Packet Length',\n",
       "       ' PSH Flag Count', ' URG Flag Count', ' Avg Fwd Segment Size',\n",
       "       ' Avg Bwd Segment Size', ' min_seg_size_forward'],\n",
       "      dtype='object')"
      ]
     },
     "execution_count": 16,
     "metadata": {},
     "output_type": "execute_result"
    }
   ],
   "source": [
    "elected_feature_names"
   ]
  },
  {
   "cell_type": "code",
   "execution_count": 17,
   "id": "9e520f45",
   "metadata": {
    "papermill": {
     "duration": 0.021211,
     "end_time": "2024-02-11T10:52:48.660212",
     "exception": false,
     "start_time": "2024-02-11T10:52:48.639001",
     "status": "completed"
    },
    "tags": []
   },
   "outputs": [],
   "source": [
    "new_columns=[' Destination Port', ' Bwd Packet Length Min',\n",
    "       ' Bwd Packet Length Mean', ' Bwd Packets/s', ' Min Packet Length',\n",
    "       ' PSH Flag Count', ' URG Flag Count', ' Avg Fwd Segment Size',\n",
    "       ' Avg Bwd Segment Size', ' min_seg_size_forward']"
   ]
  },
  {
   "cell_type": "code",
   "execution_count": 18,
   "id": "16838a3f",
   "metadata": {
    "papermill": {
     "duration": 0.02351,
     "end_time": "2024-02-11T10:52:48.695185",
     "exception": false,
     "start_time": "2024-02-11T10:52:48.671675",
     "status": "completed"
    },
    "tags": []
   },
   "outputs": [],
   "source": [
    "df_new=X[new_columns]"
   ]
  },
  {
   "cell_type": "code",
   "execution_count": 19,
   "id": "7c2bbe97",
   "metadata": {
    "papermill": {
     "duration": 0.030646,
     "end_time": "2024-02-11T10:52:48.737208",
     "exception": false,
     "start_time": "2024-02-11T10:52:48.706562",
     "status": "completed"
    },
    "tags": []
   },
   "outputs": [
    {
     "data": {
      "text/html": [
       "<div>\n",
       "<style scoped>\n",
       "    .dataframe tbody tr th:only-of-type {\n",
       "        vertical-align: middle;\n",
       "    }\n",
       "\n",
       "    .dataframe tbody tr th {\n",
       "        vertical-align: top;\n",
       "    }\n",
       "\n",
       "    .dataframe thead th {\n",
       "        text-align: right;\n",
       "    }\n",
       "</style>\n",
       "<table border=\"1\" class=\"dataframe\">\n",
       "  <thead>\n",
       "    <tr style=\"text-align: right;\">\n",
       "      <th></th>\n",
       "      <th>Destination Port</th>\n",
       "      <th>Bwd Packet Length Min</th>\n",
       "      <th>Bwd Packet Length Mean</th>\n",
       "      <th>Bwd Packets/s</th>\n",
       "      <th>Min Packet Length</th>\n",
       "      <th>PSH Flag Count</th>\n",
       "      <th>URG Flag Count</th>\n",
       "      <th>Avg Fwd Segment Size</th>\n",
       "      <th>Avg Bwd Segment Size</th>\n",
       "      <th>min_seg_size_forward</th>\n",
       "    </tr>\n",
       "  </thead>\n",
       "  <tbody>\n",
       "    <tr>\n",
       "      <th>0</th>\n",
       "      <td>3268</td>\n",
       "      <td>72</td>\n",
       "      <td>72</td>\n",
       "      <td>0</td>\n",
       "      <td>0</td>\n",
       "      <td>0</td>\n",
       "      <td>0</td>\n",
       "      <td>201</td>\n",
       "      <td>72</td>\n",
       "      <td>32</td>\n",
       "    </tr>\n",
       "    <tr>\n",
       "      <th>1</th>\n",
       "      <td>389</td>\n",
       "      <td>316</td>\n",
       "      <td>316</td>\n",
       "      <td>0</td>\n",
       "      <td>0</td>\n",
       "      <td>0</td>\n",
       "      <td>0</td>\n",
       "      <td>201</td>\n",
       "      <td>316</td>\n",
       "      <td>32</td>\n",
       "    </tr>\n",
       "    <tr>\n",
       "      <th>2</th>\n",
       "      <td>0</td>\n",
       "      <td>0</td>\n",
       "      <td>0</td>\n",
       "      <td>0</td>\n",
       "      <td>0</td>\n",
       "      <td>0</td>\n",
       "      <td>0</td>\n",
       "      <td>0</td>\n",
       "      <td>0</td>\n",
       "      <td>0</td>\n",
       "    </tr>\n",
       "    <tr>\n",
       "      <th>3</th>\n",
       "      <td>5355</td>\n",
       "      <td>0</td>\n",
       "      <td>0</td>\n",
       "      <td>0</td>\n",
       "      <td>28</td>\n",
       "      <td>0</td>\n",
       "      <td>0</td>\n",
       "      <td>28</td>\n",
       "      <td>0</td>\n",
       "      <td>32</td>\n",
       "    </tr>\n",
       "    <tr>\n",
       "      <th>4</th>\n",
       "      <td>0</td>\n",
       "      <td>0</td>\n",
       "      <td>0</td>\n",
       "      <td>0</td>\n",
       "      <td>0</td>\n",
       "      <td>0</td>\n",
       "      <td>0</td>\n",
       "      <td>0</td>\n",
       "      <td>0</td>\n",
       "      <td>0</td>\n",
       "    </tr>\n",
       "    <tr>\n",
       "      <th>...</th>\n",
       "      <td>...</td>\n",
       "      <td>...</td>\n",
       "      <td>...</td>\n",
       "      <td>...</td>\n",
       "      <td>...</td>\n",
       "      <td>...</td>\n",
       "      <td>...</td>\n",
       "      <td>...</td>\n",
       "      <td>...</td>\n",
       "      <td>...</td>\n",
       "    </tr>\n",
       "    <tr>\n",
       "      <th>191028</th>\n",
       "      <td>53</td>\n",
       "      <td>177</td>\n",
       "      <td>177</td>\n",
       "      <td>32</td>\n",
       "      <td>45</td>\n",
       "      <td>0</td>\n",
       "      <td>0</td>\n",
       "      <td>45</td>\n",
       "      <td>177</td>\n",
       "      <td>20</td>\n",
       "    </tr>\n",
       "    <tr>\n",
       "      <th>191029</th>\n",
       "      <td>53</td>\n",
       "      <td>136</td>\n",
       "      <td>136</td>\n",
       "      <td>11695</td>\n",
       "      <td>40</td>\n",
       "      <td>0</td>\n",
       "      <td>0</td>\n",
       "      <td>40</td>\n",
       "      <td>136</td>\n",
       "      <td>32</td>\n",
       "    </tr>\n",
       "    <tr>\n",
       "      <th>191030</th>\n",
       "      <td>53</td>\n",
       "      <td>177</td>\n",
       "      <td>177</td>\n",
       "      <td>9009</td>\n",
       "      <td>45</td>\n",
       "      <td>0</td>\n",
       "      <td>0</td>\n",
       "      <td>45</td>\n",
       "      <td>177</td>\n",
       "      <td>32</td>\n",
       "    </tr>\n",
       "    <tr>\n",
       "      <th>191031</th>\n",
       "      <td>123</td>\n",
       "      <td>48</td>\n",
       "      <td>48</td>\n",
       "      <td>59</td>\n",
       "      <td>48</td>\n",
       "      <td>0</td>\n",
       "      <td>0</td>\n",
       "      <td>48</td>\n",
       "      <td>48</td>\n",
       "      <td>20</td>\n",
       "    </tr>\n",
       "    <tr>\n",
       "      <th>191032</th>\n",
       "      <td>53</td>\n",
       "      <td>50</td>\n",
       "      <td>50</td>\n",
       "      <td>13071</td>\n",
       "      <td>34</td>\n",
       "      <td>0</td>\n",
       "      <td>0</td>\n",
       "      <td>34</td>\n",
       "      <td>50</td>\n",
       "      <td>20</td>\n",
       "    </tr>\n",
       "  </tbody>\n",
       "</table>\n",
       "<p>191033 rows × 10 columns</p>\n",
       "</div>"
      ],
      "text/plain": [
       "        Destination Port  Bwd Packet Length Min  Bwd Packet Length Mean  \\\n",
       "0                   3268                     72                      72   \n",
       "1                    389                    316                     316   \n",
       "2                      0                      0                       0   \n",
       "3                   5355                      0                       0   \n",
       "4                      0                      0                       0   \n",
       "...                  ...                    ...                     ...   \n",
       "191028                53                    177                     177   \n",
       "191029                53                    136                     136   \n",
       "191030                53                    177                     177   \n",
       "191031               123                     48                      48   \n",
       "191032                53                     50                      50   \n",
       "\n",
       "        Bwd Packets/s  Min Packet Length  PSH Flag Count  URG Flag Count  \\\n",
       "0                   0                  0               0               0   \n",
       "1                   0                  0               0               0   \n",
       "2                   0                  0               0               0   \n",
       "3                   0                 28               0               0   \n",
       "4                   0                  0               0               0   \n",
       "...               ...                ...             ...             ...   \n",
       "191028             32                 45               0               0   \n",
       "191029          11695                 40               0               0   \n",
       "191030           9009                 45               0               0   \n",
       "191031             59                 48               0               0   \n",
       "191032          13071                 34               0               0   \n",
       "\n",
       "        Avg Fwd Segment Size  Avg Bwd Segment Size  min_seg_size_forward  \n",
       "0                        201                    72                    32  \n",
       "1                        201                   316                    32  \n",
       "2                          0                     0                     0  \n",
       "3                         28                     0                    32  \n",
       "4                          0                     0                     0  \n",
       "...                      ...                   ...                   ...  \n",
       "191028                    45                   177                    20  \n",
       "191029                    40                   136                    32  \n",
       "191030                    45                   177                    32  \n",
       "191031                    48                    48                    20  \n",
       "191032                    34                    50                    20  \n",
       "\n",
       "[191033 rows x 10 columns]"
      ]
     },
     "execution_count": 19,
     "metadata": {},
     "output_type": "execute_result"
    }
   ],
   "source": [
    "df_new"
   ]
  },
  {
   "cell_type": "code",
   "execution_count": 23,
   "id": "3d8100ae",
   "metadata": {
    "papermill": {
     "duration": 0.023955,
     "end_time": "2024-02-11T10:52:48.772861",
     "exception": false,
     "start_time": "2024-02-11T10:52:48.748906",
     "status": "completed"
    },
    "tags": []
   },
   "outputs": [
    {
     "name": "stderr",
     "output_type": "stream",
     "text": [
      "C:\\Users\\grace\\AppData\\Local\\Temp\\ipykernel_32708\\3066840877.py:1: SettingWithCopyWarning: \n",
      "A value is trying to be set on a copy of a slice from a DataFrame.\n",
      "Try using .loc[row_indexer,col_indexer] = value instead\n",
      "\n",
      "See the caveats in the documentation: https://pandas.pydata.org/pandas-docs/stable/user_guide/indexing.html#returning-a-view-versus-a-copy\n",
      "  df_new['label']=df[' Label']\n"
     ]
    }
   ],
   "source": [
    "df_new['label']=df[' Label']"
   ]
  },
  {
   "cell_type": "code",
   "execution_count": 24,
   "id": "089d4324",
   "metadata": {
    "papermill": {
     "duration": 0.028611,
     "end_time": "2024-02-11T10:52:48.813382",
     "exception": false,
     "start_time": "2024-02-11T10:52:48.784771",
     "status": "completed"
    },
    "tags": []
   },
   "outputs": [],
   "source": [
    "X1=df_new.iloc[:,:-1].values\n",
    "y1=df_new.iloc[:,-1].values"
   ]
  },
  {
   "cell_type": "code",
   "execution_count": 25,
   "id": "d55d2a5c",
   "metadata": {
    "papermill": {
     "duration": 0.022126,
     "end_time": "2024-02-11T10:52:48.847810",
     "exception": false,
     "start_time": "2024-02-11T10:52:48.825684",
     "status": "completed"
    },
    "tags": []
   },
   "outputs": [
    {
     "data": {
      "text/plain": [
       "array([[3268,   72,   72, ...,  201,   72,   32],\n",
       "       [ 389,  316,  316, ...,  201,  316,   32],\n",
       "       [   0,    0,    0, ...,    0,    0,    0],\n",
       "       ...,\n",
       "       [  53,  177,  177, ...,   45,  177,   32],\n",
       "       [ 123,   48,   48, ...,   48,   48,   20],\n",
       "       [  53,   50,   50, ...,   34,   50,   20]])"
      ]
     },
     "execution_count": 25,
     "metadata": {},
     "output_type": "execute_result"
    }
   ],
   "source": [
    "X1"
   ]
  },
  {
   "cell_type": "code",
   "execution_count": 26,
   "id": "a61b033b",
   "metadata": {
    "papermill": {
     "duration": 0.056178,
     "end_time": "2024-02-11T10:52:48.916661",
     "exception": false,
     "start_time": "2024-02-11T10:52:48.860483",
     "status": "completed"
    },
    "tags": []
   },
   "outputs": [],
   "source": [
    "from sklearn.model_selection import train_test_split\n",
    "X_train, X_test, y_train, y_test = train_test_split(X1, y1, test_size=0.3, random_state=42)"
   ]
  },
  {
   "cell_type": "code",
   "execution_count": 27,
   "id": "ef6d8afa",
   "metadata": {
    "papermill": {
     "duration": 14.260297,
     "end_time": "2024-02-11T10:53:03.188781",
     "exception": false,
     "start_time": "2024-02-11T10:52:48.928484",
     "status": "completed"
    },
    "tags": []
   },
   "outputs": [],
   "source": [
    "import tensorflow as tf"
   ]
  },
  {
   "cell_type": "code",
   "execution_count": 28,
   "id": "f562bd39",
   "metadata": {
    "papermill": {
     "duration": 0.322128,
     "end_time": "2024-02-11T10:53:03.524930",
     "exception": false,
     "start_time": "2024-02-11T10:53:03.202802",
     "status": "completed"
    },
    "tags": []
   },
   "outputs": [],
   "source": [
    "ann = tf.keras.models.Sequential()"
   ]
  },
  {
   "cell_type": "code",
   "execution_count": 29,
   "id": "f9158471",
   "metadata": {
    "papermill": {
     "duration": 0.028699,
     "end_time": "2024-02-11T10:53:03.566096",
     "exception": false,
     "start_time": "2024-02-11T10:53:03.537397",
     "status": "completed"
    },
    "tags": []
   },
   "outputs": [],
   "source": [
    "ann.add(tf.keras.layers.Dense(units=10,activation='sigmoid'))"
   ]
  },
  {
   "cell_type": "code",
   "execution_count": 30,
   "id": "06c80e84",
   "metadata": {
    "papermill": {
     "duration": 0.023017,
     "end_time": "2024-02-11T10:53:03.601207",
     "exception": false,
     "start_time": "2024-02-11T10:53:03.578190",
     "status": "completed"
    },
    "tags": []
   },
   "outputs": [],
   "source": [
    "ann.add(tf.keras.layers.Dense(units=10,activation='sigmoid'))"
   ]
  },
  {
   "cell_type": "code",
   "execution_count": 31,
   "id": "92bf1c38",
   "metadata": {
    "papermill": {
     "duration": 0.02176,
     "end_time": "2024-02-11T10:53:03.635174",
     "exception": false,
     "start_time": "2024-02-11T10:53:03.613414",
     "status": "completed"
    },
    "tags": []
   },
   "outputs": [],
   "source": [
    "ann.add(tf.keras.layers.Dense(units=1,activation='sigmoid'))"
   ]
  },
  {
   "cell_type": "code",
   "execution_count": 32,
   "id": "0fa5d72c",
   "metadata": {
    "papermill": {
     "duration": 0.050817,
     "end_time": "2024-02-11T10:53:03.698723",
     "exception": false,
     "start_time": "2024-02-11T10:53:03.647906",
     "status": "completed"
    },
    "tags": []
   },
   "outputs": [],
   "source": [
    "ann.compile(optimizer ='adam' , loss='categorical_crossentropy' , metrics= ['accuracy'])"
   ]
  },
  {
   "cell_type": "code",
   "execution_count": 33,
   "id": "22688289",
   "metadata": {
    "papermill": {
     "duration": 0.023406,
     "end_time": "2024-02-11T10:53:03.734376",
     "exception": false,
     "start_time": "2024-02-11T10:53:03.710970",
     "status": "completed"
    },
    "tags": []
   },
   "outputs": [],
   "source": [
    "from tensorflow.keras.callbacks import EarlyStopping\n",
    "early_stopping = EarlyStopping(monitor='val_loss', patience=10)"
   ]
  },
  {
   "cell_type": "code",
   "execution_count": 34,
   "id": "17a2063d",
   "metadata": {
    "papermill": {
     "duration": 88.414072,
     "end_time": "2024-02-11T10:54:32.160360",
     "exception": false,
     "start_time": "2024-02-11T10:53:03.746288",
     "status": "completed"
    },
    "tags": []
   },
   "outputs": [
    {
     "name": "stdout",
     "output_type": "stream",
     "text": [
      "Epoch 1/10\n"
     ]
    },
    {
     "name": "stderr",
     "output_type": "stream",
     "text": [
      "C:\\Users\\grace\\AppData\\Local\\Programs\\Python\\Python312\\Lib\\site-packages\\keras\\src\\losses\\losses.py:27: SyntaxWarning: In loss categorical_crossentropy, expected y_pred.shape to be (batch_size, num_classes) with num_classes > 1. Received: y_pred.shape=(None, 1). Consider using 'binary_crossentropy' if you only have 2 classes.\n",
      "  return self.fn(y_true, y_pred, **self._fn_kwargs)\n"
     ]
    },
    {
     "name": "stdout",
     "output_type": "stream",
     "text": [
      "\u001b[1m4179/4179\u001b[0m \u001b[32m━━━━━━━━━━━━━━━━━━━━\u001b[0m\u001b[37m\u001b[0m \u001b[1m13s\u001b[0m 3ms/step - accuracy: 0.9123 - loss: 0.0000e+00\n",
      "Epoch 2/10\n",
      "\u001b[1m  22/4179\u001b[0m \u001b[37m━━━━━━━━━━━━━━━━━━━━\u001b[0m \u001b[1m10s\u001b[0m 2ms/step - accuracy: 0.9868 - loss: 0.0000e+00  "
     ]
    },
    {
     "name": "stderr",
     "output_type": "stream",
     "text": [
      "C:\\Users\\grace\\AppData\\Local\\Programs\\Python\\Python312\\Lib\\site-packages\\keras\\src\\callbacks\\early_stopping.py:155: UserWarning: Early stopping conditioned on metric `val_loss` which is not available. Available metrics are: accuracy,loss\n",
      "  current = self.get_monitor_value(logs)\n"
     ]
    },
    {
     "name": "stdout",
     "output_type": "stream",
     "text": [
      "\u001b[1m4179/4179\u001b[0m \u001b[32m━━━━━━━━━━━━━━━━━━━━\u001b[0m\u001b[37m\u001b[0m \u001b[1m11s\u001b[0m 3ms/step - accuracy: 0.9896 - loss: 0.0000e+00\n",
      "Epoch 3/10\n",
      "\u001b[1m4179/4179\u001b[0m \u001b[32m━━━━━━━━━━━━━━━━━━━━\u001b[0m\u001b[37m\u001b[0m \u001b[1m11s\u001b[0m 3ms/step - accuracy: 0.9896 - loss: 0.0000e+00\n",
      "Epoch 4/10\n",
      "\u001b[1m4179/4179\u001b[0m \u001b[32m━━━━━━━━━━━━━━━━━━━━\u001b[0m\u001b[37m\u001b[0m \u001b[1m12s\u001b[0m 3ms/step - accuracy: 0.9895 - loss: 0.0000e+00\n",
      "Epoch 5/10\n",
      "\u001b[1m4179/4179\u001b[0m \u001b[32m━━━━━━━━━━━━━━━━━━━━\u001b[0m\u001b[37m\u001b[0m \u001b[1m11s\u001b[0m 3ms/step - accuracy: 0.9894 - loss: 0.0000e+00\n",
      "Epoch 6/10\n",
      "\u001b[1m4179/4179\u001b[0m \u001b[32m━━━━━━━━━━━━━━━━━━━━\u001b[0m\u001b[37m\u001b[0m \u001b[1m11s\u001b[0m 3ms/step - accuracy: 0.9899 - loss: 0.0000e+00\n",
      "Epoch 7/10\n",
      "\u001b[1m4179/4179\u001b[0m \u001b[32m━━━━━━━━━━━━━━━━━━━━\u001b[0m\u001b[37m\u001b[0m \u001b[1m19s\u001b[0m 2ms/step - accuracy: 0.9895 - loss: 0.0000e+00\n",
      "Epoch 8/10\n",
      "\u001b[1m4179/4179\u001b[0m \u001b[32m━━━━━━━━━━━━━━━━━━━━\u001b[0m\u001b[37m\u001b[0m \u001b[1m11s\u001b[0m 3ms/step - accuracy: 0.9895 - loss: 0.0000e+00\n",
      "Epoch 9/10\n",
      "\u001b[1m4179/4179\u001b[0m \u001b[32m━━━━━━━━━━━━━━━━━━━━\u001b[0m\u001b[37m\u001b[0m \u001b[1m11s\u001b[0m 3ms/step - accuracy: 0.9901 - loss: 0.0000e+00\n",
      "Epoch 10/10\n",
      "\u001b[1m4179/4179\u001b[0m \u001b[32m━━━━━━━━━━━━━━━━━━━━\u001b[0m\u001b[37m\u001b[0m \u001b[1m11s\u001b[0m 3ms/step - accuracy: 0.9893 - loss: 0.0000e+00\n"
     ]
    },
    {
     "data": {
      "text/plain": [
       "<keras.src.callbacks.history.History at 0x1969ce682c0>"
      ]
     },
     "execution_count": 34,
     "metadata": {},
     "output_type": "execute_result"
    }
   ],
   "source": [
    "#training the ann on training set\n",
    "ann.fit(X_train,y_train,batch_size=32,epochs=10,callbacks=[early_stopping])"
   ]
  },
  {
   "cell_type": "code",
   "execution_count": 32,
   "id": "201cbdb4",
   "metadata": {
    "execution": {
     "iopub.execute_input": "2024-02-11T10:54:32.395412Z",
     "iopub.status.busy": "2024-02-11T10:54:32.394725Z",
     "iopub.status.idle": "2024-02-11T10:54:32.552703Z",
     "shell.execute_reply": "2024-02-11T10:54:32.551795Z"
    },
    "papermill": {
     "duration": 0.277789,
     "end_time": "2024-02-11T10:54:32.555346",
     "exception": false,
     "start_time": "2024-02-11T10:54:32.277557",
     "status": "completed"
    },
    "tags": []
   },
   "outputs": [
    {
     "name": "stdout",
     "output_type": "stream",
     "text": [
      "1/1 [==============================] - 0s 104ms/step\n",
      "[[0.]]\n"
     ]
    }
   ],
   "source": [
    "#gives the probabibility wheather the customer will churn or not\n",
    "print(ann.predict([[3268,72,72,0,0,0,0,201,72,32]]))"
   ]
  },
  {
   "cell_type": "code",
   "execution_count": 33,
   "id": "e040a3c6",
   "metadata": {
    "execution": {
     "iopub.execute_input": "2024-02-11T10:54:32.788045Z",
     "iopub.status.busy": "2024-02-11T10:54:32.787680Z",
     "iopub.status.idle": "2024-02-11T10:54:32.792591Z",
     "shell.execute_reply": "2024-02-11T10:54:32.791046Z"
    },
    "papermill": {
     "duration": 0.124434,
     "end_time": "2024-02-11T10:54:32.795086",
     "exception": false,
     "start_time": "2024-02-11T10:54:32.670652",
     "status": "completed"
    },
    "tags": []
   },
   "outputs": [],
   "source": [
    "from sklearn.linear_model import LinearRegression\n",
    "lr = LinearRegression()"
   ]
  },
  {
   "cell_type": "code",
   "execution_count": 34,
   "id": "1511fe96",
   "metadata": {
    "execution": {
     "iopub.execute_input": "2024-02-11T10:54:33.030069Z",
     "iopub.status.busy": "2024-02-11T10:54:33.029654Z",
     "iopub.status.idle": "2024-02-11T10:54:33.073813Z",
     "shell.execute_reply": "2024-02-11T10:54:33.072391Z"
    },
    "papermill": {
     "duration": 0.164621,
     "end_time": "2024-02-11T10:54:33.076060",
     "exception": false,
     "start_time": "2024-02-11T10:54:32.911439",
     "status": "completed"
    },
    "tags": []
   },
   "outputs": [],
   "source": [
    "from sklearn.model_selection import train_test_split\n",
    "X_train, X_test, y_train, y_test = train_test_split(df_new, y, test_size=0.3, random_state=42)"
   ]
  },
  {
   "cell_type": "code",
   "execution_count": 35,
   "id": "1c713500",
   "metadata": {
    "execution": {
     "iopub.execute_input": "2024-02-11T10:54:33.308707Z",
     "iopub.status.busy": "2024-02-11T10:54:33.308294Z",
     "iopub.status.idle": "2024-02-11T10:54:33.314419Z",
     "shell.execute_reply": "2024-02-11T10:54:33.313056Z"
    },
    "papermill": {
     "duration": 0.125777,
     "end_time": "2024-02-11T10:54:33.316837",
     "exception": false,
     "start_time": "2024-02-11T10:54:33.191060",
     "status": "completed"
    },
    "tags": []
   },
   "outputs": [
    {
     "name": "stdout",
     "output_type": "stream",
     "text": [
      "X_train shape: (133723, 11)\n",
      "X_test shape: (57310, 11)\n",
      "y_train shape: (133723,)\n",
      "y_test shape: (57310,)\n"
     ]
    }
   ],
   "source": [
    "print(\"X_train shape:\", X_train.shape)\n",
    "print(\"X_test shape:\", X_test.shape)\n",
    "print(\"y_train shape:\", y_train.shape)\n",
    "print(\"y_test shape:\", y_test.shape)\n"
   ]
  },
  {
   "cell_type": "code",
   "execution_count": 36,
   "id": "344ec70e",
   "metadata": {
    "execution": {
     "iopub.execute_input": "2024-02-11T10:54:33.548343Z",
     "iopub.status.busy": "2024-02-11T10:54:33.547636Z",
     "iopub.status.idle": "2024-02-11T10:54:33.623631Z",
     "shell.execute_reply": "2024-02-11T10:54:33.622697Z"
    },
    "papermill": {
     "duration": 0.195614,
     "end_time": "2024-02-11T10:54:33.625742",
     "exception": false,
     "start_time": "2024-02-11T10:54:33.430128",
     "status": "completed"
    },
    "tags": []
   },
   "outputs": [
    {
     "data": {
      "text/html": [
       "<style>#sk-container-id-1 {color: black;background-color: white;}#sk-container-id-1 pre{padding: 0;}#sk-container-id-1 div.sk-toggleable {background-color: white;}#sk-container-id-1 label.sk-toggleable__label {cursor: pointer;display: block;width: 100%;margin-bottom: 0;padding: 0.3em;box-sizing: border-box;text-align: center;}#sk-container-id-1 label.sk-toggleable__label-arrow:before {content: \"▸\";float: left;margin-right: 0.25em;color: #696969;}#sk-container-id-1 label.sk-toggleable__label-arrow:hover:before {color: black;}#sk-container-id-1 div.sk-estimator:hover label.sk-toggleable__label-arrow:before {color: black;}#sk-container-id-1 div.sk-toggleable__content {max-height: 0;max-width: 0;overflow: hidden;text-align: left;background-color: #f0f8ff;}#sk-container-id-1 div.sk-toggleable__content pre {margin: 0.2em;color: black;border-radius: 0.25em;background-color: #f0f8ff;}#sk-container-id-1 input.sk-toggleable__control:checked~div.sk-toggleable__content {max-height: 200px;max-width: 100%;overflow: auto;}#sk-container-id-1 input.sk-toggleable__control:checked~label.sk-toggleable__label-arrow:before {content: \"▾\";}#sk-container-id-1 div.sk-estimator input.sk-toggleable__control:checked~label.sk-toggleable__label {background-color: #d4ebff;}#sk-container-id-1 div.sk-label input.sk-toggleable__control:checked~label.sk-toggleable__label {background-color: #d4ebff;}#sk-container-id-1 input.sk-hidden--visually {border: 0;clip: rect(1px 1px 1px 1px);clip: rect(1px, 1px, 1px, 1px);height: 1px;margin: -1px;overflow: hidden;padding: 0;position: absolute;width: 1px;}#sk-container-id-1 div.sk-estimator {font-family: monospace;background-color: #f0f8ff;border: 1px dotted black;border-radius: 0.25em;box-sizing: border-box;margin-bottom: 0.5em;}#sk-container-id-1 div.sk-estimator:hover {background-color: #d4ebff;}#sk-container-id-1 div.sk-parallel-item::after {content: \"\";width: 100%;border-bottom: 1px solid gray;flex-grow: 1;}#sk-container-id-1 div.sk-label:hover label.sk-toggleable__label {background-color: #d4ebff;}#sk-container-id-1 div.sk-serial::before {content: \"\";position: absolute;border-left: 1px solid gray;box-sizing: border-box;top: 0;bottom: 0;left: 50%;z-index: 0;}#sk-container-id-1 div.sk-serial {display: flex;flex-direction: column;align-items: center;background-color: white;padding-right: 0.2em;padding-left: 0.2em;position: relative;}#sk-container-id-1 div.sk-item {position: relative;z-index: 1;}#sk-container-id-1 div.sk-parallel {display: flex;align-items: stretch;justify-content: center;background-color: white;position: relative;}#sk-container-id-1 div.sk-item::before, #sk-container-id-1 div.sk-parallel-item::before {content: \"\";position: absolute;border-left: 1px solid gray;box-sizing: border-box;top: 0;bottom: 0;left: 50%;z-index: -1;}#sk-container-id-1 div.sk-parallel-item {display: flex;flex-direction: column;z-index: 1;position: relative;background-color: white;}#sk-container-id-1 div.sk-parallel-item:first-child::after {align-self: flex-end;width: 50%;}#sk-container-id-1 div.sk-parallel-item:last-child::after {align-self: flex-start;width: 50%;}#sk-container-id-1 div.sk-parallel-item:only-child::after {width: 0;}#sk-container-id-1 div.sk-dashed-wrapped {border: 1px dashed gray;margin: 0 0.4em 0.5em 0.4em;box-sizing: border-box;padding-bottom: 0.4em;background-color: white;}#sk-container-id-1 div.sk-label label {font-family: monospace;font-weight: bold;display: inline-block;line-height: 1.2em;}#sk-container-id-1 div.sk-label-container {text-align: center;}#sk-container-id-1 div.sk-container {/* jupyter's `normalize.less` sets `[hidden] { display: none; }` but bootstrap.min.css set `[hidden] { display: none !important; }` so we also need the `!important` here to be able to override the default hidden behavior on the sphinx rendered scikit-learn.org. See: https://github.com/scikit-learn/scikit-learn/issues/21755 */display: inline-block !important;position: relative;}#sk-container-id-1 div.sk-text-repr-fallback {display: none;}</style><div id=\"sk-container-id-1\" class=\"sk-top-container\"><div class=\"sk-text-repr-fallback\"><pre>LinearRegression()</pre><b>In a Jupyter environment, please rerun this cell to show the HTML representation or trust the notebook. <br />On GitHub, the HTML representation is unable to render, please try loading this page with nbviewer.org.</b></div><div class=\"sk-container\" hidden><div class=\"sk-item\"><div class=\"sk-estimator sk-toggleable\"><input class=\"sk-toggleable__control sk-hidden--visually\" id=\"sk-estimator-id-1\" type=\"checkbox\" checked><label for=\"sk-estimator-id-1\" class=\"sk-toggleable__label sk-toggleable__label-arrow\">LinearRegression</label><div class=\"sk-toggleable__content\"><pre>LinearRegression()</pre></div></div></div></div></div>"
      ],
      "text/plain": [
       "LinearRegression()"
      ]
     },
     "execution_count": 36,
     "metadata": {},
     "output_type": "execute_result"
    }
   ],
   "source": [
    "lr.fit(X_train,y_train)"
   ]
  },
  {
   "cell_type": "code",
   "execution_count": 37,
   "id": "c5bcac03",
   "metadata": {
    "execution": {
     "iopub.execute_input": "2024-02-11T10:54:33.858023Z",
     "iopub.status.busy": "2024-02-11T10:54:33.857086Z",
     "iopub.status.idle": "2024-02-11T10:54:33.871684Z",
     "shell.execute_reply": "2024-02-11T10:54:33.870774Z"
    },
    "papermill": {
     "duration": 0.133651,
     "end_time": "2024-02-11T10:54:33.873990",
     "exception": false,
     "start_time": "2024-02-11T10:54:33.740339",
     "status": "completed"
    },
    "tags": []
   },
   "outputs": [],
   "source": [
    "y_pred = lr.predict(X_test)"
   ]
  },
  {
   "cell_type": "code",
   "execution_count": 38,
   "id": "67227924",
   "metadata": {
    "execution": {
     "iopub.execute_input": "2024-02-11T10:54:34.136947Z",
     "iopub.status.busy": "2024-02-11T10:54:34.136596Z",
     "iopub.status.idle": "2024-02-11T10:54:34.144612Z",
     "shell.execute_reply": "2024-02-11T10:54:34.143443Z"
    },
    "papermill": {
     "duration": 0.13061,
     "end_time": "2024-02-11T10:54:34.146704",
     "exception": false,
     "start_time": "2024-02-11T10:54:34.016094",
     "status": "completed"
    },
    "tags": []
   },
   "outputs": [
    {
     "name": "stdout",
     "output_type": "stream",
     "text": [
      "Mean Squared Error: 3.2960926872065415e-32\n",
      "R-squared: 1.0\n"
     ]
    }
   ],
   "source": [
    "from sklearn.metrics import mean_squared_error, r2_score\n",
    "print(\"Mean Squared Error:\",  mean_squared_error(y_test, y_pred))\n",
    "print(\"R-squared:\", r2_score(y_test, y_pred))"
   ]
  },
  {
   "cell_type": "code",
   "execution_count": null,
   "id": "5cb1e893",
   "metadata": {
    "papermill": {
     "duration": 0.114587,
     "end_time": "2024-02-11T10:54:34.380229",
     "exception": false,
     "start_time": "2024-02-11T10:54:34.265642",
     "status": "completed"
    },
    "tags": []
   },
   "outputs": [],
   "source": []
  },
  {
   "cell_type": "code",
   "execution_count": null,
   "id": "5938d129",
   "metadata": {
    "papermill": {
     "duration": 0.11406,
     "end_time": "2024-02-11T10:54:34.609699",
     "exception": false,
     "start_time": "2024-02-11T10:54:34.495639",
     "status": "completed"
    },
    "tags": []
   },
   "outputs": [],
   "source": []
  },
  {
   "cell_type": "code",
   "execution_count": null,
   "id": "2f0c24a7",
   "metadata": {
    "papermill": {
     "duration": 0.12089,
     "end_time": "2024-02-11T10:54:34.845311",
     "exception": false,
     "start_time": "2024-02-11T10:54:34.724421",
     "status": "completed"
    },
    "tags": []
   },
   "outputs": [],
   "source": []
  },
  {
   "cell_type": "code",
   "execution_count": null,
   "id": "eb6cda63",
   "metadata": {
    "papermill": {
     "duration": 0.11681,
     "end_time": "2024-02-11T10:54:35.079169",
     "exception": false,
     "start_time": "2024-02-11T10:54:34.962359",
     "status": "completed"
    },
    "tags": []
   },
   "outputs": [],
   "source": []
  },
  {
   "cell_type": "code",
   "execution_count": null,
   "id": "7157e601",
   "metadata": {
    "papermill": {
     "duration": 0.117845,
     "end_time": "2024-02-11T10:54:35.327313",
     "exception": false,
     "start_time": "2024-02-11T10:54:35.209468",
     "status": "completed"
    },
    "tags": []
   },
   "outputs": [],
   "source": []
  },
  {
   "cell_type": "code",
   "execution_count": null,
   "id": "64562de3",
   "metadata": {
    "papermill": {
     "duration": 0.172378,
     "end_time": "2024-02-11T10:54:35.614677",
     "exception": false,
     "start_time": "2024-02-11T10:54:35.442299",
     "status": "completed"
    },
    "tags": []
   },
   "outputs": [],
   "source": []
  },
  {
   "cell_type": "code",
   "execution_count": null,
   "id": "94a4126b",
   "metadata": {
    "papermill": {
     "duration": 0.114764,
     "end_time": "2024-02-11T10:54:35.847030",
     "exception": false,
     "start_time": "2024-02-11T10:54:35.732266",
     "status": "completed"
    },
    "tags": []
   },
   "outputs": [],
   "source": []
  },
  {
   "cell_type": "code",
   "execution_count": null,
   "id": "f5d25955",
   "metadata": {
    "papermill": {
     "duration": 0.114903,
     "end_time": "2024-02-11T10:54:36.078116",
     "exception": false,
     "start_time": "2024-02-11T10:54:35.963213",
     "status": "completed"
    },
    "tags": []
   },
   "outputs": [],
   "source": []
  },
  {
   "cell_type": "code",
   "execution_count": null,
   "id": "adff8dce",
   "metadata": {
    "papermill": {
     "duration": 0.117772,
     "end_time": "2024-02-11T10:54:36.311295",
     "exception": false,
     "start_time": "2024-02-11T10:54:36.193523",
     "status": "completed"
    },
    "tags": []
   },
   "outputs": [],
   "source": []
  },
  {
   "cell_type": "code",
   "execution_count": null,
   "id": "25636e4d",
   "metadata": {
    "papermill": {
     "duration": 0.118745,
     "end_time": "2024-02-11T10:54:36.547779",
     "exception": false,
     "start_time": "2024-02-11T10:54:36.429034",
     "status": "completed"
    },
    "tags": []
   },
   "outputs": [],
   "source": []
  },
  {
   "cell_type": "code",
   "execution_count": null,
   "id": "377a06c1",
   "metadata": {
    "papermill": {
     "duration": 0.115014,
     "end_time": "2024-02-11T10:54:36.779570",
     "exception": false,
     "start_time": "2024-02-11T10:54:36.664556",
     "status": "completed"
    },
    "tags": []
   },
   "outputs": [],
   "source": []
  },
  {
   "cell_type": "code",
   "execution_count": null,
   "id": "343cf2ac",
   "metadata": {
    "papermill": {
     "duration": 0.117599,
     "end_time": "2024-02-11T10:54:37.012756",
     "exception": false,
     "start_time": "2024-02-11T10:54:36.895157",
     "status": "completed"
    },
    "tags": []
   },
   "outputs": [],
   "source": []
  },
  {
   "cell_type": "code",
   "execution_count": null,
   "id": "4feb0bc5",
   "metadata": {
    "papermill": {
     "duration": 0.116436,
     "end_time": "2024-02-11T10:54:37.244380",
     "exception": false,
     "start_time": "2024-02-11T10:54:37.127944",
     "status": "completed"
    },
    "tags": []
   },
   "outputs": [],
   "source": []
  },
  {
   "cell_type": "code",
   "execution_count": null,
   "id": "65a85f7c",
   "metadata": {
    "papermill": {
     "duration": 0.1155,
     "end_time": "2024-02-11T10:54:37.476701",
     "exception": false,
     "start_time": "2024-02-11T10:54:37.361201",
     "status": "completed"
    },
    "tags": []
   },
   "outputs": [],
   "source": []
  },
  {
   "cell_type": "code",
   "execution_count": null,
   "id": "a067f7bd",
   "metadata": {
    "papermill": {
     "duration": 0.113445,
     "end_time": "2024-02-11T10:54:37.708213",
     "exception": false,
     "start_time": "2024-02-11T10:54:37.594768",
     "status": "completed"
    },
    "tags": []
   },
   "outputs": [],
   "source": []
  },
  {
   "cell_type": "code",
   "execution_count": null,
   "id": "53c0b339",
   "metadata": {
    "papermill": {
     "duration": 0.116269,
     "end_time": "2024-02-11T10:54:37.939553",
     "exception": false,
     "start_time": "2024-02-11T10:54:37.823284",
     "status": "completed"
    },
    "tags": []
   },
   "outputs": [],
   "source": []
  },
  {
   "cell_type": "code",
   "execution_count": null,
   "id": "a2a6d740",
   "metadata": {
    "papermill": {
     "duration": 0.115872,
     "end_time": "2024-02-11T10:54:38.173277",
     "exception": false,
     "start_time": "2024-02-11T10:54:38.057405",
     "status": "completed"
    },
    "tags": []
   },
   "outputs": [],
   "source": []
  }
 ],
 "metadata": {
  "kaggle": {
   "accelerator": "none",
   "dataSources": [
    {
     "datasetId": 3674161,
     "sourceId": 6376134,
     "sourceType": "datasetVersion"
    }
   ],
   "dockerImageVersionId": 30635,
   "isGpuEnabled": false,
   "isInternetEnabled": true,
   "language": "python",
   "sourceType": "notebook"
  },
  "kernelspec": {
   "display_name": "Python 3 (ipykernel)",
   "language": "python",
   "name": "python3"
  },
  "language_info": {
   "codemirror_mode": {
    "name": "ipython",
    "version": 3
   },
   "file_extension": ".py",
   "mimetype": "text/x-python",
   "name": "python",
   "nbconvert_exporter": "python",
   "pygments_lexer": "ipython3",
   "version": "3.12.4"
  },
  "papermill": {
   "default_parameters": {},
   "duration": 122.172381,
   "end_time": "2024-02-11T10:54:40.996784",
   "environment_variables": {},
   "exception": null,
   "input_path": "__notebook__.ipynb",
   "output_path": "__notebook__.ipynb",
   "parameters": {},
   "start_time": "2024-02-11T10:52:38.824403",
   "version": "2.4.0"
  }
 },
 "nbformat": 4,
 "nbformat_minor": 5
}
